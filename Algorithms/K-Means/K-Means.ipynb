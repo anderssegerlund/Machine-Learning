{
 "cells": [
  {
   "cell_type": "markdown",
   "id": "fdbf618a",
   "metadata": {},
   "source": [
    "## Create dataset"
   ]
  },
  {
   "cell_type": "code",
   "execution_count": 85,
   "id": "598794ae",
   "metadata": {},
   "outputs": [],
   "source": [
    "import random\n",
    "import numpy as np\n",
    "from sklearn.datasets import make_blobs\n",
    "import matplotlib.pyplot as plt\n",
    "%matplotlib inline"
   ]
  },
  {
   "cell_type": "code",
   "execution_count": 66,
   "id": "d6b0679b",
   "metadata": {},
   "outputs": [
    {
     "data": {
      "text/plain": [
       "<matplotlib.collections.PathCollection at 0x7feee428ccd0>"
      ]
     },
     "execution_count": 66,
     "metadata": {},
     "output_type": "execute_result"
    },
    {
     "data": {
      "image/png": "[encoded data removed]",
      "text/plain": [
       "<Figure size 432x288 with 1 Axes>"
      ]
     },
     "metadata": {
      "needs_background": "light"
     },
     "output_type": "display_data"
    }
   ],
   "source": [
    "data_points = 200\n",
    "clusters = 3\n",
    "X, y = make_blobs(n_samples=data_points, centers=clusters, n_features=3, cluster_std=1.8, random_state=None)\n",
    "plt.scatter(X[:,0],X[:,1])"
   ]
  },
  {
   "cell_type": "markdown",
   "id": "a2716965",
   "metadata": {},
   "source": [
    "## Algorithm"
   ]
  },
  {
   "cell_type": "code",
   "execution_count": null,
   "id": "f4a2bef3",
   "metadata": {},
   "outputs": [],
   "source": [
    "#1 Assume there are K clusters\n",
    "#2 Each cluster is defined by a position in the input space mu_k = [mu_k1, mu_k2]^T\n",
    "#3 Each x_n is assigned to its closest cluster\n",
    "#4 Distance is normally Euclidian distancebut other choices is also available"
   ]
  },
  {
   "cell_type": "code",
   "execution_count": 88,
   "id": "b60dea96",
   "metadata": {},
   "outputs": [],
   "source": [
    "K = 3"
   ]
  },
  {
   "cell_type": "code",
   "execution_count": null,
   "id": "28d04125",
   "metadata": {},
   "outputs": [],
   "source": []
  },
  {
   "cell_type": "code",
   "execution_count": 70,
   "id": "8af96258",
   "metadata": {},
   "outputs": [],
   "source": []
  },
  {
   "cell_type": "code",
   "execution_count": 80,
   "id": "1c85c99b",
   "metadata": {},
   "outputs": [],
   "source": []
  },
  {
   "cell_type": "code",
   "execution_count": null,
   "id": "50c2563b",
   "metadata": {},
   "outputs": [],
   "source": []
  },
  {
   "cell_type": "code",
   "execution_count": null,
   "id": "9dc1d59d",
   "metadata": {},
   "outputs": [],
   "source": []
  },
  {
   "cell_type": "code",
   "execution_count": null,
   "id": "0b7c1308",
   "metadata": {},
   "outputs": [],
   "source": []
  },
  {
   "cell_type": "code",
   "execution_count": 100,
   "id": "28a7c156",
   "metadata": {},
   "outputs": [],
   "source": [
    "def initiate_mu(X,K):\n",
    "    \"\"\"\n",
    "    X: Input data\n",
    "    K: Number of assumed clusters\n",
    "    \"\"\"\n",
    "    min_val = round(X.min())\n",
    "    max_val = round(X.max())\n",
    "    mu = np.zeros([K,2])\n",
    "    for i in range(K):\n",
    "        mu_k1 = random.randrange(min_val,max_val)\n",
    "        mu_k2 = random.randrange(min_val,max_val)\n",
    "        mu[i,:] = [mu_k1, mu_k2]\n",
    "        \n",
    "    return np.transpose(mu)"
   ]
  },
  {
   "cell_type": "code",
   "execution_count": 102,
   "id": "51354416",
   "metadata": {},
   "outputs": [
    {
     "data": {
      "text/plain": [
       "array([[12., -1.,  3.],\n",
       "       [ 5.,  7., -4.]])"
      ]
     },
     "execution_count": 102,
     "metadata": {},
     "output_type": "execute_result"
    }
   ],
   "source": [
    "mu = initiate_mu(X,K)\n",
    "mu"
   ]
  },
  {
   "cell_type": "code",
   "execution_count": 118,
   "id": "691a6ef5",
   "metadata": {},
   "outputs": [
    {
     "data": {
      "text/plain": [
       "<matplotlib.collections.PathCollection at 0x7feee4ff5910>"
      ]
     },
     "execution_count": 118,
     "metadata": {},
     "output_type": "execute_result"
    },
    {
     "data": {
      "image/png": "[encoded data removed]",
      "text/plain": [
       "<Figure size 432x288 with 1 Axes>"
      ]
     },
     "metadata": {
      "needs_background": "light"
     },
     "output_type": "display_data"
    }
   ],
   "source": [
    "plt.scatter(mu[0,:],mu[1,:],marker=\"^\",s=140,c=cluster)\n",
    "plt.scatter(X[:,0],X[:,1])"
   ]
  },
  {
   "cell_type": "code",
   "execution_count": null,
   "id": "e0fc2e91",
   "metadata": {},
   "outputs": [],
   "source": []
  },
  {
   "cell_type": "code",
   "execution_count": null,
   "id": "6984ee5f",
   "metadata": {},
   "outputs": [],
   "source": []
  }
 ],
 "metadata": {
  "kernelspec": {
   "display_name": "NLP",
   "language": "python",
   "name": "nlp"
  },
  "language_info": {
   "codemirror_mode": {
    "name": "ipython",
    "version": 3
   },
   "file_extension": ".py",
   "mimetype": "text/x-python",
   "name": "python",
   "nbconvert_exporter": "python",
   "pygments_lexer": "ipython3",
   "version": "3.8.12"
  }
 },
 "nbformat": 4,
 "nbformat_minor": 5
}
