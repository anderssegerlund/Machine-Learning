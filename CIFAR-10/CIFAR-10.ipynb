{
 "cells": [
  {
   "cell_type": "markdown",
   "id": "582856f4",
   "metadata": {},
   "source": [
    "# CIFAR-10"
   ]
  },
  {
   "cell_type": "code",
   "execution_count": 77,
   "id": "14f8de67",
   "metadata": {},
   "outputs": [],
   "source": [
    "import torch\n",
    "import torch.nn as nn\n",
    "import torch.nn.functional as F\n",
    "from torch.utils.data import DataLoader\n",
    "from torchvision import datasets, transforms\n",
    "from torchvision.utils import make_grid\n",
    "\n",
    "import numpy as np\n",
    "import pandas as pd\n",
    "import seaborn as sns\n",
    "from sklearn.metrics import confusion_matrix\n",
    "import matplotlib.pyplot as plt\n",
    "%matplotlib inline"
   ]
  },
  {
   "cell_type": "code",
   "execution_count": 78,
   "id": "419bda39",
   "metadata": {},
   "outputs": [],
   "source": [
    "transform = transforms.ToTensor()"
   ]
  },
  {
   "cell_type": "code",
   "execution_count": 79,
   "id": "7760e0dd",
   "metadata": {},
   "outputs": [
    {
     "name": "stdout",
     "output_type": "stream",
     "text": [
      "Files already downloaded and verified\n"
     ]
    }
   ],
   "source": [
    "train_data = datasets.CIFAR10(root=\"../Data\", train=True, download=True,transform=transform)"
   ]
  },
  {
   "cell_type": "code",
   "execution_count": 80,
   "id": "c18c1fa4",
   "metadata": {},
   "outputs": [
    {
     "name": "stdout",
     "output_type": "stream",
     "text": [
      "Files already downloaded and verified\n"
     ]
    }
   ],
   "source": [
    "test_data = datasets.CIFAR10(root=\"../Data\", train=False, download=True,transform=transform)"
   ]
  },
  {
   "cell_type": "code",
   "execution_count": 81,
   "id": "1c01301b",
   "metadata": {},
   "outputs": [],
   "source": [
    "torch.manual_seed(102)\n",
    "train_loader = DataLoader(train_data, batch_size=3, shuffle=True)\n",
    "test_loader = DataLoader(test_data, batch_size=3, shuffle=False)"
   ]
  },
  {
   "cell_type": "code",
   "execution_count": 82,
   "id": "d91019b2",
   "metadata": {},
   "outputs": [],
   "source": [
    "class_names = ['plane', '  car', ' bird', '  cat', ' deer', '  dog', ' frog', 'horse', ' ship', 'truck']"
   ]
  },
  {
   "cell_type": "code",
   "execution_count": 83,
   "id": "88627cc0",
   "metadata": {},
   "outputs": [],
   "source": [
    "for images, labels in train_loader:\n",
    "    break"
   ]
  },
  {
   "cell_type": "code",
   "execution_count": 84,
   "id": "27772e4d",
   "metadata": {},
   "outputs": [
    {
     "data": {
      "text/plain": [
       "tensor([2, 9, 5])"
      ]
     },
     "execution_count": 84,
     "metadata": {},
     "output_type": "execute_result"
    }
   ],
   "source": [
    "labels"
   ]
  },
  {
   "cell_type": "code",
   "execution_count": 85,
   "id": "59eb10be",
   "metadata": {},
   "outputs": [
    {
     "data": {
      "text/plain": [
       "torch.Size([3, 3, 32, 32])"
      ]
     },
     "execution_count": 85,
     "metadata": {},
     "output_type": "execute_result"
    }
   ],
   "source": [
    "images.shape"
   ]
  },
  {
   "cell_type": "code",
   "execution_count": 86,
   "id": "ab31bd7e",
   "metadata": {},
   "outputs": [
    {
     "name": "stdout",
     "output_type": "stream",
     "text": [
      "Label: [2 9 5]\n",
      "Class: [' bird' 'truck' '  dog']\n"
     ]
    },
    {
     "data": {
      "text/plain": [
       "<matplotlib.image.AxesImage at 0x7fe09b4059d0>"
      ]
     },
     "execution_count": 86,
     "metadata": {},
     "output_type": "execute_result"
    },
    {
     "data": {
      "image/png": "[encoded data removed]",
      "text/plain": [
       "<Figure size 720x288 with 1 Axes>"
      ]
     },
     "metadata": {
      "needs_background": "light"
     },
     "output_type": "display_data"
    }
   ],
   "source": [
    "print(\"Label:\", labels.numpy())\n",
    "print(\"Class:\", np.array([class_names[i] for i in labels]))\n",
    "\n",
    "im = make_grid(images, nrow=5)\n",
    "plt.figure(figsize=(10,4))\n",
    "plt.imshow(np.transpose(im.numpy(),(1,2,0)))"
   ]
  },
  {
   "cell_type": "markdown",
   "id": "04f3ec06",
   "metadata": {},
   "source": [
    "## Creating the model"
   ]
  },
  {
   "cell_type": "code",
   "execution_count": 87,
   "id": "a07802c1",
   "metadata": {},
   "outputs": [],
   "source": [
    "class Convolutionalnetwork(nn.Module):\n",
    "    def __init__(self):\n",
    "        super().__init__()\n",
    "        self.conv1 = nn.Conv2d(3,6,5,1) # 3:input channel (3 colors),6: output Channels (filters) (arbitrary),5: Kernel. ,1: Stide\n",
    "        self.conv2 = nn.Conv2d(6,16,3,1) # 16 and 3 is arbitrary and can be modified for better training performance\n",
    "        self.fc1 = nn.Linear(6*6*16,120) # Se pytorch lect 68 ca 5 min hur denna räknas ut\n",
    "        self.fc2 = nn.Linear(120,84)\n",
    "        self.fc3 = nn.Linear(84,10)\n",
    "        \n",
    "    def forward(self,X):\n",
    "        X = self.conv1(X)\n",
    "        X = F.relu(X)\n",
    "        X = F.max_pool2d(X,2,2)\n",
    "        X = self.conv2(X)\n",
    "        X = F.relu(X)\n",
    "        X = F.max_pool2d(X,2,2)\n",
    "        X = X.view(-1,6*6*16)\n",
    "        X = self.fc1(X)\n",
    "        X = F.relu(X)\n",
    "        X = self.fc2(X)\n",
    "        X = F.relu(X)\n",
    "        X = self.fc3(X)\n",
    "        return F.log_softmax(X,dim=1)\n",
    "        "
   ]
  },
  {
   "cell_type": "code",
   "execution_count": 88,
   "id": "8bbb8f3e",
   "metadata": {},
   "outputs": [
    {
     "data": {
      "text/plain": [
       "Convolutionalnetwork(\n",
       "  (conv1): Conv2d(3, 6, kernel_size=(5, 5), stride=(1, 1))\n",
       "  (conv2): Conv2d(6, 16, kernel_size=(3, 3), stride=(1, 1))\n",
       "  (fc1): Linear(in_features=576, out_features=120, bias=True)\n",
       "  (fc2): Linear(in_features=120, out_features=84, bias=True)\n",
       "  (fc3): Linear(in_features=84, out_features=10, bias=True)\n",
       ")"
      ]
     },
     "execution_count": 88,
     "metadata": {},
     "output_type": "execute_result"
    }
   ],
   "source": [
    "torch.manual_seed(101)\n",
    "model = Convolutionalnetwork()\n",
    "model"
   ]
  },
  {
   "cell_type": "code",
   "execution_count": 89,
   "id": "d5544c14",
   "metadata": {},
   "outputs": [
    {
     "name": "stdout",
     "output_type": "stream",
     "text": [
      "450\n",
      "6\n",
      "864\n",
      "16\n",
      "69120\n",
      "120\n",
      "10080\n",
      "84\n",
      "840\n",
      "10\n"
     ]
    }
   ],
   "source": [
    "for param in model.parameters():\n",
    "    print(param.numel())"
   ]
  },
  {
   "cell_type": "code",
   "execution_count": 90,
   "id": "0e5fe9ac",
   "metadata": {},
   "outputs": [],
   "source": [
    "criterion = nn.CrossEntropyLoss()\n",
    "optimizer = torch.optim.Adam(model.parameters(), lr=0.001)"
   ]
  },
  {
   "cell_type": "code",
   "execution_count": 92,
   "id": "dd8390b1",
   "metadata": {},
   "outputs": [
    {
     "name": "stdout",
     "output_type": "stream",
     "text": [
      "EPOCH  0 BATCH:  600 [  6000/50000] LOSS: 1.474320411682129 accuracy:    10.9%\n",
      "EPOCH  0 BATCH: 1200 [ 12000/50000] LOSS: 1.6861225366592407 accuracy:    11.4%\n",
      "EPOCH  0 BATCH: 1800 [ 18000/50000] LOSS: 0.8157472014427185 accuracy:    11.8%\n",
      "EPOCH  0 BATCH: 2400 [ 24000/50000] LOSS: 1.188211441040039 accuracy:    12.0%\n",
      "EPOCH  0 BATCH: 3000 [ 30000/50000] LOSS: 1.4639838933944702 accuracy:    12.2%\n",
      "EPOCH  0 BATCH: 3600 [ 36000/50000] LOSS: 3.057734489440918 accuracy:    12.3%\n",
      "EPOCH  0 BATCH: 4200 [ 42000/50000] LOSS: 1.0897340774536133 accuracy:    12.3%\n",
      "EPOCH  0 BATCH: 4800 [ 48000/50000] LOSS: 1.7162370681762695 accuracy:    12.4%\n",
      "EPOCH  0 BATCH: 5400 [ 54000/50000] LOSS: 1.8587208986282349 accuracy:    12.5%\n",
      "EPOCH  0 BATCH: 6000 [ 60000/50000] LOSS: 1.4873228073120117 accuracy:    12.6%\n",
      "EPOCH  0 BATCH: 6600 [ 66000/50000] LOSS: 1.7962716817855835 accuracy:    12.7%\n",
      "EPOCH  0 BATCH: 7200 [ 72000/50000] LOSS: 1.6310491561889648 accuracy:    12.8%\n",
      "EPOCH  0 BATCH: 7800 [ 78000/50000] LOSS: 1.246428370475769 accuracy:    12.9%\n",
      "EPOCH  0 BATCH: 8400 [ 84000/50000] LOSS: 1.153088092803955 accuracy:    12.9%\n",
      "EPOCH  0 BATCH: 9000 [ 90000/50000] LOSS: 2.2280516624450684 accuracy:    13.0%\n",
      "EPOCH  0 BATCH: 9600 [ 96000/50000] LOSS: 1.5181642770767212 accuracy:    13.0%\n",
      "EPOCH  0 BATCH: 10200 [102000/50000] LOSS: 1.214197039604187 accuracy:    13.1%\n",
      "EPOCH  0 BATCH: 10800 [108000/50000] LOSS: 1.3741835355758667 accuracy:    13.1%\n",
      "EPOCH  0 BATCH: 11400 [114000/50000] LOSS: 0.7938003540039062 accuracy:    13.2%\n",
      "EPOCH  0 BATCH: 12000 [120000/50000] LOSS: 1.0318502187728882 accuracy:    13.2%\n",
      "EPOCH  0 BATCH: 12600 [126000/50000] LOSS: 2.2134056091308594 accuracy:    13.3%\n",
      "EPOCH  0 BATCH: 13200 [132000/50000] LOSS: 0.5056011080741882 accuracy:    13.4%\n",
      "EPOCH  0 BATCH: 13800 [138000/50000] LOSS: 0.8083617091178894 accuracy:    13.4%\n",
      "EPOCH  0 BATCH: 14400 [144000/50000] LOSS: 2.547145128250122 accuracy:    13.4%\n",
      "EPOCH  0 BATCH: 15000 [150000/50000] LOSS: 0.5840849280357361 accuracy:    13.5%\n",
      "EPOCH  0 BATCH: 15600 [156000/50000] LOSS: 1.508840560913086 accuracy:    13.5%\n",
      "EPOCH  0 BATCH: 16200 [162000/50000] LOSS: 1.7460808753967285 accuracy:    13.6%\n",
      "EPOCH  1 BATCH:  600 [  6000/50000] LOSS: 1.2521976232528687 accuracy:    15.7%\n",
      "EPOCH  1 BATCH: 1200 [ 12000/50000] LOSS: 0.4626501500606537 accuracy:    15.4%\n",
      "EPOCH  1 BATCH: 1800 [ 18000/50000] LOSS: 1.3181265592575073 accuracy:    15.3%\n",
      "EPOCH  1 BATCH: 2400 [ 24000/50000] LOSS: 1.1693004369735718 accuracy:    15.1%\n",
      "EPOCH  1 BATCH: 3000 [ 30000/50000] LOSS: 0.5738140940666199 accuracy:    15.1%\n",
      "EPOCH  1 BATCH: 3600 [ 36000/50000] LOSS: 1.3303568363189697 accuracy:    15.1%\n",
      "EPOCH  1 BATCH: 4200 [ 42000/50000] LOSS: 2.321277618408203 accuracy:    15.1%\n",
      "EPOCH  1 BATCH: 4800 [ 48000/50000] LOSS: 1.6323221921920776 accuracy:    15.2%\n",
      "EPOCH  1 BATCH: 5400 [ 54000/50000] LOSS: 0.9142640233039856 accuracy:    15.2%\n",
      "EPOCH  1 BATCH: 6000 [ 60000/50000] LOSS: 1.2624527215957642 accuracy:    15.2%\n",
      "EPOCH  1 BATCH: 6600 [ 66000/50000] LOSS: 0.7961697578430176 accuracy:    15.3%\n",
      "EPOCH  1 BATCH: 7200 [ 72000/50000] LOSS: 2.4527595043182373 accuracy:    15.3%\n",
      "EPOCH  1 BATCH: 7800 [ 78000/50000] LOSS: 2.773472785949707 accuracy:    15.3%\n",
      "EPOCH  1 BATCH: 8400 [ 84000/50000] LOSS: 1.2977417707443237 accuracy:    15.4%\n",
      "EPOCH  1 BATCH: 9000 [ 90000/50000] LOSS: 2.777615785598755 accuracy:    15.4%\n",
      "EPOCH  1 BATCH: 9600 [ 96000/50000] LOSS: 1.4978913068771362 accuracy:    15.5%\n",
      "EPOCH  1 BATCH: 10200 [102000/50000] LOSS: 0.4711192548274994 accuracy:    15.5%\n",
      "EPOCH  1 BATCH: 10800 [108000/50000] LOSS: 0.9875395894050598 accuracy:    15.5%\n",
      "EPOCH  1 BATCH: 11400 [114000/50000] LOSS: 3.3037328720092773 accuracy:    15.6%\n",
      "EPOCH  1 BATCH: 12000 [120000/50000] LOSS: 2.535250186920166 accuracy:    15.6%\n",
      "EPOCH  1 BATCH: 12600 [126000/50000] LOSS: 1.5504465103149414 accuracy:    15.6%\n",
      "EPOCH  1 BATCH: 13200 [132000/50000] LOSS: 4.79066276550293 accuracy:    15.6%\n",
      "EPOCH  1 BATCH: 13800 [138000/50000] LOSS: 1.6026935577392578 accuracy:    15.6%\n",
      "EPOCH  1 BATCH: 14400 [144000/50000] LOSS: 0.7801162600517273 accuracy:    15.7%\n",
      "EPOCH  1 BATCH: 15000 [150000/50000] LOSS: 0.5518683791160583 accuracy:    15.7%\n",
      "EPOCH  1 BATCH: 15600 [156000/50000] LOSS: 0.7913722991943359 accuracy:    15.7%\n",
      "EPOCH  1 BATCH: 16200 [162000/50000] LOSS: 0.5389760136604309 accuracy:    15.7%\n",
      "EPOCH  2 BATCH:  600 [  6000/50000] LOSS: 0.5266819000244141 accuracy:    17.0%\n",
      "EPOCH  2 BATCH: 1200 [ 12000/50000] LOSS: 1.203750729560852 accuracy:    16.8%\n",
      "EPOCH  2 BATCH: 1800 [ 18000/50000] LOSS: 0.7856746315956116 accuracy:    16.6%\n",
      "EPOCH  2 BATCH: 2400 [ 24000/50000] LOSS: 1.0131884813308716 accuracy:    16.6%\n",
      "EPOCH  2 BATCH: 3000 [ 30000/50000] LOSS: 1.5307079553604126 accuracy:    16.7%\n",
      "EPOCH  2 BATCH: 3600 [ 36000/50000] LOSS: 0.5355104207992554 accuracy:    16.7%\n",
      "EPOCH  2 BATCH: 4200 [ 42000/50000] LOSS: 1.227868914604187 accuracy:    16.7%\n",
      "EPOCH  2 BATCH: 4800 [ 48000/50000] LOSS: 1.0467129945755005 accuracy:    16.7%\n",
      "EPOCH  2 BATCH: 5400 [ 54000/50000] LOSS: 0.8533452153205872 accuracy:    16.6%\n",
      "EPOCH  2 BATCH: 6000 [ 60000/50000] LOSS: 1.2045564651489258 accuracy:    16.6%\n",
      "EPOCH  2 BATCH: 6600 [ 66000/50000] LOSS: 0.8632926940917969 accuracy:    16.6%\n",
      "EPOCH  2 BATCH: 7200 [ 72000/50000] LOSS: 3.43481707572937 accuracy:    16.6%\n",
      "EPOCH  2 BATCH: 7800 [ 78000/50000] LOSS: 1.5788084268569946 accuracy:    16.7%\n",
      "EPOCH  2 BATCH: 8400 [ 84000/50000] LOSS: 1.754083275794983 accuracy:    16.7%\n",
      "EPOCH  2 BATCH: 9000 [ 90000/50000] LOSS: 1.1601206064224243 accuracy:    16.7%\n",
      "EPOCH  2 BATCH: 9600 [ 96000/50000] LOSS: 0.7787958979606628 accuracy:    16.7%\n",
      "EPOCH  2 BATCH: 10200 [102000/50000] LOSS: 1.268997073173523 accuracy:    16.7%\n",
      "EPOCH  2 BATCH: 10800 [108000/50000] LOSS: 1.4106136560440063 accuracy:    16.7%\n",
      "EPOCH  2 BATCH: 11400 [114000/50000] LOSS: 2.2696526050567627 accuracy:    16.7%\n",
      "EPOCH  2 BATCH: 12000 [120000/50000] LOSS: 0.4270637333393097 accuracy:    16.7%\n",
      "EPOCH  2 BATCH: 12600 [126000/50000] LOSS: 0.9587390422821045 accuracy:    16.8%\n",
      "EPOCH  2 BATCH: 13200 [132000/50000] LOSS: 0.6407067775726318 accuracy:    16.8%\n",
      "EPOCH  2 BATCH: 13800 [138000/50000] LOSS: 0.4351970851421356 accuracy:    16.8%\n",
      "EPOCH  2 BATCH: 14400 [144000/50000] LOSS: 1.8443632125854492 accuracy:    16.8%\n",
      "EPOCH  2 BATCH: 15000 [150000/50000] LOSS: 1.1096885204315186 accuracy:    16.8%\n",
      "EPOCH  2 BATCH: 15600 [156000/50000] LOSS: 1.3678160905838013 accuracy:    16.8%\n",
      "EPOCH  2 BATCH: 16200 [162000/50000] LOSS: 0.2893613278865814 accuracy:    16.8%\n",
      "EPOCH  3 BATCH:  600 [  6000/50000] LOSS: 1.5812755823135376 accuracy:    17.8%\n",
      "EPOCH  3 BATCH: 1200 [ 12000/50000] LOSS: 0.0633915513753891 accuracy:    17.6%\n",
      "EPOCH  3 BATCH: 1800 [ 18000/50000] LOSS: 0.6276708245277405 accuracy:    17.7%\n",
      "EPOCH  3 BATCH: 2400 [ 24000/50000] LOSS: 0.8643674254417419 accuracy:    17.6%\n",
      "EPOCH  3 BATCH: 3000 [ 30000/50000] LOSS: 0.785491406917572 accuracy:    17.6%\n",
      "EPOCH  3 BATCH: 3600 [ 36000/50000] LOSS: 2.040043592453003 accuracy:    17.6%\n",
      "EPOCH  3 BATCH: 4200 [ 42000/50000] LOSS: 1.2501689195632935 accuracy:    17.6%\n",
      "EPOCH  3 BATCH: 4800 [ 48000/50000] LOSS: 1.2576980590820312 accuracy:    17.6%\n",
      "EPOCH  3 BATCH: 5400 [ 54000/50000] LOSS: 0.7188878059387207 accuracy:    17.6%\n",
      "EPOCH  3 BATCH: 6000 [ 60000/50000] LOSS: 1.3558145761489868 accuracy:    17.6%\n",
      "EPOCH  3 BATCH: 6600 [ 66000/50000] LOSS: 2.1935842037200928 accuracy:    17.6%\n",
      "EPOCH  3 BATCH: 7200 [ 72000/50000] LOSS: 1.384913444519043 accuracy:    17.6%\n",
      "EPOCH  3 BATCH: 7800 [ 78000/50000] LOSS: 0.3945726156234741 accuracy:    17.6%\n",
      "EPOCH  3 BATCH: 8400 [ 84000/50000] LOSS: 2.208773374557495 accuracy:    17.6%\n",
      "EPOCH  3 BATCH: 9000 [ 90000/50000] LOSS: 0.8654945492744446 accuracy:    17.6%\n",
      "EPOCH  3 BATCH: 9600 [ 96000/50000] LOSS: 0.9006649851799011 accuracy:    17.6%\n",
      "EPOCH  3 BATCH: 10200 [102000/50000] LOSS: 0.1494748294353485 accuracy:    17.6%\n",
      "EPOCH  3 BATCH: 10800 [108000/50000] LOSS: 1.2814794778823853 accuracy:    17.6%\n",
      "EPOCH  3 BATCH: 11400 [114000/50000] LOSS: 0.7476028800010681 accuracy:    17.5%\n",
      "EPOCH  3 BATCH: 12000 [120000/50000] LOSS: 0.7094072699546814 accuracy:    17.6%\n",
      "EPOCH  3 BATCH: 12600 [126000/50000] LOSS: 1.035377860069275 accuracy:    17.6%\n",
      "EPOCH  3 BATCH: 13200 [132000/50000] LOSS: 0.9375327229499817 accuracy:    17.6%\n"
     ]
    },
    {
     "name": "stdout",
     "output_type": "stream",
     "text": [
      "EPOCH  3 BATCH: 13800 [138000/50000] LOSS: 1.3889236450195312 accuracy:    17.6%\n",
      "EPOCH  3 BATCH: 14400 [144000/50000] LOSS: 0.34324702620506287 accuracy:    17.6%\n",
      "EPOCH  3 BATCH: 15000 [150000/50000] LOSS: 2.0745255947113037 accuracy:    17.6%\n",
      "EPOCH  3 BATCH: 15600 [156000/50000] LOSS: 1.8942108154296875 accuracy:    17.5%\n",
      "EPOCH  3 BATCH: 16200 [162000/50000] LOSS: 0.38924217224121094 accuracy:    17.5%\n",
      "EPOCH  4 BATCH:  600 [  6000/50000] LOSS: 0.9390604496002197 accuracy:    18.1%\n",
      "EPOCH  4 BATCH: 1200 [ 12000/50000] LOSS: 0.6415125727653503 accuracy:    18.0%\n",
      "EPOCH  4 BATCH: 1800 [ 18000/50000] LOSS: 0.6662397384643555 accuracy:    18.1%\n",
      "EPOCH  4 BATCH: 2400 [ 24000/50000] LOSS: 0.3740178346633911 accuracy:    18.1%\n",
      "EPOCH  4 BATCH: 3000 [ 30000/50000] LOSS: 0.055320579558610916 accuracy:    18.2%\n",
      "EPOCH  4 BATCH: 3600 [ 36000/50000] LOSS: 0.5191233158111572 accuracy:    18.3%\n",
      "EPOCH  4 BATCH: 4200 [ 42000/50000] LOSS: 1.2754267454147339 accuracy:    18.3%\n",
      "EPOCH  4 BATCH: 4800 [ 48000/50000] LOSS: 2.152308702468872 accuracy:    18.3%\n",
      "EPOCH  4 BATCH: 5400 [ 54000/50000] LOSS: 0.9113121628761292 accuracy:    18.4%\n",
      "EPOCH  4 BATCH: 6000 [ 60000/50000] LOSS: 1.7075406312942505 accuracy:    18.4%\n",
      "EPOCH  4 BATCH: 6600 [ 66000/50000] LOSS: 0.5522015690803528 accuracy:    18.4%\n",
      "EPOCH  4 BATCH: 7200 [ 72000/50000] LOSS: 0.6792849898338318 accuracy:    18.4%\n",
      "EPOCH  4 BATCH: 7800 [ 78000/50000] LOSS: 0.27077516913414 accuracy:    18.3%\n",
      "EPOCH  4 BATCH: 8400 [ 84000/50000] LOSS: 0.4486507177352905 accuracy:    18.3%\n",
      "EPOCH  4 BATCH: 9000 [ 90000/50000] LOSS: 0.6480700373649597 accuracy:    18.3%\n",
      "EPOCH  4 BATCH: 9600 [ 96000/50000] LOSS: 0.44765233993530273 accuracy:    18.3%\n",
      "EPOCH  4 BATCH: 10200 [102000/50000] LOSS: 0.026891758665442467 accuracy:    18.3%\n",
      "EPOCH  4 BATCH: 10800 [108000/50000] LOSS: 0.9180795550346375 accuracy:    18.2%\n",
      "EPOCH  4 BATCH: 11400 [114000/50000] LOSS: 0.6744343638420105 accuracy:    18.2%\n",
      "EPOCH  4 BATCH: 12000 [120000/50000] LOSS: 1.1080154180526733 accuracy:    18.2%\n",
      "EPOCH  4 BATCH: 12600 [126000/50000] LOSS: 0.5526310801506042 accuracy:    18.2%\n",
      "EPOCH  4 BATCH: 13200 [132000/50000] LOSS: 1.4931310415267944 accuracy:    18.2%\n",
      "EPOCH  4 BATCH: 13800 [138000/50000] LOSS: 0.8506694436073303 accuracy:    18.2%\n",
      "EPOCH  4 BATCH: 14400 [144000/50000] LOSS: 0.2655458152294159 accuracy:    18.2%\n",
      "EPOCH  4 BATCH: 15000 [150000/50000] LOSS: 1.4654970169067383 accuracy:    18.2%\n",
      "EPOCH  4 BATCH: 15600 [156000/50000] LOSS: 1.1141546964645386 accuracy:    18.1%\n",
      "EPOCH  4 BATCH: 16200 [162000/50000] LOSS: 2.0878474712371826 accuracy:    18.1%\n",
      "EPOCH  5 BATCH:  600 [  6000/50000] LOSS: 0.1910870522260666 accuracy:    18.1%\n",
      "EPOCH  5 BATCH: 1200 [ 12000/50000] LOSS: 0.4384807348251343 accuracy:    18.7%\n",
      "EPOCH  5 BATCH: 1800 [ 18000/50000] LOSS: 0.323092520236969 accuracy:    18.7%\n",
      "EPOCH  5 BATCH: 2400 [ 24000/50000] LOSS: 0.12655027210712433 accuracy:    18.6%\n",
      "EPOCH  5 BATCH: 3000 [ 30000/50000] LOSS: 0.827996015548706 accuracy:    18.7%\n",
      "EPOCH  5 BATCH: 3600 [ 36000/50000] LOSS: 0.40821483731269836 accuracy:    18.6%\n",
      "EPOCH  5 BATCH: 4200 [ 42000/50000] LOSS: 0.4760998785495758 accuracy:    18.7%\n",
      "EPOCH  5 BATCH: 4800 [ 48000/50000] LOSS: 1.0767549276351929 accuracy:    18.7%\n",
      "EPOCH  5 BATCH: 5400 [ 54000/50000] LOSS: 0.6440129280090332 accuracy:    18.6%\n",
      "EPOCH  5 BATCH: 6000 [ 60000/50000] LOSS: 0.5389731526374817 accuracy:    18.6%\n",
      "EPOCH  5 BATCH: 6600 [ 66000/50000] LOSS: 0.6516720652580261 accuracy:    18.6%\n",
      "EPOCH  5 BATCH: 7200 [ 72000/50000] LOSS: 1.4751663208007812 accuracy:    18.6%\n",
      "EPOCH  5 BATCH: 7800 [ 78000/50000] LOSS: 0.8760628700256348 accuracy:    18.6%\n",
      "EPOCH  5 BATCH: 8400 [ 84000/50000] LOSS: 1.6884512901306152 accuracy:    18.6%\n",
      "EPOCH  5 BATCH: 9000 [ 90000/50000] LOSS: 1.232092022895813 accuracy:    18.6%\n",
      "EPOCH  5 BATCH: 9600 [ 96000/50000] LOSS: 0.5634810328483582 accuracy:    18.6%\n",
      "EPOCH  5 BATCH: 10200 [102000/50000] LOSS: 0.3354370594024658 accuracy:    18.6%\n",
      "EPOCH  5 BATCH: 10800 [108000/50000] LOSS: 2.4923431873321533 accuracy:    18.6%\n",
      "EPOCH  5 BATCH: 11400 [114000/50000] LOSS: 0.7556414604187012 accuracy:    18.5%\n",
      "EPOCH  5 BATCH: 12000 [120000/50000] LOSS: 0.41970309615135193 accuracy:    18.5%\n",
      "EPOCH  5 BATCH: 12600 [126000/50000] LOSS: 2.595754384994507 accuracy:    18.5%\n",
      "EPOCH  5 BATCH: 13200 [132000/50000] LOSS: 0.450626015663147 accuracy:    18.5%\n",
      "EPOCH  5 BATCH: 13800 [138000/50000] LOSS: 1.7609590291976929 accuracy:    18.5%\n",
      "EPOCH  5 BATCH: 14400 [144000/50000] LOSS: 0.6027781367301941 accuracy:    18.5%\n",
      "EPOCH  5 BATCH: 15000 [150000/50000] LOSS: 0.39452946186065674 accuracy:    18.5%\n",
      "EPOCH  5 BATCH: 15600 [156000/50000] LOSS: 1.8552132844924927 accuracy:    18.5%\n",
      "EPOCH  5 BATCH: 16200 [162000/50000] LOSS: 0.04104034602642059 accuracy:    18.5%\n",
      "EPOCH  6 BATCH:  600 [  6000/50000] LOSS: 1.5535691976547241 accuracy:    19.1%\n",
      "EPOCH  6 BATCH: 1200 [ 12000/50000] LOSS: 0.5224699378013611 accuracy:    19.3%\n",
      "EPOCH  6 BATCH: 1800 [ 18000/50000] LOSS: 1.0655319690704346 accuracy:    19.1%\n",
      "EPOCH  6 BATCH: 2400 [ 24000/50000] LOSS: 1.202150583267212 accuracy:    19.1%\n",
      "EPOCH  6 BATCH: 3000 [ 30000/50000] LOSS: 2.04146671295166 accuracy:    18.9%\n",
      "EPOCH  6 BATCH: 3600 [ 36000/50000] LOSS: 0.7266578674316406 accuracy:    18.9%\n",
      "EPOCH  6 BATCH: 4200 [ 42000/50000] LOSS: 1.2950698137283325 accuracy:    18.9%\n",
      "EPOCH  6 BATCH: 4800 [ 48000/50000] LOSS: 2.13769268989563 accuracy:    18.9%\n",
      "EPOCH  6 BATCH: 5400 [ 54000/50000] LOSS: 0.7576467990875244 accuracy:    18.9%\n",
      "EPOCH  6 BATCH: 6000 [ 60000/50000] LOSS: 1.6873852014541626 accuracy:    18.9%\n",
      "EPOCH  6 BATCH: 6600 [ 66000/50000] LOSS: 0.06151563301682472 accuracy:    18.9%\n",
      "EPOCH  6 BATCH: 7200 [ 72000/50000] LOSS: 0.41105547547340393 accuracy:    18.9%\n",
      "EPOCH  6 BATCH: 7800 [ 78000/50000] LOSS: 0.5057953000068665 accuracy:    18.9%\n",
      "EPOCH  6 BATCH: 8400 [ 84000/50000] LOSS: 1.2444990873336792 accuracy:    18.9%\n",
      "EPOCH  6 BATCH: 9000 [ 90000/50000] LOSS: 2.5279808044433594 accuracy:    18.9%\n",
      "EPOCH  6 BATCH: 9600 [ 96000/50000] LOSS: 0.5765268802642822 accuracy:    18.9%\n",
      "EPOCH  6 BATCH: 10200 [102000/50000] LOSS: 0.4083627462387085 accuracy:    18.9%\n",
      "EPOCH  6 BATCH: 10800 [108000/50000] LOSS: 0.7165429592132568 accuracy:    18.9%\n",
      "EPOCH  6 BATCH: 11400 [114000/50000] LOSS: 0.3914378881454468 accuracy:    18.9%\n",
      "EPOCH  6 BATCH: 12000 [120000/50000] LOSS: 1.51582670211792 accuracy:    18.9%\n",
      "EPOCH  6 BATCH: 12600 [126000/50000] LOSS: 0.1831393986940384 accuracy:    18.9%\n",
      "EPOCH  6 BATCH: 13200 [132000/50000] LOSS: 1.9542217254638672 accuracy:    18.9%\n",
      "EPOCH  6 BATCH: 13800 [138000/50000] LOSS: 0.7531349062919617 accuracy:    18.9%\n",
      "EPOCH  6 BATCH: 14400 [144000/50000] LOSS: 1.8459129333496094 accuracy:    18.9%\n",
      "EPOCH  6 BATCH: 15000 [150000/50000] LOSS: 0.9631698727607727 accuracy:    18.8%\n",
      "EPOCH  6 BATCH: 15600 [156000/50000] LOSS: 0.8163569569587708 accuracy:    18.8%\n",
      "EPOCH  6 BATCH: 16200 [162000/50000] LOSS: 0.5093770623207092 accuracy:    18.8%\n",
      "EPOCH  7 BATCH:  600 [  6000/50000] LOSS: 0.9964184761047363 accuracy:    19.1%\n",
      "EPOCH  7 BATCH: 1200 [ 12000/50000] LOSS: 2.435795307159424 accuracy:    19.2%\n",
      "EPOCH  7 BATCH: 1800 [ 18000/50000] LOSS: 0.47399190068244934 accuracy:    19.2%\n",
      "EPOCH  7 BATCH: 2400 [ 24000/50000] LOSS: 0.14140553772449493 accuracy:    19.2%\n",
      "EPOCH  7 BATCH: 3000 [ 30000/50000] LOSS: 0.5586717128753662 accuracy:    19.2%\n",
      "EPOCH  7 BATCH: 3600 [ 36000/50000] LOSS: 1.5596758127212524 accuracy:    19.2%\n",
      "EPOCH  7 BATCH: 4200 [ 42000/50000] LOSS: 0.10384184867143631 accuracy:    19.2%\n",
      "EPOCH  7 BATCH: 4800 [ 48000/50000] LOSS: 0.4129734933376312 accuracy:    19.3%\n",
      "EPOCH  7 BATCH: 5400 [ 54000/50000] LOSS: 0.2794502079486847 accuracy:    19.3%\n",
      "EPOCH  7 BATCH: 6000 [ 60000/50000] LOSS: 1.474023461341858 accuracy:    19.2%\n",
      "EPOCH  7 BATCH: 6600 [ 66000/50000] LOSS: 0.6307222843170166 accuracy:    19.2%\n",
      "EPOCH  7 BATCH: 7200 [ 72000/50000] LOSS: 0.47628188133239746 accuracy:    19.2%\n",
      "EPOCH  7 BATCH: 7800 [ 78000/50000] LOSS: 0.2609199583530426 accuracy:    19.2%\n",
      "EPOCH  7 BATCH: 8400 [ 84000/50000] LOSS: 0.6232447028160095 accuracy:    19.2%\n",
      "EPOCH  7 BATCH: 9000 [ 90000/50000] LOSS: 2.5952978134155273 accuracy:    19.2%\n",
      "EPOCH  7 BATCH: 9600 [ 96000/50000] LOSS: 0.950770378112793 accuracy:    19.1%\n"
     ]
    },
    {
     "name": "stdout",
     "output_type": "stream",
     "text": [
      "EPOCH  7 BATCH: 10200 [102000/50000] LOSS: 1.8590649366378784 accuracy:    19.1%\n",
      "EPOCH  7 BATCH: 10800 [108000/50000] LOSS: 1.021400809288025 accuracy:    19.1%\n",
      "EPOCH  7 BATCH: 11400 [114000/50000] LOSS: 0.6618285179138184 accuracy:    19.2%\n",
      "EPOCH  7 BATCH: 12000 [120000/50000] LOSS: 0.9946624636650085 accuracy:    19.2%\n",
      "EPOCH  7 BATCH: 12600 [126000/50000] LOSS: 0.9177135825157166 accuracy:    19.2%\n",
      "EPOCH  7 BATCH: 13200 [132000/50000] LOSS: 0.22567622363567352 accuracy:    19.1%\n",
      "EPOCH  7 BATCH: 13800 [138000/50000] LOSS: 1.3448610305786133 accuracy:    19.1%\n",
      "EPOCH  7 BATCH: 14400 [144000/50000] LOSS: 0.6753535270690918 accuracy:    19.1%\n",
      "EPOCH  7 BATCH: 15000 [150000/50000] LOSS: 1.1190760135650635 accuracy:    19.1%\n",
      "EPOCH  7 BATCH: 15600 [156000/50000] LOSS: 0.3252566158771515 accuracy:    19.1%\n",
      "EPOCH  7 BATCH: 16200 [162000/50000] LOSS: 1.100185513496399 accuracy:    19.1%\n",
      "EPOCH  8 BATCH:  600 [  6000/50000] LOSS: 0.6877951622009277 accuracy:    19.8%\n",
      "EPOCH  8 BATCH: 1200 [ 12000/50000] LOSS: 0.8642892837524414 accuracy:    19.9%\n",
      "EPOCH  8 BATCH: 1800 [ 18000/50000] LOSS: 0.9853129386901855 accuracy:    19.8%\n",
      "EPOCH  8 BATCH: 2400 [ 24000/50000] LOSS: 0.6376488208770752 accuracy:    19.8%\n",
      "EPOCH  8 BATCH: 3000 [ 30000/50000] LOSS: 2.2571215629577637 accuracy:    19.8%\n",
      "EPOCH  8 BATCH: 3600 [ 36000/50000] LOSS: 0.14248554408550262 accuracy:    19.7%\n",
      "EPOCH  8 BATCH: 4200 [ 42000/50000] LOSS: 0.2871333658695221 accuracy:    19.7%\n",
      "EPOCH  8 BATCH: 4800 [ 48000/50000] LOSS: 0.3028486669063568 accuracy:    19.7%\n",
      "EPOCH  8 BATCH: 5400 [ 54000/50000] LOSS: 0.5192428827285767 accuracy:    19.7%\n",
      "EPOCH  8 BATCH: 6000 [ 60000/50000] LOSS: 1.6918138265609741 accuracy:    19.6%\n",
      "EPOCH  8 BATCH: 6600 [ 66000/50000] LOSS: 0.7275791168212891 accuracy:    19.5%\n",
      "EPOCH  8 BATCH: 7200 [ 72000/50000] LOSS: 0.5855738520622253 accuracy:    19.5%\n",
      "EPOCH  8 BATCH: 7800 [ 78000/50000] LOSS: 1.4436239004135132 accuracy:    19.5%\n",
      "EPOCH  8 BATCH: 8400 [ 84000/50000] LOSS: 1.6672263145446777 accuracy:    19.5%\n",
      "EPOCH  8 BATCH: 9000 [ 90000/50000] LOSS: 0.2818627953529358 accuracy:    19.5%\n",
      "EPOCH  8 BATCH: 9600 [ 96000/50000] LOSS: 0.1595330685377121 accuracy:    19.5%\n",
      "EPOCH  8 BATCH: 10200 [102000/50000] LOSS: 1.6897708177566528 accuracy:    19.5%\n",
      "EPOCH  8 BATCH: 10800 [108000/50000] LOSS: 0.20489823818206787 accuracy:    19.5%\n",
      "EPOCH  8 BATCH: 11400 [114000/50000] LOSS: 2.263953924179077 accuracy:    19.5%\n",
      "EPOCH  8 BATCH: 12000 [120000/50000] LOSS: 0.6916046738624573 accuracy:    19.5%\n",
      "EPOCH  8 BATCH: 12600 [126000/50000] LOSS: 2.2843830585479736 accuracy:    19.4%\n",
      "EPOCH  8 BATCH: 13200 [132000/50000] LOSS: 0.640492856502533 accuracy:    19.4%\n",
      "EPOCH  8 BATCH: 13800 [138000/50000] LOSS: 0.29893919825553894 accuracy:    19.4%\n",
      "EPOCH  8 BATCH: 14400 [144000/50000] LOSS: 0.29191169142723083 accuracy:    19.4%\n",
      "EPOCH  8 BATCH: 15000 [150000/50000] LOSS: 1.0247503519058228 accuracy:    19.3%\n",
      "EPOCH  8 BATCH: 15600 [156000/50000] LOSS: 1.2569750547409058 accuracy:    19.3%\n",
      "EPOCH  8 BATCH: 16200 [162000/50000] LOSS: 1.6807198524475098 accuracy:    19.3%\n",
      "EPOCH  9 BATCH:  600 [  6000/50000] LOSS: 0.20367968082427979 accuracy:    20.4%\n",
      "EPOCH  9 BATCH: 1200 [ 12000/50000] LOSS: 1.29241943359375 accuracy:    20.0%\n",
      "EPOCH  9 BATCH: 1800 [ 18000/50000] LOSS: 0.9311091303825378 accuracy:    19.9%\n",
      "EPOCH  9 BATCH: 2400 [ 24000/50000] LOSS: 1.7301985025405884 accuracy:    19.9%\n",
      "EPOCH  9 BATCH: 3000 [ 30000/50000] LOSS: 0.5177976489067078 accuracy:    19.9%\n",
      "EPOCH  9 BATCH: 3600 [ 36000/50000] LOSS: 1.0094462633132935 accuracy:    19.9%\n",
      "EPOCH  9 BATCH: 4200 [ 42000/50000] LOSS: 0.9840800762176514 accuracy:    19.8%\n",
      "EPOCH  9 BATCH: 4800 [ 48000/50000] LOSS: 2.4191653728485107 accuracy:    19.8%\n",
      "EPOCH  9 BATCH: 5400 [ 54000/50000] LOSS: 1.594139575958252 accuracy:    19.8%\n",
      "EPOCH  9 BATCH: 6000 [ 60000/50000] LOSS: 1.8013275861740112 accuracy:    19.8%\n",
      "EPOCH  9 BATCH: 6600 [ 66000/50000] LOSS: 0.8177453875541687 accuracy:    19.8%\n",
      "EPOCH  9 BATCH: 7200 [ 72000/50000] LOSS: 1.5124306678771973 accuracy:    19.7%\n",
      "EPOCH  9 BATCH: 7800 [ 78000/50000] LOSS: 1.0156458616256714 accuracy:    19.7%\n",
      "EPOCH  9 BATCH: 8400 [ 84000/50000] LOSS: 1.6066397428512573 accuracy:    19.7%\n",
      "EPOCH  9 BATCH: 9000 [ 90000/50000] LOSS: 0.28800469636917114 accuracy:    19.7%\n",
      "EPOCH  9 BATCH: 9600 [ 96000/50000] LOSS: 1.201859951019287 accuracy:    19.7%\n",
      "EPOCH  9 BATCH: 10200 [102000/50000] LOSS: 0.29519063234329224 accuracy:    19.6%\n",
      "EPOCH  9 BATCH: 10800 [108000/50000] LOSS: 1.6423988342285156 accuracy:    19.6%\n",
      "EPOCH  9 BATCH: 11400 [114000/50000] LOSS: 0.8411891460418701 accuracy:    19.5%\n",
      "EPOCH  9 BATCH: 12000 [120000/50000] LOSS: 0.3764860928058624 accuracy:    19.6%\n",
      "EPOCH  9 BATCH: 12600 [126000/50000] LOSS: 0.3358275592327118 accuracy:    19.5%\n",
      "EPOCH  9 BATCH: 13200 [132000/50000] LOSS: 0.2614689767360687 accuracy:    19.6%\n",
      "EPOCH  9 BATCH: 13800 [138000/50000] LOSS: 1.4827446937561035 accuracy:    19.6%\n",
      "EPOCH  9 BATCH: 14400 [144000/50000] LOSS: 1.453513741493225 accuracy:    19.5%\n",
      "EPOCH  9 BATCH: 15000 [150000/50000] LOSS: 0.3322187662124634 accuracy:    19.5%\n",
      "EPOCH  9 BATCH: 15600 [156000/50000] LOSS: 0.8780853152275085 accuracy:    19.5%\n",
      "EPOCH  9 BATCH: 16200 [162000/50000] LOSS: 0.14559167623519897 accuracy:    19.5%\n",
      "Training took 8.613800533612569 minutes\n"
     ]
    }
   ],
   "source": [
    "import time\n",
    "start_time = time.time()\n",
    "\n",
    "# Variables (trackers)\n",
    "epochs = 10\n",
    "\n",
    "train_losses = []\n",
    "test_losses = []\n",
    "train_correct = []\n",
    "test_correct = []\n",
    "\n",
    "\n",
    "# For loop epochs\n",
    "for i in range(epochs):\n",
    "\n",
    "    trn_corr = 0\n",
    "    tst_corr = 0 \n",
    "\n",
    "    # Train \n",
    "    for b, (X_train, y_train) in enumerate(train_loader):\n",
    "        b+=1\n",
    "        \n",
    "        y_pred = model(X_train) # NOTE. No need to flatten as conv2d expect 2d data\n",
    "        lossTrain = criterion(y_pred, y_train)\n",
    "        #lossTrain = criterion(y_pred, y_train).data\n",
    "\n",
    "        predicted = torch.max(y_pred.data,1)[1]\n",
    "        batch_corr = (predicted == y_train).sum() # True 1 / False 0 \n",
    "        trn_corr += batch_corr\n",
    "\n",
    "        optimizer.zero_grad()\n",
    "        lossTrain.backward()\n",
    "        optimizer.step()\n",
    "\n",
    "        if b%600 == 0:\n",
    "            print(f\"EPOCH {i:2} BATCH: {b:4} [{10*b:6}/50000] LOSS: {lossTrain.item()} accuracy: {trn_corr.item()*100/(10*b):7.3}%\")\n",
    "    train_losses.append(lossTrain.data.item())\n",
    "    train_correct.append(trn_corr)\n",
    "\n",
    "    # Test (If we feed in test data during traing, how well will it perform)\n",
    "    with torch.no_grad():\n",
    "        for b,(X_test, y_test) in enumerate(test_loader):\n",
    "\n",
    "            y_val = model(X_test)\n",
    "\n",
    "            predicted = torch.max(y_val.data,1)[1]\n",
    "            tst_corr += (predicted == y_test).sum()\n",
    "\n",
    "        loss = criterion(y_val, y_test)\n",
    "        test_losses.append(loss)\n",
    "        test_correct.append(tst_corr)\n",
    "\n",
    "current_time = time.time() \n",
    "total = current_time - start_time\n",
    "print(f\"Training took {total/60} minutes\")"
   ]
  },
  {
   "cell_type": "code",
   "execution_count": null,
   "id": "c6902786",
   "metadata": {},
   "outputs": [],
   "source": []
  },
  {
   "cell_type": "markdown",
   "id": "1d01eb75",
   "metadata": {},
   "source": [
    "## Save the model"
   ]
  },
  {
   "cell_type": "code",
   "execution_count": null,
   "id": "c1ede4b0",
   "metadata": {},
   "outputs": [],
   "source": []
  },
  {
   "cell_type": "code",
   "execution_count": 95,
   "id": "c9aa60f4",
   "metadata": {},
   "outputs": [],
   "source": [
    "torch.save(model.state_dict(),\"MyCIFAR.pt\")"
   ]
  },
  {
   "cell_type": "markdown",
   "id": "49bbc7ce",
   "metadata": {},
   "source": [
    "## Evaluate performance"
   ]
  },
  {
   "cell_type": "code",
   "execution_count": 96,
   "id": "d41eb797",
   "metadata": {},
   "outputs": [
    {
     "data": {
      "text/plain": [
       "<matplotlib.legend.Legend at 0x7fe062cdf8e0>"
      ]
     },
     "execution_count": 96,
     "metadata": {},
     "output_type": "execute_result"
    },
    {
     "data": {
      "image/png": "[encoded data removed]",
      "text/plain": [
       "<Figure size 432x288 with 1 Axes>"
      ]
     },
     "metadata": {
      "needs_background": "light"
     },
     "output_type": "display_data"
    }
   ],
   "source": [
    "#Evaluate performance\n",
    "plt.plot(train_losses,label=\"Train loss\")\n",
    "plt.plot(test_losses, label=\"Validation loss\")\n",
    "plt.legend()"
   ]
  },
  {
   "cell_type": "markdown",
   "id": "a419c774",
   "metadata": {},
   "source": [
    "## Accuracy"
   ]
  },
  {
   "cell_type": "code",
   "execution_count": 97,
   "id": "f09d565c",
   "metadata": {},
   "outputs": [
    {
     "data": {
      "text/plain": [
       "<matplotlib.legend.Legend at 0x7fe061759220>"
      ]
     },
     "execution_count": 97,
     "metadata": {},
     "output_type": "execute_result"
    },
    {
     "data": {
      "image/png": "[encoded data removed]",
      "text/plain": [
       "<Figure size 432x288 with 1 Axes>"
      ]
     },
     "metadata": {
      "needs_background": "light"
     },
     "output_type": "display_data"
    }
   ],
   "source": [
    "plt.plot([t/600 for t in train_correct], label=\"training accuracy\")\n",
    "plt.plot([t/100 for t in train_correct], label=\"validation accuracy\")\n",
    "plt.title(\"Accuracy at the end of each epoch\")\n",
    "plt.legend()"
   ]
  },
  {
   "cell_type": "markdown",
   "id": "36f86eea",
   "metadata": {},
   "source": [
    "## Test on unseen dataset"
   ]
  },
  {
   "cell_type": "code",
   "execution_count": 99,
   "id": "3ff0bcd6",
   "metadata": {},
   "outputs": [
    {
     "data": {
      "image/png": "[encoded data removed]",
      "text/plain": [
       "<Figure size 648x432 with 2 Axes>"
      ]
     },
     "metadata": {
      "needs_background": "light"
     },
     "output_type": "display_data"
    }
   ],
   "source": [
    "## Create loader\n",
    "\n",
    "test_load_all = DataLoader(test_data, batch_size=10000, shuffle=False)\n",
    "\n",
    "with torch.no_grad():\n",
    "    correct = 0\n",
    "    for X_test, y_test in test_load_all:\n",
    "        y_val = model(X_test)\n",
    "        predicted = torch.max(y_val,1)[1]\n",
    "        correct += (predicted == y_test).sum()\n",
    "        break\n",
    "        \n",
    "arr = confusion_matrix(y_test.view(-1), predicted.view(-1))\n",
    "df_cm = pd.DataFrame(arr, class_names, class_names)\n",
    "plt.figure(figsize=(9,6))\n",
    "sns.heatmap(df_cm, annot=True, fmt=\"d\", cmap=\"BuGn\")\n",
    "plt.xlabel(\"prediction\")\n",
    "plt.ylabel(\"label (ground truth)\")\n",
    "plt.show()\n"
   ]
  },
  {
   "cell_type": "code",
   "execution_count": 101,
   "id": "f9fc6aa5",
   "metadata": {},
   "outputs": [
    {
     "data": {
      "text/plain": [
       "10000"
      ]
     },
     "execution_count": 101,
     "metadata": {},
     "output_type": "execute_result"
    }
   ],
   "source": [
    "len(predicted)"
   ]
  },
  {
   "cell_type": "code",
   "execution_count": 27,
   "id": "5db95853",
   "metadata": {},
   "outputs": [
    {
     "data": {
      "text/plain": [
       "tensor([3, 8])"
      ]
     },
     "execution_count": 27,
     "metadata": {},
     "output_type": "execute_result"
    }
   ],
   "source": [
    "predicted.view(-1)[0:2]"
   ]
  },
  {
   "cell_type": "code",
   "execution_count": 28,
   "id": "f789edd8",
   "metadata": {},
   "outputs": [
    {
     "data": {
      "text/plain": [
       "array([[1, 0],\n",
       "       [0, 1]])"
      ]
     },
     "execution_count": 28,
     "metadata": {},
     "output_type": "execute_result"
    }
   ],
   "source": [
    "confusion_matrix(y_test.view(-1)[0:2], predicted.view(-1)[0:2])"
   ]
  },
  {
   "cell_type": "code",
   "execution_count": 75,
   "id": "11af9eee",
   "metadata": {},
   "outputs": [
    {
     "data": {
      "text/plain": [
       "array([[491,  30,  40,  61,  42,  12,  21,  20, 204,  79],\n",
       "       [ 17, 653,   7,  37,   9,   5,  35,  12,  48, 177],\n",
       "       [ 60,  12, 212, 130, 235, 160,  92,  34,  40,  25],\n",
       "       [ 14,  11,  20, 474,  78, 215, 116,  35,  18,  19],\n",
       "       [ 32,   4,  26, 111, 526,  86, 103,  73,  21,  18],\n",
       "       [  7,   6,  25, 224,  68, 541,  54,  50,  12,  13],\n",
       "       [  7,   9,  14,  88, 102,  52, 693,  15,   6,  14],\n",
       "       [ 13,   2,  16, 100,  67, 130,  27, 600,   5,  40],\n",
       "       [ 55,  45,   7,  31,  10,   9,  17,  12, 754,  60],\n",
       "       [ 33, 142,   4,  47,   8,  18,  29,  23,  48, 648]])"
      ]
     },
     "execution_count": 75,
     "metadata": {},
     "output_type": "execute_result"
    }
   ],
   "source": [
    "arr"
   ]
  },
  {
   "cell_type": "code",
   "execution_count": null,
   "id": "c92b4c51",
   "metadata": {},
   "outputs": [],
   "source": []
  }
 ],
 "metadata": {
  "kernelspec": {
   "display_name": "NLP",
   "language": "python",
   "name": "nlp"
  },
  "language_info": {
   "codemirror_mode": {
    "name": "ipython",
    "version": 3
   },
   "file_extension": ".py",
   "mimetype": "text/x-python",
   "name": "python",
   "nbconvert_exporter": "python",
   "pygments_lexer": "ipython3",
   "version": "3.8.12"
  }
 },
 "nbformat": 4,
 "nbformat_minor": 5
}
