{
 "cells": [
  {
   "cell_type": "markdown",
   "metadata": {},
   "source": [
    "## Imports"
   ]
  },
  {
   "cell_type": "code",
   "execution_count": 107,
   "metadata": {},
   "outputs": [],
   "source": [
    "import torch\n",
    "import torch.nn as nn\n",
    "import torch.nn.functional as F\n",
    "from torch.utils.data import DataLoader\n",
    "from torchvision import datasets, transforms\n",
    "from torchvision.utils import make_grid\n",
    "\n",
    "import numpy as np\n",
    "import pandas as pd\n",
    "from sklearn.metrics import confusion_matrix\n",
    "import matplotlib.pyplot as plt\n",
    "%matplotlib inline"
   ]
  },
  {
   "cell_type": "markdown",
   "metadata": {},
   "source": [
    "## Load MNIST dataset"
   ]
  },
  {
   "cell_type": "code",
   "execution_count": 108,
   "metadata": {},
   "outputs": [],
   "source": [
    "transform = transforms.ToTensor()"
   ]
  },
  {
   "cell_type": "code",
   "execution_count": 109,
   "metadata": {},
   "outputs": [],
   "source": [
    "train_data = datasets.MNIST(root='../Data', train=True, download=True, transform=transform)"
   ]
  },
  {
   "cell_type": "code",
   "execution_count": 110,
   "metadata": {},
   "outputs": [],
   "source": [
    "test_data = datasets.MNIST(root='../Data', train=False, download=True, transform=transform)"
   ]
  },
  {
   "cell_type": "code",
   "execution_count": 111,
   "metadata": {},
   "outputs": [
    {
     "data": {
      "text/plain": [
       "Dataset MNIST\n",
       "    Number of datapoints: 60000\n",
       "    Root location: ../Data\n",
       "    Split: Train\n",
       "    StandardTransform\n",
       "Transform: ToTensor()"
      ]
     },
     "execution_count": 111,
     "metadata": {},
     "output_type": "execute_result"
    }
   ],
   "source": [
    "train_data"
   ]
  },
  {
   "cell_type": "code",
   "execution_count": 112,
   "metadata": {},
   "outputs": [
    {
     "data": {
      "text/plain": [
       "Dataset MNIST\n",
       "    Number of datapoints: 10000\n",
       "    Root location: ../Data\n",
       "    Split: Test\n",
       "    StandardTransform\n",
       "Transform: ToTensor()"
      ]
     },
     "execution_count": 112,
     "metadata": {},
     "output_type": "execute_result"
    }
   ],
   "source": [
    "test_data"
   ]
  },
  {
   "cell_type": "markdown",
   "metadata": {},
   "source": [
    "## Create loaders"
   ]
  },
  {
   "cell_type": "code",
   "execution_count": 113,
   "metadata": {},
   "outputs": [],
   "source": [
    "train_loader = DataLoader(train_data, batch_size=6, shuffle=True)\n",
    "test_loader = DataLoader(test_data, batch_size=6, shuffle=False)"
   ]
  },
  {
   "cell_type": "code",
   "execution_count": 114,
   "metadata": {},
   "outputs": [
    {
     "data": {
      "text/plain": [
       "torch.Size([6, 1, 28, 28])"
      ]
     },
     "execution_count": 114,
     "metadata": {},
     "output_type": "execute_result"
    }
   ],
   "source": [
    "for b, (X_train, y_train) in enumerate(train_loader):\n",
    "    break\n",
    "X_train.shape"
   ]
  },
  {
   "cell_type": "markdown",
   "metadata": {},
   "source": [
    "## Create CNN class"
   ]
  },
  {
   "cell_type": "code",
   "execution_count": 115,
   "metadata": {},
   "outputs": [],
   "source": [
    "class ConvolutionalNetwork(nn.Module):\n",
    "    def __init__(self):\n",
    "        super().__init__()\n",
    "        self.conv1 = nn.Conv2d(1,6,3,1)\n",
    "        self.conv2 = nn.Conv2d(6,16,3,1)\n",
    "        self.fc1 = nn.Linear(5*5*16,120)# 120 is arbitrary\n",
    "        self.fc2 = nn.Linear(120,84)\n",
    "        self.fc3 = nn.Linear(84,10)\n",
    "        \n",
    "    def forward(self,X):\n",
    "        X = F.relu(self.conv1(X))\n",
    "        X = F.max_pool2d(X,2,2)\n",
    "        X = F.relu(self.conv2(X))\n",
    "        X = F.max_pool2d(X,2,2)\n",
    "\n",
    "        X = X.view(-1,16*5*5)\n",
    "        X = F.relu(self.fc1(X))\n",
    "        X = F.relu(self.fc2(X))\n",
    "        X = self.fc3(X)\n",
    "\n",
    "        return F.log_softmax(X,dim=1)"
   ]
  },
  {
   "cell_type": "code",
   "execution_count": 116,
   "metadata": {},
   "outputs": [
    {
     "data": {
      "text/plain": [
       "ConvolutionalNetwork(\n",
       "  (conv1): Conv2d(1, 6, kernel_size=(3, 3), stride=(1, 1))\n",
       "  (conv2): Conv2d(6, 16, kernel_size=(3, 3), stride=(1, 1))\n",
       "  (fc1): Linear(in_features=400, out_features=120, bias=True)\n",
       "  (fc2): Linear(in_features=120, out_features=84, bias=True)\n",
       "  (fc3): Linear(in_features=84, out_features=10, bias=True)\n",
       ")"
      ]
     },
     "execution_count": 116,
     "metadata": {},
     "output_type": "execute_result"
    }
   ],
   "source": [
    "torch.manual_seed(42)\n",
    "model = ConvolutionalNetwork()\n",
    "model"
   ]
  },
  {
   "cell_type": "markdown",
   "metadata": {},
   "source": [
    "## Check amout of parameters in model"
   ]
  },
  {
   "cell_type": "code",
   "execution_count": 31,
   "metadata": {},
   "outputs": [
    {
     "name": "stdout",
     "output_type": "stream",
     "text": [
      "54\n",
      "6\n",
      "864\n",
      "16\n",
      "48000\n",
      "120\n",
      "10080\n",
      "84\n",
      "840\n",
      "10\n"
     ]
    }
   ],
   "source": [
    "for param in model.parameters():\n",
    "    print(param.numel())"
   ]
  },
  {
   "cell_type": "code",
   "execution_count": null,
   "metadata": {},
   "outputs": [],
   "source": []
  },
  {
   "cell_type": "markdown",
   "metadata": {},
   "source": [
    "## Define loss func and optimizer"
   ]
  },
  {
   "cell_type": "code",
   "execution_count": 32,
   "metadata": {},
   "outputs": [],
   "source": [
    "criterion = nn.CrossEntropyLoss()\n",
    "optimizer = torch.optim.Adam(model.parameters(), lr=0.001)"
   ]
  },
  {
   "cell_type": "code",
   "execution_count": 33,
   "metadata": {},
   "outputs": [],
   "source": [
    "for b, (X_train, y_train) in enumerate(train_loader):\n",
    "    break"
   ]
  },
  {
   "cell_type": "code",
   "execution_count": 34,
   "metadata": {},
   "outputs": [
    {
     "data": {
      "text/plain": [
       "torch.Size([6, 1, 28, 28])"
      ]
     },
     "execution_count": 34,
     "metadata": {},
     "output_type": "execute_result"
    }
   ],
   "source": [
    "X_train.shape"
   ]
  },
  {
   "cell_type": "code",
   "execution_count": null,
   "metadata": {},
   "outputs": [],
   "source": []
  },
  {
   "cell_type": "markdown",
   "metadata": {},
   "source": [
    "## Train the model"
   ]
  },
  {
   "cell_type": "code",
   "execution_count": 36,
   "metadata": {},
   "outputs": [
    {
     "name": "stdout",
     "output_type": "stream",
     "text": [
      "EPOCH 0 BATCH: 600 LOSS: 0.2336561679840088\n",
      "EPOCH 0 BATCH: 1200 LOSS: 0.3562861680984497\n",
      "EPOCH 0 BATCH: 1800 LOSS: 0.10409020632505417\n",
      "EPOCH 0 BATCH: 2400 LOSS: 0.1751244217157364\n",
      "EPOCH 0 BATCH: 3000 LOSS: 0.21306908130645752\n",
      "EPOCH 0 BATCH: 3600 LOSS: 0.0036847235169261694\n",
      "EPOCH 0 BATCH: 4200 LOSS: 0.011155284009873867\n",
      "EPOCH 0 BATCH: 4800 LOSS: 0.2666199803352356\n",
      "EPOCH 0 BATCH: 5400 LOSS: 0.0071025751531124115\n",
      "EPOCH 0 BATCH: 6000 LOSS: 0.0028053384739905596\n",
      "EPOCH 0 BATCH: 6600 LOSS: 0.06295499950647354\n",
      "EPOCH 0 BATCH: 7200 LOSS: 0.002680899342522025\n",
      "EPOCH 0 BATCH: 7800 LOSS: 1.3735073804855347\n",
      "EPOCH 0 BATCH: 8400 LOSS: 0.00026078990777023137\n",
      "EPOCH 0 BATCH: 9000 LOSS: 0.0005901844706386328\n",
      "EPOCH 0 BATCH: 9600 LOSS: 0.09083148837089539\n",
      "EPOCH 1 BATCH: 600 LOSS: 0.0013843183405697346\n",
      "EPOCH 1 BATCH: 1200 LOSS: 0.0015595912700518966\n",
      "EPOCH 1 BATCH: 1800 LOSS: 0.005950972903519869\n",
      "EPOCH 1 BATCH: 2400 LOSS: 0.00013034061703365296\n",
      "EPOCH 1 BATCH: 3000 LOSS: 0.001318257418461144\n",
      "EPOCH 1 BATCH: 3600 LOSS: 0.0003506008943077177\n",
      "EPOCH 1 BATCH: 4200 LOSS: 0.09238367527723312\n",
      "EPOCH 1 BATCH: 4800 LOSS: 0.004783643875271082\n",
      "EPOCH 1 BATCH: 5400 LOSS: 0.0013871610863134265\n",
      "EPOCH 1 BATCH: 6000 LOSS: 0.00974525697529316\n",
      "EPOCH 1 BATCH: 6600 LOSS: 0.5409772396087646\n",
      "EPOCH 1 BATCH: 7200 LOSS: 0.0016472061397507787\n",
      "EPOCH 1 BATCH: 7800 LOSS: 0.000763946445658803\n",
      "EPOCH 1 BATCH: 8400 LOSS: 0.000449126964667812\n",
      "EPOCH 1 BATCH: 9000 LOSS: 0.03951946645975113\n",
      "EPOCH 1 BATCH: 9600 LOSS: 0.0010098544880747795\n",
      "EPOCH 2 BATCH: 600 LOSS: 0.37376222014427185\n",
      "EPOCH 2 BATCH: 1200 LOSS: 0.001397818443365395\n",
      "EPOCH 2 BATCH: 1800 LOSS: 0.0018016733229160309\n",
      "EPOCH 2 BATCH: 2400 LOSS: 0.0005445854039862752\n",
      "EPOCH 2 BATCH: 3000 LOSS: 0.010523228906095028\n",
      "EPOCH 2 BATCH: 3600 LOSS: 0.0009709293371997774\n",
      "EPOCH 2 BATCH: 4200 LOSS: 1.919200258271303e-05\n",
      "EPOCH 2 BATCH: 4800 LOSS: 0.017461875453591347\n",
      "EPOCH 2 BATCH: 5400 LOSS: 0.0014628986828029156\n",
      "EPOCH 2 BATCH: 6000 LOSS: 0.05096861347556114\n",
      "EPOCH 2 BATCH: 6600 LOSS: 0.09383033961057663\n",
      "EPOCH 2 BATCH: 7200 LOSS: 0.0021121525205671787\n",
      "EPOCH 2 BATCH: 7800 LOSS: 3.3176835131598637e-05\n",
      "EPOCH 2 BATCH: 8400 LOSS: 0.0043878997676074505\n",
      "EPOCH 2 BATCH: 9000 LOSS: 0.31303870677948\n",
      "EPOCH 2 BATCH: 9600 LOSS: 0.00016197084914892912\n",
      "EPOCH 3 BATCH: 600 LOSS: 0.0003635325701907277\n",
      "EPOCH 3 BATCH: 1200 LOSS: 0.0006486611091531813\n",
      "EPOCH 3 BATCH: 1800 LOSS: 0.1159951314330101\n",
      "EPOCH 3 BATCH: 2400 LOSS: 0.012307338416576385\n",
      "EPOCH 3 BATCH: 3000 LOSS: 0.12580546736717224\n",
      "EPOCH 3 BATCH: 3600 LOSS: 4.629236173059326e-06\n",
      "EPOCH 3 BATCH: 4200 LOSS: 0.003355973167344928\n",
      "EPOCH 3 BATCH: 4800 LOSS: 0.0002968668413814157\n",
      "EPOCH 3 BATCH: 5400 LOSS: 0.012923486530780792\n",
      "EPOCH 3 BATCH: 6000 LOSS: 3.580095653887838e-05\n",
      "EPOCH 3 BATCH: 6600 LOSS: 0.00015619423356838524\n",
      "EPOCH 3 BATCH: 7200 LOSS: 0.0850970447063446\n",
      "EPOCH 3 BATCH: 7800 LOSS: 0.001236561918631196\n",
      "EPOCH 3 BATCH: 8400 LOSS: 0.00028554684831760824\n",
      "EPOCH 3 BATCH: 9000 LOSS: 1.2298067808151245\n",
      "EPOCH 3 BATCH: 9600 LOSS: 0.043739546090364456\n",
      "EPOCH 4 BATCH: 600 LOSS: 0.014256375841796398\n",
      "EPOCH 4 BATCH: 1200 LOSS: 0.00046982531785033643\n",
      "EPOCH 4 BATCH: 1800 LOSS: 0.00011625467595877126\n",
      "EPOCH 4 BATCH: 2400 LOSS: 2.5846769858617336e-05\n",
      "EPOCH 4 BATCH: 3000 LOSS: 0.0034135670866817236\n",
      "EPOCH 4 BATCH: 3600 LOSS: 0.0013411965919658542\n",
      "EPOCH 4 BATCH: 4200 LOSS: 0.00042202186887152493\n",
      "EPOCH 4 BATCH: 4800 LOSS: 0.0020391864236444235\n",
      "EPOCH 4 BATCH: 5400 LOSS: 1.126511506299721e-05\n",
      "EPOCH 4 BATCH: 6000 LOSS: 6.099430265749106e-06\n",
      "EPOCH 4 BATCH: 6600 LOSS: 0.08416158705949783\n",
      "EPOCH 4 BATCH: 7200 LOSS: 0.14914485812187195\n",
      "EPOCH 4 BATCH: 7800 LOSS: 7.549809652118711e-06\n",
      "EPOCH 4 BATCH: 8400 LOSS: 1.9629309463198297e-05\n",
      "EPOCH 4 BATCH: 9000 LOSS: 5.5959495512070134e-05\n",
      "EPOCH 4 BATCH: 9600 LOSS: 3.26021145156119e-05\n",
      "Training took 2.828637484709422 minutes\n"
     ]
    }
   ],
   "source": [
    "import time\n",
    "start_time = time.time()\n",
    "\n",
    "# Variables (trackers)\n",
    "epochs = 5\n",
    "\n",
    "train_losses = []\n",
    "test_losses = []\n",
    "train_correct = []\n",
    "test_correct = []\n",
    "\n",
    "\n",
    "# For loop epochs\n",
    "for i in range(epochs):\n",
    "\n",
    "    trn_corr = 0\n",
    "    tst_corr = 0 \n",
    "\n",
    "    # Train \n",
    "    for b, (X_train, y_train) in enumerate(train_loader):\n",
    "        b+=1\n",
    "        \n",
    "        y_pred = model(X_train) # NOTE. No need to flatten as conv2d expect 2d data\n",
    "        lossTrain = criterion(y_pred, y_train)\n",
    "        #lossTrain = criterion(y_pred, y_train).data\n",
    "\n",
    "        predicted = torch.max(y_pred.data,1)[1]\n",
    "        batch_corr = (predicted == y_train).sum() # True 1 / False 0 \n",
    "        trn_corr += batch_corr\n",
    "\n",
    "        optimizer.zero_grad()\n",
    "        lossTrain.backward()\n",
    "        optimizer.step()\n",
    "\n",
    "        if b%600 == 0:\n",
    "            print(f\"EPOCH {i} BATCH: {b} LOSS: {lossTrain.item()}\")\n",
    "    train_losses.append(lossTrain.data.item())\n",
    "    train_correct.append(trn_corr)\n",
    "\n",
    "    # Test (If we feed in test data during traing, how well will it perform)\n",
    "    with torch.no_grad():\n",
    "        for b,(X_test, y_test) in enumerate(test_loader):\n",
    "\n",
    "            y_val = model(X_test)\n",
    "\n",
    "            predicted = torch.max(y_val.data,1)[1]\n",
    "            tst_corr += (predicted == y_test).sum()\n",
    "\n",
    "        loss = criterion(y_val, y_test)\n",
    "        test_losses.append(loss)\n",
    "        test_correct.append(tst_corr)\n",
    "\n",
    "current_time = time.time() \n",
    "total = current_time - start_time\n",
    "print(f\"Training took {total/60} minutes\")"
   ]
  },
  {
   "cell_type": "markdown",
   "metadata": {},
   "source": [
    "## Evaluate performance"
   ]
  },
  {
   "cell_type": "code",
   "execution_count": 37,
   "metadata": {},
   "outputs": [
    {
     "data": {
      "text/plain": [
       "<matplotlib.legend.Legend at 0x7fabe1867970>"
      ]
     },
     "execution_count": 37,
     "metadata": {},
     "output_type": "execute_result"
    },
    {
     "data": {
      "image/png": "[encoded data removed]",
      "text/plain": [
       "<Figure size 432x288 with 1 Axes>"
      ]
     },
     "metadata": {
      "needs_background": "light"
     },
     "output_type": "display_data"
    }
   ],
   "source": [
    "plt.plot(train_losses,label=\"Train loss\")\n",
    "plt.plot(test_losses, label=\"Validation loss\")\n",
    "plt.legend()"
   ]
  },
  {
   "cell_type": "markdown",
   "metadata": {},
   "source": [
    "## Accuracy"
   ]
  },
  {
   "cell_type": "code",
   "execution_count": 38,
   "metadata": {},
   "outputs": [
    {
     "data": {
      "text/plain": [
       "<matplotlib.legend.Legend at 0x7fabe2846340>"
      ]
     },
     "execution_count": 38,
     "metadata": {},
     "output_type": "execute_result"
    },
    {
     "data": {
      "image/png": "[encoded data removed]",
      "text/plain": [
       "<Figure size 432x288 with 1 Axes>"
      ]
     },
     "metadata": {
      "needs_background": "light"
     },
     "output_type": "display_data"
    }
   ],
   "source": [
    "plt.plot([t/600 for t in train_correct], label=\"training accuracy\")\n",
    "plt.plot([t/100 for t in train_correct], label=\"validation accuracy\")\n",
    "plt.title(\"Accuracy at the end of each epoch\")\n",
    "plt.legend()"
   ]
  },
  {
   "cell_type": "code",
   "execution_count": 39,
   "metadata": {},
   "outputs": [],
   "source": [
    "# Här har vi ett issue. Se lect 66 i pytorch"
   ]
  },
  {
   "cell_type": "markdown",
   "metadata": {},
   "source": [
    "## Evaluate all test data"
   ]
  },
  {
   "cell_type": "code",
   "execution_count": 40,
   "metadata": {},
   "outputs": [],
   "source": [
    "test_load_all = DataLoader(test_data,batch_size=10000, shuffle=False)"
   ]
  },
  {
   "cell_type": "code",
   "execution_count": 41,
   "metadata": {},
   "outputs": [],
   "source": [
    "with torch.no_grad():\n",
    "    correct = 0\n",
    "    for X_test, y_test in test_load_all:\n",
    "        y_val = model(X_test)\n",
    "        predicted = torch.max(y_val,1)[1]\n",
    "        correct += (predicted == y_test).sum()"
   ]
  },
  {
   "cell_type": "code",
   "execution_count": 42,
   "metadata": {},
   "outputs": [
    {
     "data": {
      "text/plain": [
       "0.9894"
      ]
     },
     "execution_count": 42,
     "metadata": {},
     "output_type": "execute_result"
    }
   ],
   "source": [
    "# Accuracy for model\n",
    "correct.item()/len(test_data)"
   ]
  },
  {
   "cell_type": "markdown",
   "metadata": {},
   "source": [
    "## Confusion matrix\n",
    "What values is the model getting confused on. (Values on diagonal is captured correctly)"
   ]
  },
  {
   "cell_type": "code",
   "execution_count": 43,
   "metadata": {},
   "outputs": [
    {
     "name": "stdout",
     "output_type": "stream",
     "text": [
      "[[   0    1    2    3    4    5    6    7    8    9]]\n",
      "\n",
      "[[ 973    0    1    0    1    2    2    0    2    0]\n",
      " [   0 1133    2    2    1    0    3    3    1    1]\n",
      " [   0    0 1020    0    1    0    2    2    3    0]\n",
      " [   0    0    1 1000    0    8    0    1    2    1]\n",
      " [   2    0    0    0  973    0    1    1    0    3]\n",
      " [   0    0    0    3    0  876    3    0    2    4]\n",
      " [   3    0    0    0    1    3  946    0    0    0]\n",
      " [   2    1    6    3    1    1    0 1021    2    5]\n",
      " [   0    0    2    2    2    0    1    0  961    4]\n",
      " [   0    1    0    0    2    2    0    0    1  991]]\n"
     ]
    }
   ],
   "source": [
    "np.set_printoptions(formatter=dict(int=lambda x:f\"{x:4}\"))\n",
    "print(np.arange(10).reshape(1,10))\n",
    "print()\n",
    "\n",
    "print(confusion_matrix(predicted.view(-1), y_test.view(-1)))"
   ]
  },
  {
   "cell_type": "code",
   "execution_count": null,
   "metadata": {},
   "outputs": [],
   "source": []
  },
  {
   "cell_type": "markdown",
   "metadata": {},
   "source": [
    "## Run a new image through the model"
   ]
  },
  {
   "cell_type": "code",
   "execution_count": 106,
   "metadata": {},
   "outputs": [
    {
     "name": "stdout",
     "output_type": "stream",
     "text": [
      "6\n"
     ]
    },
    {
     "data": {
      "image/png": "[encoded data removed]",
      "text/plain": [
       "<Figure size 432x288 with 1 Axes>"
      ]
     },
     "metadata": {
      "needs_background": "light"
     },
     "output_type": "display_data"
    }
   ],
   "source": [
    "# Grab a random single image\n",
    "n = np.random.randint(0,len(test_data))\n",
    "# Plot random image\n",
    "random_picture = test_data[n][0].reshape(28,28)\n",
    "print(test_data[n][1])\n",
    "plt.imshow(random_picture)\n",
    "plt.show()"
   ]
  },
  {
   "cell_type": "code",
   "execution_count": 100,
   "metadata": {},
   "outputs": [
    {
     "data": {
      "text/plain": [
       "tensor([[-1.5453e+01, -1.0022e+01, -1.2413e+01, -1.5002e+01, -1.2607e+01,\n",
       "         -1.4657e+01, -2.7714e+01, -1.0915e-03, -1.3585e+01, -6.8716e+00]])"
      ]
     },
     "execution_count": 100,
     "metadata": {},
     "output_type": "execute_result"
    }
   ],
   "source": [
    "model.eval()\n",
    "with torch.no_grad():\n",
    "    new_prediction = model(random_picture.view(1,1,28,28)) # 1,1,28,28 (Batchsize 1, 1, color channel, 28x28 size)\n",
    "new_prediction "
   ]
  },
  {
   "cell_type": "code",
   "execution_count": 101,
   "metadata": {},
   "outputs": [
    {
     "name": "stdout",
     "output_type": "stream",
     "text": [
      "Model predict this is number: 7\n"
     ]
    }
   ],
   "source": [
    "print(f\"Model predict this is number: {new_prediction.argmax().item()}\")"
   ]
  },
  {
   "cell_type": "code",
   "execution_count": null,
   "metadata": {},
   "outputs": [],
   "source": []
  }
 ],
 "metadata": {
  "interpreter": {
   "hash": "99cb29d4cb749ce9fdda164e617896dd361b790eb5a944a3a36f1e02bafe21ea"
  },
  "kernelspec": {
   "display_name": "Python 3 (ipykernel)",
   "language": "python",
   "name": "python3"
  },
  "language_info": {
   "codemirror_mode": {
    "name": "ipython",
    "version": 3
   },
   "file_extension": ".py",
   "mimetype": "text/x-python",
   "name": "python",
   "nbconvert_exporter": "python",
   "pygments_lexer": "ipython3",
   "version": "3.8.8"
  }
 },
 "nbformat": 4,
 "nbformat_minor": 2
}
