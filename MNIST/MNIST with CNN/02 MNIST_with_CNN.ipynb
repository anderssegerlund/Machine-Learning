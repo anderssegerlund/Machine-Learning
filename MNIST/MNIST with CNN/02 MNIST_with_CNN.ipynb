{
 "cells": [
  {
   "cell_type": "markdown",
   "metadata": {},
   "source": [
    "## Imports"
   ]
  },
  {
   "cell_type": "code",
   "execution_count": 1,
   "metadata": {},
   "outputs": [],
   "source": [
    "import torch\n",
    "import torch.nn as nn\n",
    "import torch.nn.functional as F\n",
    "from torch.utils.data import DataLoader\n",
    "from torchvision import datasets, transforms\n",
    "from torchvision.utils import make_grid\n",
    "\n",
    "import numpy as np\n",
    "import pandas as pd\n",
    "from sklearn.metrics import confusion_matrix\n",
    "import matplotlib.pyplot as plt\n",
    "%matplotlib inline"
   ]
  },
  {
   "cell_type": "markdown",
   "metadata": {},
   "source": [
    "## Load MNIST dataset"
   ]
  },
  {
   "cell_type": "code",
   "execution_count": 2,
   "metadata": {},
   "outputs": [],
   "source": [
    "transform = transforms.ToTensor()"
   ]
  },
  {
   "cell_type": "code",
   "execution_count": 3,
   "metadata": {},
   "outputs": [],
   "source": [
    "train_data = datasets.MNIST(root='../Data', train=True, download=True, transform=transform)"
   ]
  },
  {
   "cell_type": "code",
   "execution_count": 4,
   "metadata": {},
   "outputs": [],
   "source": [
    "test_data = datasets.MNIST(root='../Data', train=False, download=True, transform=transform)"
   ]
  },
  {
   "cell_type": "code",
   "execution_count": 5,
   "metadata": {},
   "outputs": [
    {
     "data": {
      "text/plain": [
       "Dataset MNIST\n",
       "    Number of datapoints: 60000\n",
       "    Root location: ../Data\n",
       "    Split: Train\n",
       "    StandardTransform\n",
       "Transform: ToTensor()"
      ]
     },
     "execution_count": 5,
     "metadata": {},
     "output_type": "execute_result"
    }
   ],
   "source": [
    "train_data"
   ]
  },
  {
   "cell_type": "code",
   "execution_count": 6,
   "metadata": {},
   "outputs": [
    {
     "data": {
      "text/plain": [
       "Dataset MNIST\n",
       "    Number of datapoints: 10000\n",
       "    Root location: ../Data\n",
       "    Split: Test\n",
       "    StandardTransform\n",
       "Transform: ToTensor()"
      ]
     },
     "execution_count": 6,
     "metadata": {},
     "output_type": "execute_result"
    }
   ],
   "source": [
    "test_data"
   ]
  },
  {
   "cell_type": "code",
   "execution_count": null,
   "metadata": {},
   "outputs": [],
   "source": []
  },
  {
   "cell_type": "markdown",
   "metadata": {},
   "source": [
    "## Create loaders"
   ]
  },
  {
   "cell_type": "code",
   "execution_count": 7,
   "metadata": {},
   "outputs": [],
   "source": [
    "train_loader = DataLoader(train_data, batch_size=6, shuffle=True)\n",
    "test_loader = DataLoader(test_data, batch_size=6, shuffle=False)"
   ]
  },
  {
   "cell_type": "code",
   "execution_count": 8,
   "metadata": {},
   "outputs": [
    {
     "data": {
      "text/plain": [
       "torch.Size([6, 1, 28, 28])"
      ]
     },
     "execution_count": 8,
     "metadata": {},
     "output_type": "execute_result"
    }
   ],
   "source": [
    "for b, (X_train, y_train) in enumerate(train_loader):\n",
    "    break\n",
    "X_train.shape"
   ]
  },
  {
   "cell_type": "markdown",
   "metadata": {},
   "source": [
    "## Create CNN class"
   ]
  },
  {
   "cell_type": "code",
   "execution_count": 9,
   "metadata": {},
   "outputs": [],
   "source": [
    "class ConvolutionalNetwork(nn.Module):\n",
    "    def __init__(self):\n",
    "        super().__init__()\n",
    "        self.conv1 = nn.Conv2d(1,6,3,1)\n",
    "        self.conv2 = nn.Conv2d(6,16,3,1)\n",
    "        self.fc1 = nn.Linear(5*5*16,120)# 120 is arbitrary\n",
    "        self.fc2 = nn.Linear(120,84)\n",
    "        self.fc3 = nn.Linear(84,10)\n",
    "        \n",
    "    def forward(self,X):\n",
    "        X = F.relu(self.conv1(X))\n",
    "        X = F.max_pool2d(X,2,2)\n",
    "        X = F.relu(self.conv2(X))\n",
    "        X = F.max_pool2d(X,2,2)\n",
    "\n",
    "        X = X.view(-1,16*5*5)\n",
    "        X = F.relu(self.fc1(X))\n",
    "        X = F.relu(self.fc2(X))\n",
    "        X = self.fc3(X)\n",
    "\n",
    "        return F.log_softmax(X,dim=1)"
   ]
  },
  {
   "cell_type": "code",
   "execution_count": 10,
   "metadata": {},
   "outputs": [
    {
     "data": {
      "text/plain": [
       "ConvolutionalNetwork(\n",
       "  (conv1): Conv2d(1, 6, kernel_size=(3, 3), stride=(1, 1))\n",
       "  (conv2): Conv2d(6, 16, kernel_size=(3, 3), stride=(1, 1))\n",
       "  (fc1): Linear(in_features=400, out_features=120, bias=True)\n",
       "  (fc2): Linear(in_features=120, out_features=84, bias=True)\n",
       "  (fc3): Linear(in_features=84, out_features=10, bias=True)\n",
       ")"
      ]
     },
     "execution_count": 10,
     "metadata": {},
     "output_type": "execute_result"
    }
   ],
   "source": [
    "torch.manual_seed(42)\n",
    "model = ConvolutionalNetwork()\n",
    "model"
   ]
  },
  {
   "cell_type": "markdown",
   "metadata": {},
   "source": [
    "## Check amout of parameters in model"
   ]
  },
  {
   "cell_type": "code",
   "execution_count": 11,
   "metadata": {},
   "outputs": [
    {
     "name": "stdout",
     "output_type": "stream",
     "text": [
      "54\n",
      "6\n",
      "864\n",
      "16\n",
      "48000\n",
      "120\n",
      "10080\n",
      "84\n",
      "840\n",
      "10\n"
     ]
    }
   ],
   "source": [
    "for param in model.parameters():\n",
    "    print(param.numel())"
   ]
  },
  {
   "cell_type": "code",
   "execution_count": null,
   "metadata": {},
   "outputs": [],
   "source": []
  },
  {
   "cell_type": "markdown",
   "metadata": {},
   "source": [
    "## Define loss func and optimizer"
   ]
  },
  {
   "cell_type": "code",
   "execution_count": 12,
   "metadata": {},
   "outputs": [],
   "source": [
    "criterion = nn.CrossEntropyLoss()\n",
    "optimizer = torch.optim.Adam(model.parameters(), lr=0.001)"
   ]
  },
  {
   "cell_type": "code",
   "execution_count": 13,
   "metadata": {},
   "outputs": [],
   "source": [
    "for b, (X_train, y_train) in enumerate(train_loader):\n",
    "    break"
   ]
  },
  {
   "cell_type": "code",
   "execution_count": 14,
   "metadata": {},
   "outputs": [
    {
     "data": {
      "text/plain": [
       "torch.Size([6, 1, 28, 28])"
      ]
     },
     "execution_count": 14,
     "metadata": {},
     "output_type": "execute_result"
    }
   ],
   "source": [
    "X_train.shape"
   ]
  },
  {
   "cell_type": "code",
   "execution_count": null,
   "metadata": {},
   "outputs": [],
   "source": []
  },
  {
   "cell_type": "markdown",
   "metadata": {},
   "source": [
    "## Train the model"
   ]
  },
  {
   "cell_type": "code",
   "execution_count": 148,
   "metadata": {},
   "outputs": [
    {
     "name": "stdout",
     "output_type": "stream",
     "text": [
      "EPOCH 0 BATCH: 600 LOSS: 6.437188858399168e-06\n",
      "EPOCH 0 BATCH: 1200 LOSS: 1.3709036466025282e-06\n",
      "EPOCH 0 BATCH: 1800 LOSS: 0.0\n",
      "EPOCH 0 BATCH: 2400 LOSS: 0.0001424194488208741\n",
      "EPOCH 0 BATCH: 3000 LOSS: 4.1599341784603894e-05\n",
      "EPOCH 0 BATCH: 3600 LOSS: 0.0009572989656589925\n",
      "EPOCH 0 BATCH: 4200 LOSS: 0.00039790442679077387\n",
      "EPOCH 0 BATCH: 4800 LOSS: 1.8019754861597903e-05\n",
      "EPOCH 0 BATCH: 5400 LOSS: 1.7285257172261481e-06\n",
      "EPOCH 0 BATCH: 6000 LOSS: 1.1920925402364446e-07\n",
      "EPOCH 0 BATCH: 6600 LOSS: 0.0\n",
      "EPOCH 0 BATCH: 7200 LOSS: 7.947284075271455e-08\n",
      "EPOCH 0 BATCH: 7800 LOSS: 0.48679009079933167\n",
      "EPOCH 0 BATCH: 8400 LOSS: 0.0\n",
      "EPOCH 0 BATCH: 9000 LOSS: 6.35781645996758e-07\n",
      "EPOCH 0 BATCH: 9600 LOSS: 0.07880112528800964\n",
      "EPOCH 1 BATCH: 600 LOSS: 0.0\n",
      "EPOCH 1 BATCH: 1200 LOSS: 0.00010947763803415\n",
      "EPOCH 1 BATCH: 1800 LOSS: 3.4371696528978646e-06\n",
      "EPOCH 1 BATCH: 2400 LOSS: 5.960463411724959e-08\n",
      "EPOCH 1 BATCH: 3000 LOSS: 7.482678483938798e-05\n",
      "EPOCH 1 BATCH: 3600 LOSS: 2.056282937701326e-05\n",
      "EPOCH 1 BATCH: 4200 LOSS: 4.37100425187964e-07\n",
      "EPOCH 1 BATCH: 4800 LOSS: 0.04182751104235649\n",
      "EPOCH 1 BATCH: 5400 LOSS: 0.0\n",
      "EPOCH 1 BATCH: 6000 LOSS: 0.03301278129220009\n",
      "EPOCH 1 BATCH: 6600 LOSS: 1.9868213740892315e-08\n",
      "EPOCH 1 BATCH: 7200 LOSS: 0.0007955571636557579\n",
      "EPOCH 1 BATCH: 7800 LOSS: 0.002690730383619666\n",
      "EPOCH 1 BATCH: 8400 LOSS: 0.0\n",
      "EPOCH 1 BATCH: 9000 LOSS: 0.0001640310074435547\n",
      "EPOCH 1 BATCH: 9600 LOSS: 0.0008440255769528449\n",
      "EPOCH 2 BATCH: 600 LOSS: 1.4106373100730707e-06\n",
      "EPOCH 2 BATCH: 1200 LOSS: 0.0\n",
      "EPOCH 2 BATCH: 1800 LOSS: 0.42413976788520813\n",
      "EPOCH 2 BATCH: 2400 LOSS: 3.2782236303319223e-06\n",
      "EPOCH 2 BATCH: 3000 LOSS: 2.7815480052595376e-07\n",
      "EPOCH 2 BATCH: 3600 LOSS: 1.9868213740892315e-08\n",
      "EPOCH 2 BATCH: 4200 LOSS: 0.0\n",
      "EPOCH 2 BATCH: 4800 LOSS: 0.0\n",
      "EPOCH 2 BATCH: 5400 LOSS: 0.07085409015417099\n",
      "EPOCH 2 BATCH: 6000 LOSS: 3.5563787150749704e-06\n",
      "EPOCH 2 BATCH: 6600 LOSS: 0.16422639787197113\n",
      "EPOCH 2 BATCH: 7200 LOSS: 1.5873947631916963e-05\n",
      "EPOCH 2 BATCH: 7800 LOSS: 0.0020374974701553583\n",
      "EPOCH 2 BATCH: 8400 LOSS: 0.0\n",
      "EPOCH 2 BATCH: 9000 LOSS: 0.0013821739703416824\n",
      "EPOCH 2 BATCH: 9600 LOSS: 9.934104383546583e-08\n",
      "EPOCH 3 BATCH: 600 LOSS: 6.794838100177003e-06\n",
      "EPOCH 3 BATCH: 1200 LOSS: 0.0016712801298126578\n",
      "EPOCH 3 BATCH: 1800 LOSS: 4.371001693925791e-07\n",
      "EPOCH 3 BATCH: 2400 LOSS: 3.615981768234633e-06\n",
      "EPOCH 3 BATCH: 3000 LOSS: 0.0\n",
      "EPOCH 3 BATCH: 3600 LOSS: 7.947284075271455e-08\n",
      "EPOCH 3 BATCH: 4200 LOSS: 1.9868213740892315e-08\n",
      "EPOCH 3 BATCH: 4800 LOSS: 0.00011608997010625899\n",
      "EPOCH 3 BATCH: 5400 LOSS: 9.391045750817284e-05\n",
      "EPOCH 3 BATCH: 6000 LOSS: 2.622583679112722e-06\n",
      "EPOCH 3 BATCH: 6600 LOSS: 0.0\n",
      "EPOCH 3 BATCH: 7200 LOSS: 0.3068143427371979\n",
      "EPOCH 3 BATCH: 7800 LOSS: 0.015333682298660278\n",
      "EPOCH 3 BATCH: 8400 LOSS: 0.013147816993296146\n",
      "EPOCH 3 BATCH: 9000 LOSS: 5.761772285950428e-07\n",
      "EPOCH 3 BATCH: 9600 LOSS: 8.273061393992975e-05\n",
      "EPOCH 4 BATCH: 600 LOSS: 2.9802060907968553e-06\n",
      "EPOCH 4 BATCH: 1200 LOSS: 6.357773600029759e-06\n",
      "EPOCH 4 BATCH: 1800 LOSS: 1.53776491060853e-05\n",
      "EPOCH 4 BATCH: 2400 LOSS: 0.0003543364873621613\n",
      "EPOCH 4 BATCH: 3000 LOSS: 3.973642392907095e-08\n",
      "EPOCH 4 BATCH: 3600 LOSS: 0.01902502216398716\n",
      "EPOCH 4 BATCH: 4200 LOSS: 9.139353664977534e-07\n",
      "EPOCH 4 BATCH: 4800 LOSS: 6.994310388108715e-05\n",
      "EPOCH 4 BATCH: 5400 LOSS: 0.0\n",
      "EPOCH 4 BATCH: 6000 LOSS: 7.748590178380255e-07\n",
      "EPOCH 4 BATCH: 6600 LOSS: 0.0\n",
      "EPOCH 4 BATCH: 7200 LOSS: 0.0003464593319222331\n",
      "EPOCH 4 BATCH: 7800 LOSS: 8.165644430846442e-06\n",
      "EPOCH 4 BATCH: 8400 LOSS: 7.013332378846826e-06\n",
      "EPOCH 4 BATCH: 9000 LOSS: 0.0\n",
      "EPOCH 4 BATCH: 9600 LOSS: 3.059685468542739e-06\n",
      "Training took 3.510083496570587 minutes\n"
     ]
    }
   ],
   "source": [
    "import time\n",
    "start_time = time.time()\n",
    "\n",
    "# Variables (trackers)\n",
    "epochs = 5\n",
    "\n",
    "train_losses = []\n",
    "test_losses = []\n",
    "train_correct = []\n",
    "test_correct = []\n",
    "\n",
    "\n",
    "# For loop epochs\n",
    "for i in range(epochs):\n",
    "\n",
    "    trn_corr = 0\n",
    "    tst_corr = 0 \n",
    "\n",
    "    # Train \n",
    "    for b, (X_train, y_train) in enumerate(train_loader):\n",
    "        b+=1\n",
    "        \n",
    "        y_pred = model(X_train) # NOTE. No need to flatten as conv2d expect 2d data\n",
    "        lossTrain = criterion(y_pred, y_train)\n",
    "        #lossTrain = criterion(y_pred, y_train).data\n",
    "\n",
    "        predicted = torch.max(y_pred.data,1)[1]\n",
    "        batch_corr = (predicted == y_train).sum() # True 1 / False 0 \n",
    "        trn_correct += batch_corr\n",
    "\n",
    "        optimizer.zero_grad()\n",
    "        lossTrain.backward()\n",
    "        optimizer.step()\n",
    "\n",
    "        if b%600 == 0:\n",
    "            print(f\"EPOCH {i} BATCH: {b} LOSS: {lossTrain.item()}\")\n",
    "    train_losses.append(lossTrain.data.item())\n",
    "    train_correct.append(trn_corr)\n",
    "\n",
    "    # Test (If we feed in test data during traing, how well will it perform)\n",
    "    with torch.no_grad():\n",
    "        for b,(X_test, y_test) in enumerate(test_loader):\n",
    "\n",
    "            y_val = model(X_test)\n",
    "\n",
    "            predicted = torch.max(y_val.data,1)[1]\n",
    "            tst_corr += (predicted == y_test).sum()\n",
    "\n",
    "        loss = criterion(y_val, y_test)\n",
    "        test_losses.append(loss)\n",
    "        test_correct.append(tst_corr)\n",
    "\n",
    "current_time = time.time() \n",
    "total = current_time - start_time\n",
    "print(f\"Training took {total/60} minutes\")"
   ]
  },
  {
   "cell_type": "markdown",
   "metadata": {},
   "source": [
    "## Evaluate performance"
   ]
  },
  {
   "cell_type": "code",
   "execution_count": 156,
   "metadata": {},
   "outputs": [
    {
     "data": {
      "text/plain": [
       "<matplotlib.legend.Legend at 0x7f86753ded30>"
      ]
     },
     "execution_count": 156,
     "metadata": {},
     "output_type": "execute_result"
    },
    {
     "data": {
      "image/png": "[encoded data removed]",
      "text/plain": [
       "<Figure size 432x288 with 1 Axes>"
      ]
     },
     "metadata": {
      "needs_background": "light"
     },
     "output_type": "display_data"
    }
   ],
   "source": [
    "plt.plot(train_losses,label=\"Train loss\")\n",
    "plt.plot(test_losses, label=\"Validation loss\")\n",
    "plt.legend()"
   ]
  },
  {
   "cell_type": "markdown",
   "metadata": {},
   "source": [
    "## Accuracy"
   ]
  },
  {
   "cell_type": "code",
   "execution_count": 155,
   "metadata": {},
   "outputs": [
    {
     "data": {
      "text/plain": [
       "<matplotlib.legend.Legend at 0x7f867524d790>"
      ]
     },
     "execution_count": 155,
     "metadata": {},
     "output_type": "execute_result"
    },
    {
     "data": {
      "image/png": "[encoded data removed]",
      "text/plain": [
       "<Figure size 432x288 with 1 Axes>"
      ]
     },
     "metadata": {
      "needs_background": "light"
     },
     "output_type": "display_data"
    }
   ],
   "source": [
    "plt.plot([t/600 for t in train_correct], label=\"training accuracy\")\n",
    "plt.plot([t/100 for t in train_correct], label=\"validation accuracy\")\n",
    "plt.title(\"Accuracy at the end of each epoch\")\n",
    "plt.legend()"
   ]
  },
  {
   "cell_type": "code",
   "execution_count": 157,
   "metadata": {},
   "outputs": [],
   "source": [
    "# Här har vi ett issue. Se lect 66 i pytorch"
   ]
  },
  {
   "cell_type": "markdown",
   "metadata": {},
   "source": [
    "## Evaluate all test data"
   ]
  },
  {
   "cell_type": "code",
   "execution_count": 158,
   "metadata": {},
   "outputs": [],
   "source": [
    "test_load_all = DataLoader(test_data,batch_size=10000, shuffle=False)"
   ]
  },
  {
   "cell_type": "code",
   "execution_count": 159,
   "metadata": {},
   "outputs": [],
   "source": [
    "with torch.no_grad():\n",
    "    correct = 0\n",
    "    for X_test, y_test in test_load_all:\n",
    "        y_val = model(X_test)\n",
    "        predicted = torch.max(y_val,1)[1]\n",
    "        correct += (predicted == y_test).sum()"
   ]
  },
  {
   "cell_type": "code",
   "execution_count": 161,
   "metadata": {},
   "outputs": [
    {
     "data": {
      "text/plain": [
       "0.9863"
      ]
     },
     "execution_count": 161,
     "metadata": {},
     "output_type": "execute_result"
    }
   ],
   "source": [
    "# Accuracy for model\n",
    "correct.item()/len(test_data)"
   ]
  },
  {
   "cell_type": "markdown",
   "metadata": {},
   "source": [
    "## Confusion matrix\n",
    "What values is the model getting confused on. (Values on diagonal is captured correctly)"
   ]
  },
  {
   "cell_type": "code",
   "execution_count": 162,
   "metadata": {},
   "outputs": [
    {
     "name": "stdout",
     "output_type": "stream",
     "text": [
      "[[   0    1    2    3    4    5    6    7    8    9]]\n",
      "\n",
      "[[ 979    0    1    1    0    2    7    0    7    0]\n",
      " [   0 1119    0    1    1    0    0    2    0    0]\n",
      " [   0    2 1024    1    0    0    2    4    3    0]\n",
      " [   0    1    0  995    0    8    0    0    1    1]\n",
      " [   0    1    1    0  969    0    1    0    0    8]\n",
      " [   0    0    0    2    0  875    6    0    3    2]\n",
      " [   0    8    0    0    4    3  942    0    0    0]\n",
      " [   1    2    6    5    0    1    0 1020    2    5]\n",
      " [   0    2    0    1    0    0    0    0  952    5]\n",
      " [   0    0    0    4    8    3    0    2    6  988]]\n"
     ]
    }
   ],
   "source": [
    "np.set_printoptions(formatter=dict(int=lambda x:f\"{x:4}\"))\n",
    "print(np.arange(10).reshape(1,10))\n",
    "print()\n",
    "\n",
    "print(confusion_matrix(predicted.view(-1), y_test.view(-1)))"
   ]
  },
  {
   "cell_type": "code",
   "execution_count": null,
   "metadata": {},
   "outputs": [],
   "source": []
  },
  {
   "cell_type": "markdown",
   "metadata": {},
   "source": [
    "## Run a new image through the model"
   ]
  },
  {
   "cell_type": "code",
   "execution_count": 195,
   "metadata": {},
   "outputs": [
    {
     "data": {
      "text/plain": [
       "<matplotlib.image.AxesImage at 0x7f863fa6d730>"
      ]
     },
     "execution_count": 195,
     "metadata": {},
     "output_type": "execute_result"
    },
    {
     "data": {
      "image/png": "[encoded data removed]",
      "text/plain": [
       "<Figure size 432x288 with 1 Axes>"
      ]
     },
     "metadata": {
      "needs_background": "light"
     },
     "output_type": "display_data"
    }
   ],
   "source": [
    "# Grab a random single image\n",
    "n = np.random.randint(0,len(test_data))\n",
    "# Plot random image\n",
    "random_picture = test_data[n][0].reshape(28,28)\n",
    "plt.imshow(random_picture)"
   ]
  },
  {
   "cell_type": "code",
   "execution_count": 196,
   "metadata": {},
   "outputs": [
    {
     "data": {
      "text/plain": [
       "tensor([[-40.9321, -63.9410, -51.0259, -55.5037, -35.1969, -51.3864, -57.9286,\n",
       "         -34.2922, -48.6412,   0.0000]])"
      ]
     },
     "execution_count": 196,
     "metadata": {},
     "output_type": "execute_result"
    }
   ],
   "source": [
    "model.eval()\n",
    "with torch.no_grad():\n",
    "    new_prediction = model(random_picture.view(1,1,28,28)) # 1,1,28,28 (Batchsize 1, 1, color channel, 28x28 size)\n",
    "new_prediction "
   ]
  },
  {
   "cell_type": "code",
   "execution_count": 197,
   "metadata": {},
   "outputs": [
    {
     "name": "stdout",
     "output_type": "stream",
     "text": [
      "Model predict this is number: 9\n"
     ]
    }
   ],
   "source": [
    "print(f\"Model predict this is number: {new_prediction.argmax().item()}\")"
   ]
  }
 ],
 "metadata": {
  "interpreter": {
   "hash": "99cb29d4cb749ce9fdda164e617896dd361b790eb5a944a3a36f1e02bafe21ea"
  },
  "kernelspec": {
   "display_name": "Python 3.8.12 ('NLP')",
   "language": "python",
   "name": "python3"
  },
  "language_info": {
   "codemirror_mode": {
    "name": "ipython",
    "version": 3
   },
   "file_extension": ".py",
   "mimetype": "text/x-python",
   "name": "python",
   "nbconvert_exporter": "python",
   "pygments_lexer": "ipython3",
   "version": "3.8.12"
  },
  "orig_nbformat": 4
 },
 "nbformat": 4,
 "nbformat_minor": 2
}
