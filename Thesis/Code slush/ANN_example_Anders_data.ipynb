{
 "cells": [
  {
   "cell_type": "markdown",
   "metadata": {},
   "source": [
    "## Imports"
   ]
  },
  {
   "cell_type": "code",
   "execution_count": 1,
   "metadata": {},
   "outputs": [],
   "source": [
    "import edec.afterprocessing as ap\n",
    "import edec.preprocessing as pp\n",
    "import edec.modelling_functions as mo\n",
    "import pickle\n",
    "import numpy as np\n",
    "import pandas as pd\n",
    "import torch\n",
    "from torch.utils.data import DataLoader\n",
    "import torch.nn as nn\n",
    "import torch.nn.functional as F\n",
    "from torch.nn.functional import normalize\n",
    "import seaborn as sns\n",
    "import matplotlib.pyplot as plt\n",
    "%matplotlib inline"
   ]
  },
  {
   "cell_type": "markdown",
   "metadata": {},
   "source": [
    "## Create tin_lists for: train/val/test/test_final"
   ]
  },
  {
   "cell_type": "code",
   "execution_count": 2,
   "metadata": {},
   "outputs": [],
   "source": [
    "with open('../scripts/dataset_split_dict.pickle', 'rb') as handle:\n",
    "    datasplit_dict = pickle.load(handle)\n",
    "tr = datasplit_dict[\"train\"]"
   ]
  },
  {
   "cell_type": "code",
   "execution_count": 3,
   "metadata": {},
   "outputs": [],
   "source": [
    "#train_tin = datasplit_dict[\"train\"] # Select all train tin\n",
    "train_tin = ap.get_subset_data(n_failed=44, n_healthy=10)  #Select defined amount\n",
    "\n",
    "validation_tin = datasplit_dict[\"validation\"]\n",
    "test_tin = datasplit_dict[\"test\"]\n",
    "test_final_tin = datasplit_dict[\"test_final\"]"
   ]
  },
  {
   "cell_type": "code",
   "execution_count": 15,
   "metadata": {},
   "outputs": [
    {
     "name": "stdout",
     "output_type": "stream",
     "text": [
      "Run 0 started\n",
      "54 Unique cars with label 0 has been imported with 10536 subsamples\n",
      "54 Cars in df\n",
      "Run 1 started\n",
      "44 Unique cars with label 1 has been imported with 440 subsamples\n",
      "44 Cars in df\n",
      "Run 0 started\n",
      "2795 Unique cars with label 0 has been imported with 553808 subsamples\n",
      "2795 Cars in df\n",
      "Run 1 started\n",
      "7 Unique cars with label 1 has been imported with 203 subsamples\n",
      "7 Cars in df\n"
     ]
    }
   ],
   "source": [
    "train_parameters = {\n",
    "            \"Sub sample\":2,\n",
    "            \"drop_sample\":0, # Default 0\n",
    "            \"roll\":1         # Default 1 (Must be smaller or equal to subsample)\n",
    "            }\n",
    "\n",
    "test_parameters = {\n",
    "            \"Sub sample\":2,\n",
    "            \"drop_sample\":0, # Default 0\n",
    "            \"roll\":1         # Default 1 (Must be smaller or equal to subsample)\n",
    "            }\n",
    " \n",
    "train_set = ap.create_tin_dataset(db=\"df.db\", parameters=train_parameters, normalize_data=True,\n",
    "                   show_rundetails=False,tin_list=train_tin)\n",
    "\n",
    "test_set = ap.create_tin_dataset(db=\"df.db\", parameters=test_parameters, normalize_data=True,\n",
    "                   show_rundetails=False,tin_list=test_tin)"
   ]
  },
  {
   "cell_type": "code",
   "execution_count": 29,
   "metadata": {},
   "outputs": [
    {
     "data": {
      "text/plain": [
       "0"
      ]
     },
     "execution_count": 29,
     "metadata": {},
     "output_type": "execute_result"
    }
   ],
   "source": [
    "test_set[0][1]"
   ]
  },
  {
   "cell_type": "code",
   "execution_count": null,
   "metadata": {},
   "outputs": [],
   "source": []
  },
  {
   "cell_type": "code",
   "execution_count": 17,
   "metadata": {},
   "outputs": [],
   "source": [
    "batch_size = 10\n",
    "train_loader = DataLoader(dataset=train_set, batch_size=batch_size, shuffle=True,drop_last=True)\n",
    "test_loader = DataLoader(dataset=test_set, batch_size=batch_size, shuffle=True,drop_last=True)"
   ]
  },
  {
   "cell_type": "code",
   "execution_count": null,
   "metadata": {},
   "outputs": [],
   "source": []
  },
  {
   "cell_type": "markdown",
   "metadata": {},
   "source": [
    "## Create Network"
   ]
  },
  {
   "cell_type": "code",
   "execution_count": 18,
   "metadata": {},
   "outputs": [
    {
     "data": {
      "text/plain": [
       "2"
      ]
     },
     "execution_count": 18,
     "metadata": {},
     "output_type": "execute_result"
    }
   ],
   "source": [
    "subsample  = train_parameters[\"Sub sample\"]\n",
    "subsample"
   ]
  },
  {
   "cell_type": "code",
   "execution_count": 19,
   "metadata": {},
   "outputs": [],
   "source": [
    "class ANNMultilayerperceptron(nn.Module):\n",
    "\n",
    "    def __init__(self, input_size=(subsample*108),output_size=2, layers=[220,84]):  # 120, 84\n",
    "        super().__init__()\n",
    "\n",
    "        self.fc1 = nn.Linear(input_size, layers[0])\n",
    "        self.fc2 = nn.Linear(layers[0], layers[1])\n",
    "        self.fc2b = nn.Linear(layers[1], 500)\n",
    "        self.fc2c = nn.Linear(500, layers[1])\n",
    "        self.fc2d = nn.Linear(layers[1], layers[1])\n",
    "        self.fc3 = nn.Linear(layers[1], output_size)\n",
    "\n",
    "    def forward(self,X):\n",
    "        X = F.relu(self.fc1(X))\n",
    "        X = F.relu(self.fc2(X))\n",
    "        X = F.relu(self.fc2b(X))\n",
    "        X = F.relu(self.fc2c(X))\n",
    "        X = F.relu(self.fc2d(X))\n",
    "        X = self.fc3(X)\n",
    "\n",
    "        return F.log_softmax(X,dim=1) # PGA multiclass classification\n",
    "        #return X"
   ]
  },
  {
   "cell_type": "code",
   "execution_count": 20,
   "metadata": {},
   "outputs": [
    {
     "data": {
      "text/plain": [
       "ANNMultilayerperceptron(\n",
       "  (fc1): Linear(in_features=216, out_features=220, bias=True)\n",
       "  (fc2): Linear(in_features=220, out_features=84, bias=True)\n",
       "  (fc2b): Linear(in_features=84, out_features=500, bias=True)\n",
       "  (fc2c): Linear(in_features=500, out_features=84, bias=True)\n",
       "  (fc2d): Linear(in_features=84, out_features=84, bias=True)\n",
       "  (fc3): Linear(in_features=84, out_features=2, bias=True)\n",
       ")"
      ]
     },
     "execution_count": 20,
     "metadata": {},
     "output_type": "execute_result"
    }
   ],
   "source": [
    "model = ANNMultilayerperceptron()\n",
    "model"
   ]
  },
  {
   "cell_type": "code",
   "execution_count": 21,
   "metadata": {},
   "outputs": [],
   "source": [
    "criterion = nn.CrossEntropyLoss()\n",
    "optimizer = torch.optim.Adam(model.parameters(), lr=0.0001)\n",
    "#optimizer = torch.optim.Adadelta(model.parameters(), lr=0.001)\n",
    "#optimizer = torch.optim.SGD(model.parameters(), lr=0.001)"
   ]
  },
  {
   "cell_type": "code",
   "execution_count": 30,
   "metadata": {},
   "outputs": [],
   "source": [
    "for b, (X_test,y_test) in enumerate(train_loader):\n",
    "    break"
   ]
  },
  {
   "cell_type": "code",
   "execution_count": 32,
   "metadata": {},
   "outputs": [
    {
     "data": {
      "text/plain": [
       "torch.Size([10, 2, 108])"
      ]
     },
     "execution_count": 32,
     "metadata": {},
     "output_type": "execute_result"
    }
   ],
   "source": [
    "X_test.shape"
   ]
  },
  {
   "cell_type": "code",
   "execution_count": 34,
   "metadata": {},
   "outputs": [
    {
     "data": {
      "text/plain": [
       "torch.Size([10, 2])"
      ]
     },
     "execution_count": 34,
     "metadata": {},
     "output_type": "execute_result"
    }
   ],
   "source": [
    "model(X_train.view(batch_size, -1)).shape"
   ]
  },
  {
   "cell_type": "code",
   "execution_count": null,
   "metadata": {},
   "outputs": [],
   "source": []
  },
  {
   "cell_type": "code",
   "execution_count": null,
   "metadata": {},
   "outputs": [],
   "source": []
  },
  {
   "cell_type": "code",
   "execution_count": null,
   "metadata": {},
   "outputs": [],
   "source": []
  },
  {
   "cell_type": "code",
   "execution_count": 22,
   "metadata": {},
   "outputs": [
    {
     "name": "stdout",
     "output_type": "stream",
     "text": [
      "Epoch 0 Batch: 275 Train Loss: 0.7152259945869446 Validation Loss: 0.728594183921814\n",
      "Epoch 1 Batch: 275 Train Loss: 0.6968151330947876 Validation Loss: 0.7169061899185181\n",
      "Epoch 2 Batch: 275 Train Loss: 0.6923260688781738 Validation Loss: 0.7032641768455505\n",
      "Epoch 3 Batch: 275 Train Loss: 0.6866199374198914 Validation Loss: 0.6919437646865845\n",
      "Epoch 4 Batch: 275 Train Loss: 0.6891058087348938 Validation Loss: 0.6842459440231323\n",
      "Epoch 5 Batch: 275 Train Loss: 0.6596768498420715 Validation Loss: 0.6667605638504028\n",
      "Epoch 6 Batch: 275 Train Loss: 0.6899262070655823 Validation Loss: 0.636630117893219\n",
      "Epoch 7 Batch: 275 Train Loss: 0.6495214700698853 Validation Loss: 0.6469529271125793\n",
      "Epoch 8 Batch: 275 Train Loss: 0.6147000193595886 Validation Loss: 0.6009319424629211\n",
      "Epoch 9 Batch: 275 Train Loss: 0.6144102811813354 Validation Loss: 0.6113882064819336\n",
      "Epoch 10 Batch: 275 Train Loss: 0.5503085851669312 Validation Loss: 0.5960824489593506\n",
      "Epoch 11 Batch: 275 Train Loss: 0.49308228492736816 Validation Loss: 0.5542689561843872\n",
      "Epoch 12 Batch: 275 Train Loss: 0.49996089935302734 Validation Loss: 0.5805615186691284\n",
      "Epoch 13 Batch: 275 Train Loss: 0.45047178864479065 Validation Loss: 0.39309078454971313\n",
      "Epoch 14 Batch: 275 Train Loss: 0.46374472975730896 Validation Loss: 0.48103076219558716\n",
      "Epoch 15 Batch: 275 Train Loss: 0.3604625165462494 Validation Loss: 0.8452125787734985\n",
      "Epoch 16 Batch: 275 Train Loss: 0.3204953074455261 Validation Loss: 0.6914194822311401\n",
      "Epoch 17 Batch: 275 Train Loss: 0.44565504789352417 Validation Loss: 1.1517585515975952\n",
      "Epoch 18 Batch: 275 Train Loss: 0.424124538898468 Validation Loss: 0.7981376647949219\n",
      "Epoch 19 Batch: 275 Train Loss: 0.2783288359642029 Validation Loss: 0.6251956820487976\n",
      "Epoch 20 Batch: 275 Train Loss: 0.4239650368690491 Validation Loss: 0.8026257753372192\n",
      "Epoch 21 Batch: 275 Train Loss: 0.17885355651378632 Validation Loss: 0.8653942942619324\n",
      "Epoch 22 Batch: 275 Train Loss: 0.10217896848917007 Validation Loss: 0.6748414039611816\n",
      "Epoch 23 Batch: 275 Train Loss: 0.06379488110542297 Validation Loss: 0.6681524515151978\n",
      "Epoch 24 Batch: 275 Train Loss: 0.24302740395069122 Validation Loss: 1.106330156326294\n",
      "Epoch 25 Batch: 275 Train Loss: 0.05697020888328552 Validation Loss: 2.4212844371795654\n",
      "Epoch 26 Batch: 275 Train Loss: 0.47072696685791016 Validation Loss: 1.0756862163543701\n",
      "Epoch 27 Batch: 275 Train Loss: 0.09173638373613358 Validation Loss: 0.6030821800231934\n",
      "Epoch 28 Batch: 275 Train Loss: 0.05814371258020401 Validation Loss: 1.330440878868103\n",
      "Epoch 29 Batch: 275 Train Loss: 0.46509790420532227 Validation Loss: 0.7132428884506226\n",
      "Epoch 30 Batch: 275 Train Loss: 0.14923201501369476 Validation Loss: 1.7411670684814453\n",
      "Epoch 31 Batch: 275 Train Loss: 0.17066970467567444 Validation Loss: 0.613972544670105\n",
      "Epoch 32 Batch: 275 Train Loss: 0.2533046007156372 Validation Loss: 1.5703089237213135\n",
      "Epoch 33 Batch: 275 Train Loss: 0.30637848377227783 Validation Loss: 1.093934178352356\n",
      "Epoch 34 Batch: 275 Train Loss: 0.17044314742088318 Validation Loss: 1.507383108139038\n",
      "Epoch 35 Batch: 275 Train Loss: 0.20573875308036804 Validation Loss: 0.5051581263542175\n",
      "Epoch 36 Batch: 275 Train Loss: 0.20574001967906952 Validation Loss: 0.5435612797737122\n",
      "Epoch 37 Batch: 275 Train Loss: 0.2538056969642639 Validation Loss: 0.7925156950950623\n",
      "Epoch 38 Batch: 275 Train Loss: 0.046195317059755325 Validation Loss: 2.363837957382202\n",
      "Epoch 39 Batch: 275 Train Loss: 0.1026914119720459 Validation Loss: 0.9896370768547058\n",
      "Epoch 40 Batch: 275 Train Loss: 0.16461144387722015 Validation Loss: 1.0839511156082153\n",
      "Epoch 41 Batch: 275 Train Loss: 0.40170907974243164 Validation Loss: 1.4437042474746704\n",
      "Epoch 42 Batch: 275 Train Loss: 0.1096787303686142 Validation Loss: 0.6046470403671265\n",
      "Epoch 43 Batch: 275 Train Loss: 0.06422537565231323 Validation Loss: 1.0056264400482178\n",
      "Epoch 44 Batch: 275 Train Loss: 0.1068309098482132 Validation Loss: 1.9178636074066162\n",
      "Epoch 45 Batch: 275 Train Loss: 0.42680487036705017 Validation Loss: 1.213338851928711\n",
      "Epoch 46 Batch: 275 Train Loss: 0.6234570741653442 Validation Loss: 1.3399728536605835\n",
      "Epoch 47 Batch: 275 Train Loss: 0.09767421334981918 Validation Loss: 1.1409051418304443\n",
      "Epoch 48 Batch: 275 Train Loss: 0.14545880258083344 Validation Loss: 1.2342373132705688\n",
      "Epoch 49 Batch: 275 Train Loss: 0.04622591286897659 Validation Loss: 0.26097461581230164\n",
      "Epoch 50 Batch: 275 Train Loss: 0.08708303421735764 Validation Loss: 1.814130425453186\n",
      "Epoch 51 Batch: 275 Train Loss: 0.2110246866941452 Validation Loss: 1.5550333261489868\n",
      "Epoch 52 Batch: 275 Train Loss: 0.25228452682495117 Validation Loss: 1.2359020709991455\n",
      "Epoch 53 Batch: 275 Train Loss: 0.08330782502889633 Validation Loss: 0.9165918231010437\n",
      "Epoch 54 Batch: 275 Train Loss: 0.5339558720588684 Validation Loss: 0.9922979474067688\n",
      "Epoch 55 Batch: 275 Train Loss: 0.17524336278438568 Validation Loss: 0.5757648944854736\n",
      "Epoch 56 Batch: 275 Train Loss: 0.44566774368286133 Validation Loss: 0.8692930340766907\n",
      "Epoch 57 Batch: 275 Train Loss: 0.0406375490128994 Validation Loss: 0.6580793261528015\n",
      "Epoch 58 Batch: 275 Train Loss: 0.17614516615867615 Validation Loss: 1.2212644815444946\n",
      "Epoch 59 Batch: 275 Train Loss: 0.03786809369921684 Validation Loss: 1.3081363439559937\n",
      "Epoch 60 Batch: 275 Train Loss: 0.30380600690841675 Validation Loss: 1.7410176992416382\n",
      "Epoch 61 Batch: 275 Train Loss: 0.13061851263046265 Validation Loss: 1.14894700050354\n",
      "Epoch 62 Batch: 275 Train Loss: 0.3972023129463196 Validation Loss: 0.8577550649642944\n",
      "Epoch 63 Batch: 275 Train Loss: 0.19427409768104553 Validation Loss: 1.2319499254226685\n",
      "Epoch 64 Batch: 275 Train Loss: 0.11161477863788605 Validation Loss: 1.1223487854003906\n",
      "Epoch 65 Batch: 275 Train Loss: 0.1570647656917572 Validation Loss: 0.3591848611831665\n",
      "Epoch 66 Batch: 275 Train Loss: 0.14188161492347717 Validation Loss: 2.3063666820526123\n",
      "Epoch 67 Batch: 275 Train Loss: 0.36390358209609985 Validation Loss: 2.173008918762207\n",
      "Epoch 68 Batch: 275 Train Loss: 0.13223464787006378 Validation Loss: 1.6115344762802124\n",
      "Epoch 69 Batch: 275 Train Loss: 0.6523873209953308 Validation Loss: 1.631045937538147\n",
      "Epoch 70 Batch: 275 Train Loss: 0.14671216905117035 Validation Loss: 0.8572365641593933\n",
      "Epoch 71 Batch: 275 Train Loss: 0.5399646759033203 Validation Loss: 0.41676443815231323\n",
      "Epoch 72 Batch: 275 Train Loss: 0.21358604729175568 Validation Loss: 0.7942097187042236\n",
      "Epoch 73 Batch: 275 Train Loss: 0.018752077594399452 Validation Loss: 1.1552623510360718\n",
      "Epoch 74 Batch: 275 Train Loss: 0.2190350592136383 Validation Loss: 2.350306987762451\n",
      "Epoch 75 Batch: 275 Train Loss: 0.13396918773651123 Validation Loss: 0.545754075050354\n",
      "Epoch 76 Batch: 275 Train Loss: 0.11679910123348236 Validation Loss: 1.0888915061950684\n",
      "Epoch 77 Batch: 275 Train Loss: 0.08213929831981659 Validation Loss: 1.186133623123169\n",
      "Epoch 78 Batch: 275 Train Loss: 0.4101034998893738 Validation Loss: 1.488165020942688\n",
      "Epoch 79 Batch: 275 Train Loss: 0.030624384060502052 Validation Loss: 1.7217776775360107\n",
      "Epoch 80 Batch: 275 Train Loss: 0.11988355219364166 Validation Loss: 0.6368292570114136\n",
      "Epoch 81 Batch: 275 Train Loss: 0.1571551412343979 Validation Loss: 1.5392491817474365\n",
      "Epoch 82 Batch: 275 Train Loss: 0.11853837966918945 Validation Loss: 2.1587159633636475\n",
      "Epoch 83 Batch: 275 Train Loss: 0.7228571176528931 Validation Loss: 0.5573782920837402\n",
      "Epoch 84 Batch: 275 Train Loss: 0.12207826226949692 Validation Loss: 0.44307756423950195\n",
      "Epoch 85 Batch: 275 Train Loss: 0.15066969394683838 Validation Loss: 1.2142261266708374\n",
      "Epoch 86 Batch: 275 Train Loss: 0.08675488084554672 Validation Loss: 1.6614558696746826\n",
      "Epoch 87 Batch: 275 Train Loss: 0.15108707547187805 Validation Loss: 0.44023022055625916\n",
      "Epoch 88 Batch: 275 Train Loss: 0.07014354318380356 Validation Loss: 1.6273472309112549\n",
      "Epoch 89 Batch: 275 Train Loss: 0.4956393241882324 Validation Loss: 1.0541599988937378\n",
      "Epoch 90 Batch: 275 Train Loss: 0.03863603621721268 Validation Loss: 0.49717217683792114\n",
      "Epoch 91 Batch: 275 Train Loss: 0.1066308245062828 Validation Loss: 1.7177222967147827\n",
      "Epoch 92 Batch: 275 Train Loss: 0.4544197916984558 Validation Loss: 0.7812901735305786\n",
      "Epoch 93 Batch: 275 Train Loss: 0.44912824034690857 Validation Loss: 1.0257999897003174\n",
      "Epoch 94 Batch: 275 Train Loss: 0.03645012900233269 Validation Loss: 0.9081376194953918\n",
      "Epoch 95 Batch: 275 Train Loss: 0.2049841582775116 Validation Loss: 0.6472145318984985\n",
      "Epoch 96 Batch: 275 Train Loss: 0.10804048925638199 Validation Loss: 0.6192670464515686\n",
      "Epoch 97 Batch: 275 Train Loss: 0.7546086311340332 Validation Loss: 2.1772046089172363\n",
      "Epoch 98 Batch: 275 Train Loss: 0.042845338582992554 Validation Loss: 1.7110300064086914\n",
      "Epoch 99 Batch: 275 Train Loss: 0.306966632604599 Validation Loss: 1.3963838815689087\n"
     ]
    }
   ],
   "source": [
    "from ignite.metrics import Precision, Recall\n",
    "from ignite.metrics import Precision ### LÄGG TILL IGNITE\n",
    "train_precision = Precision()\n",
    "train_recall = Recall()\n",
    "\n",
    "test_precision = Precision()\n",
    "test_recall = Recall()\n",
    "# https://pytorch.org/ignite/metrics.html\n",
    "\n",
    "\n",
    "epochs = 100\n",
    "\n",
    "train_losses = []\n",
    "test_losses = []\n",
    "train_correct = []\n",
    "test_correct = []\n",
    "\n",
    "# For loop epochs \n",
    "\n",
    "for i in range(epochs):\n",
    "    trn_correct = 0\n",
    "    tst_correct = 0 \n",
    "\n",
    "    # Train\n",
    "\n",
    "    for b, (X_train, y_train) in enumerate(train_loader):\n",
    "        \n",
    "        # Skip iteration if batch size not equal to stated dim\n",
    "        \n",
    "            \n",
    "        #print(X_train.shape, y_train.shape) \n",
    "        \n",
    "        b += 1\n",
    "        \n",
    "        y_pred = model(X_train.view(batch_size, -1))  # Flatten input\n",
    "        lossTrain = criterion(y_pred, y_train)\n",
    "\n",
    "        predicted = torch.max(y_pred.data,1)[1]\n",
    "\n",
    "        #calculate precision and recall\n",
    "        train_precision.update((y_pred, y_train))\n",
    "        train_recall.update((y_pred, y_train))\n",
    "      \n",
    "\n",
    "        batch_corr = (predicted == y_train).sum()\n",
    "        trn_correct += batch_corr\n",
    "\n",
    "        optimizer.zero_grad()\n",
    "        lossTrain.backward()\n",
    "        optimizer.step()\n",
    "\n",
    "        #if b%2 == 0:\n",
    "           #print(f\"Epoch {i} Batch: {b} Train Loss: {lossTrain.item()}\")\n",
    "\n",
    "    train_losses.append(lossTrain.data.item())\n",
    "    train_correct.append(trn_correct)\n",
    "\n",
    "    # Test\n",
    "    with torch.no_grad():\n",
    "        for b, (X_test,y_test) in enumerate(test_loader):\n",
    "            y_val = model(X_train.view(batch_size, -1))\n",
    "\n",
    "            predicted = torch.max(y_val.data,1)[1]\n",
    "\n",
    "            #calculate precision and recall\n",
    "            test_precision.update((y_val, y_test))\n",
    "            test_recall.update((y_val, y_test))\n",
    "            \n",
    "            loss = criterion(y_val, y_test)\n",
    "            test_losses.append(loss)\n",
    "            test_correct.append(trn_correct)\n",
    "\n",
    "        if b%5 == 0:\n",
    "            print(f\"Epoch {i} Batch: {b} Train Loss: {lossTrain.item()} Validation Loss: {loss.item()}\")\n"
   ]
  },
  {
   "cell_type": "code",
   "execution_count": 23,
   "metadata": {},
   "outputs": [
    {
     "name": "stdout",
     "output_type": "stream",
     "text": [
      "tensor([0.8966, 0.8605], dtype=torch.float64)\n",
      "tensor([0.9154, 0.8318], dtype=torch.float64)\n",
      "tensor([0.9974, 0.0024], dtype=torch.float64)\n",
      "tensor([0.6420, 0.3448], dtype=torch.float64)\n"
     ]
    }
   ],
   "source": [
    "print(train_precision.compute())\n",
    "print(train_recall.compute())\n",
    "print(test_precision.compute())\n",
    "print(test_recall.compute())"
   ]
  },
  {
   "cell_type": "code",
   "execution_count": 24,
   "metadata": {},
   "outputs": [
    {
     "data": {
      "text/plain": [
       "<matplotlib.legend.Legend at 0x7f1de0d64d00>"
      ]
     },
     "execution_count": 24,
     "metadata": {},
     "output_type": "execute_result"
    },
    {
     "data": {
      "image/png": "[encoded data removed]",
      "text/plain": [
       "<Figure size 432x288 with 1 Axes>"
      ]
     },
     "metadata": {
      "needs_background": "light"
     },
     "output_type": "display_data"
    }
   ],
   "source": [
    "plt.plot(train_losses, label=\"Train losses\")\n",
    "plt.plot(test_losses, label= \"Test losses\")\n",
    "plt.xlabel(\"Epoch\")\n",
    "plt.ylabel(\"Loss\")\n",
    "plt.legend()"
   ]
  },
  {
   "cell_type": "code",
   "execution_count": null,
   "metadata": {},
   "outputs": [],
   "source": []
  }
 ],
 "metadata": {
  "interpreter": {
   "hash": "3a5e77589088e21c3c0d4cdd96e34c3b18a8ad86691c2f192753c63150bee9a2"
  },
  "kernelspec": {
   "display_name": "Python 3.9.10 64-bit (conda)",
   "language": "python",
   "name": "python3"
  },
  "language_info": {
   "codemirror_mode": {
    "name": "ipython",
    "version": 3
   },
   "file_extension": ".py",
   "mimetype": "text/x-python",
   "name": "python",
   "nbconvert_exporter": "python",
   "pygments_lexer": "ipython3",
   "version": "3.9.10"
  },
  "orig_nbformat": 4
 },
 "nbformat": 4,
 "nbformat_minor": 2
}
