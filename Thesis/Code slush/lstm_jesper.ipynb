{
 "cells": [
  {
   "cell_type": "code",
   "execution_count": 1,
   "id": "05913f37",
   "metadata": {},
   "outputs": [],
   "source": [
    "import pandas as pd\n",
    "import numpy as np\n",
    "import edec.afterprocessing as ap\n",
    "import edec.preprocessing as pp\n",
    "import edec.modelling_functions as mo\n",
    "from sklearn.model_selection import train_test_split\n",
    "import torch\n",
    "import matplotlib.pyplot as plt\n",
    "import random\n",
    "from torch.utils.data import DataLoader, Dataset\n",
    "from sklearn import preprocessing\n",
    "from torchvision import transforms\n",
    "import time\n",
    "from torch import nn\n",
    "from torch.nn import functional as F\n",
    "from sklearn.metrics import confusion_matrix, accuracy_score, recall_score, precision_score\n",
    "from sklearn.metrics import f1_score, accuracy_score, fbeta_score\n",
    "from sklearn.linear_model import LogisticRegression\n",
    "import sklearn\n",
    "%matplotlib inline"
   ]
  },
  {
   "cell_type": "markdown",
   "id": "dad2ef8b",
   "metadata": {
    "tags": []
   },
   "source": [
    "## Data"
   ]
  },
  {
   "cell_type": "code",
   "execution_count": 2,
   "id": "50aa3966",
   "metadata": {},
   "outputs": [],
   "source": [
    "fail_train, healthy_train = ap.get_subset_data(\"train\", n_failed=30, n_healthy=10, separate=True)\n",
    "fail_val, healthy_val = ap.get_subset_data(\"val\", n_failed=30, n_healthy=100, separate=True)"
   ]
  },
  {
   "cell_type": "code",
   "execution_count": 3,
   "id": "0a921ccc",
   "metadata": {},
   "outputs": [],
   "source": [
    "# Train and val data with only Soc and Volt dev\n",
    "train_1 = ap.create_sequences_lstm(\n",
    "    fail_train, faulty=1, features_single=[\"Soc_Dev\", \"Volt_Dev\"])\n",
    "train_2 = ap.create_sequences_lstm(\n",
    "    healthy_train, faulty=0, features_single=[\"Soc_Dev\", \"Volt_Dev\"])\n",
    "train_data = train_1 + train_2\n",
    "\n",
    "val_1 = ap.create_sequences_lstm(\n",
    "    fail_val, faulty=1, features_single=[\"Soc_Dev\", \"Volt_Dev\"])\n",
    "val_2 = ap.create_sequences_lstm(\n",
    "    healthy_val, faulty=0, features_single=[\"Soc_Dev\", \"Volt_Dev\"])\n",
    "val_data = val_1 + val_2\n",
    "\n",
    "# Train and val data with all Soc and Volt values\n",
    "train_3 = ap.create_sequences_lstm(\n",
    "    fail_train, faulty=1, features_nest=[\"Sorted_Voltage\"])\n",
    "train_4 = ap.create_sequences_lstm(\n",
    "    healthy_train, faulty=0, features_nest=[\"Sorted_Voltage\"])\n",
    "train_data_full = train_3 + train_4\n",
    "\n",
    "val_3 = ap.create_sequences_lstm(\n",
    "    fail_val, faulty=1, features_nest=[\"Sorted_Voltage\"])\n",
    "val_4 = ap.create_sequences_lstm(\n",
    "    healthy_val, faulty=0, features_nest=[\"Sorted_Voltage\"])\n",
    "val_data_full = val_3 + val_4"
   ]
  },
  {
   "cell_type": "code",
   "execution_count": 4,
   "id": "926bc03d",
   "metadata": {},
   "outputs": [],
   "source": [
    "class MyDataset(Dataset):\n",
    "    def __init__(self,sequences):\n",
    "        self.sequences = sequences\n",
    "\n",
    "    def __len__(self):\n",
    "        return len(self.sequences)\n",
    "  \n",
    "    def __getitem__(self, idx):\n",
    "        sequence, label = self.sequences[idx]\n",
    "        return sequence.float(), torch.tensor(label).long()"
   ]
  },
  {
   "cell_type": "code",
   "execution_count": 5,
   "id": "197563dc",
   "metadata": {},
   "outputs": [],
   "source": [
    "train_set = MyDataset(train_data)\n",
    "val_set = MyDataset(val_data)\n",
    "batch_size = 64\n",
    "train_loader = DataLoader(dataset=train_set, batch_size=batch_size, shuffle=True,drop_last=True)\n",
    "val_loader = DataLoader(dataset=val_set, batch_size=len(val_set), shuffle=True,drop_last=True)\n",
    "\n",
    "train_set_full = MyDataset(train_data_full)\n",
    "val_set_full = MyDataset(val_data_full)\n",
    "batch_size = 64\n",
    "train_loader_full = DataLoader(dataset=train_set_full, batch_size=batch_size, shuffle=True,drop_last=True)\n",
    "val_loader_full = DataLoader(dataset=val_set_full, batch_size=len(val_set), shuffle=True,drop_last=True)"
   ]
  },
  {
   "cell_type": "code",
   "execution_count": null,
   "id": "e4b94906",
   "metadata": {},
   "outputs": [],
   "source": [
    "## testar oversampling just nu\n",
    "\n",
    "from torchsampler import ImbalancedDatasetSampler\n",
    "class testDataset(Dataset):\n",
    "    def __init__(self,sequences):\n",
    "        self.sequences = sequences\n",
    "\n",
    "    def __len__(self):\n",
    "        return len(self.sequences)\n",
    "  \n",
    "    def __getitem__(self, idx):\n",
    "        sequence, label = self.sequences[idx]\n",
    "        return sequence.float(), torch.tensor(label).long()\n",
    "    \n",
    "    def get_labels(self):\n",
    "        return [0, 1]\n",
    "\n",
    "train_set_oversample = testDataset(train_data)\n",
    "train_loader = torch.utils.data.DataLoader(\n",
    "    train_set_oversample,\n",
    "    sampler=ImbalancedDatasetSampler(train_set_oversample),\n",
    "    batch_size=args.batch_size,\n",
    "    **kwargs\n",
    ")"
   ]
  },
  {
   "cell_type": "markdown",
   "id": "8e0b2579",
   "metadata": {},
   "source": [
    "## Models"
   ]
  },
  {
   "cell_type": "code",
   "execution_count": null,
   "id": "94da1875",
   "metadata": {},
   "outputs": [],
   "source": [
    "class lstmModel(nn.Module):\n",
    "    def __init__(self, n_features, n_hidden=256, n_layers=4):\n",
    "        super().__init__()\n",
    "        \n",
    "        self.lstm = nn.LSTM(\n",
    "            input_size=n_features,\n",
    "            hidden_size=n_hidden,\n",
    "            num_layers=n_layers,\n",
    "            batch_first=True,\n",
    "            dropout=0.75\n",
    "        )\n",
    "        \n",
    "        self.classifier = nn.Linear(n_hidden, 1)\n",
    "        self.sig = nn.Sigmoid()\n",
    "    def forward(self,x):\n",
    "        _, (hidden, _) = self.lstm(x)\n",
    "        \n",
    "        out = hidden[-1]\n",
    "        out = self.classifier(out)\n",
    "        return self.sig(out)"
   ]
  },
  {
   "cell_type": "code",
   "execution_count": 6,
   "id": "c5264c9a",
   "metadata": {},
   "outputs": [],
   "source": [
    "class LSTMClassifier(nn.Module):\n",
    "    \"\"\"Very simple implementation of LSTM-based time-series classifier.\"\"\"\n",
    "    \n",
    "    def __init__(self, n_features, hidden_dim=48, layer_dim=2):\n",
    "        super().__init__()\n",
    "        self.hidden_dim = hidden_dim\n",
    "        self.layer_dim = layer_dim\n",
    "        self.rnn = nn.LSTM(n_features, hidden_dim, layer_dim, batch_first=True)\n",
    "        self.fc = nn.Linear(hidden_dim, 1)\n",
    "        self.sig = nn.Sigmoid()\n",
    "        self.batch_size = None\n",
    "        self.hidden = None\n",
    "    \n",
    "    def forward(self, x):\n",
    "        h0, c0 = self.init_hidden(x)\n",
    "        out, (hn, cn) = self.rnn(x, (h0, c0))\n",
    "        out = self.fc(out[:, -1, :])\n",
    "        return self.sig(out)\n",
    "    \n",
    "    def init_hidden(self, x):\n",
    "        h0 = torch.zeros(self.layer_dim, x.size(0), self.hidden_dim)\n",
    "        c0 = torch.zeros(self.layer_dim, x.size(0), self.hidden_dim)\n",
    "        return (h0, c0)"
   ]
  },
  {
   "cell_type": "code",
   "execution_count": null,
   "id": "ba6493a1",
   "metadata": {},
   "outputs": [],
   "source": [
    "class mediumMLP(nn.Module):\n",
    "    def __init__(self,input_shape):\n",
    "        super(mediumMLP,self).__init__()\n",
    "        self.fc1 = nn.Linear(input_shape,108)\n",
    "        self.fc2 = nn.Linear(108,36)\n",
    "        self.fc3 = nn.Linear(36,1)\n",
    "    def forward(self,x):\n",
    "        siz = x.shape\n",
    "        print(siz)\n",
    "        x = torch.reshape(x,(siz[0],-1))\n",
    "        print(x.shape)\n",
    "        x = torch.relu(self.fc1(x))\n",
    "        x = torch.relu(self.fc2(x))\n",
    "        x = torch.sigmoid(self.fc3(x))\n",
    "        return x"
   ]
  },
  {
   "cell_type": "markdown",
   "id": "c9a70983",
   "metadata": {
    "incorrectly_encoded_metadata": "jp-MarkdownHeadingCollapsed=true",
    "tags": []
   },
   "source": [
    "## Help functions"
   ]
  },
  {
   "cell_type": "code",
   "execution_count": 7,
   "id": "5588c7c9",
   "metadata": {},
   "outputs": [],
   "source": [
    "class FocalLoss(nn.Module):\n",
    "    def __init__(self, alpha=1, gamma=2):\n",
    "        super(FocalLoss, self).__init__()\n",
    "        self.alpha = alpha\n",
    "        self.gamma = gamma\n",
    "\n",
    "    def forward(self, inputs, targets):\n",
    "        bce_loss = F.binary_cross_entropy(inputs.squeeze(),  targets.float())\n",
    "        loss = self.alpha * (1 - torch.exp(-bce_loss)) ** self.gamma * bce_loss\n",
    "        return loss"
   ]
  },
  {
   "cell_type": "code",
   "execution_count": 8,
   "id": "be2c7e20",
   "metadata": {},
   "outputs": [],
   "source": [
    "def f1_loss(predict, target):\n",
    "    loss = 0\n",
    "    lack_cls = target.sum(dim=0) == 0\n",
    "    if lack_cls.any():\n",
    "        loss += F.binary_cross_entropy_with_logits(\n",
    "            predict[:, lack_cls], target[:, lack_cls])\n",
    "    predict = torch.sigmoid(predict)\n",
    "    predict = torch.clamp(predict * (1-target), min=0.01) + predict * target\n",
    "    tp = predict * target\n",
    "    tp = tp.sum(dim=0)\n",
    "    precision = tp / (predict.sum(dim=0) + 1e-8)\n",
    "    recall = tp / (target.sum(dim=0) + 1e-8)\n",
    "    f1 = 2 * (precision * recall / (precision + recall + 1e-8))\n",
    "    return 1 - f1.mean() + loss"
   ]
  },
  {
   "cell_type": "code",
   "execution_count": null,
   "id": "decc18f6",
   "metadata": {},
   "outputs": [],
   "source": [
    "#best_acc = 0\n",
    "#patience, trials = 100, 0\n",
    "\"\"\"\n",
    "    if acc > best_acc:\n",
    "        trials = 0\n",
    "        best_acc = acc\n",
    "        torch.save(model.state_dict(), 'best.pth')\n",
    "        print(f'Epoch {epoch} best model saved with accuracy: {best_acc:2.2%}')\n",
    "    else:\n",
    "        trials += 1\n",
    "        if trials >= patience:\n",
    "            print(f'Early stopping on epoch {epoch}')\n",
    "            break\n",
    "\"\"\""
   ]
  },
  {
   "cell_type": "code",
   "execution_count": 9,
   "id": "0b0835f2",
   "metadata": {},
   "outputs": [],
   "source": [
    "def train_model(n_epochs, model, lr, train_dl, val_dl):\n",
    "    criterion = FocalLoss()\n",
    "    #criterion = nn.BCELoss()\n",
    "    opt = torch.optim.Adam(model.parameters(), lr=lr)\n",
    "    print('Start model training')\n",
    "    all_train_loss, f2_all = [], []\n",
    "    for epoch in range(1, n_epochs + 1):\n",
    "        train_loss_epoch = 0\n",
    "        for i, (x_batch, y_batch) in enumerate(train_dl):\n",
    "            model.train()\n",
    "            opt.zero_grad()\n",
    "            out = model(x_batch)\n",
    "            out = out.flatten()\n",
    "            loss = criterion(out, y_batch.float())\n",
    "            #loss = f1_loss(out, y_batch.float())\n",
    "            train_loss_epoch += loss.item()\n",
    "            loss.backward()\n",
    "            opt.step()\n",
    "\n",
    "        all_train_loss.append(train_loss_epoch)\n",
    "        model.eval()\n",
    "        for x_val, y_val in val_dl:\n",
    "            out = model(x_val)\n",
    "            preds = out.round().flatten()\n",
    "        conf_mat = confusion_matrix(y_val.detach().numpy(), preds.detach().numpy())\n",
    "        if epoch == 1:\n",
    "            first_conf_mat = conf_mat\n",
    "        acc = accuracy_score(y_val.detach().numpy(), preds.detach().numpy())\n",
    "        f2 = fbeta_score(y_val.detach().numpy(), preds.detach().numpy(), beta=2)\n",
    "        f2_all.append(f2)\n",
    "        if epoch % 5 == 0:\n",
    "            print(f'Epoch: {epoch:3d}. Train Loss: {train_loss_epoch:.4f}. Val Acc: {acc:2.2%}. Val F2: {f2:4f}')\n",
    "    return f2_all, all_train_loss, conf_mat, first_conf_mat"
   ]
  },
  {
   "cell_type": "markdown",
   "id": "7841884f",
   "metadata": {
    "tags": []
   },
   "source": [
    "## LSTMClassifier, slighty smaller network"
   ]
  },
  {
   "cell_type": "code",
   "execution_count": 10,
   "id": "005d8000",
   "metadata": {},
   "outputs": [
    {
     "name": "stdout",
     "output_type": "stream",
     "text": [
      "Start model training\n",
      "Epoch:   5. Train Loss: 3.5436. Val Acc: 90.54%. Val F2: 0.518999\n",
      "Epoch:  10. Train Loss: 2.3856. Val Acc: 93.46%. Val F2: 0.718681\n",
      "Epoch:  15. Train Loss: 2.2480. Val Acc: 93.23%. Val F2: 0.721154\n",
      "Epoch:  20. Train Loss: 2.1341. Val Acc: 92.81%. Val F2: 0.720174\n",
      "Epoch:  25. Train Loss: 2.0820. Val Acc: 92.87%. Val F2: 0.720799\n",
      "Epoch:  30. Train Loss: 1.9466. Val Acc: 91.63%. Val F2: 0.710627\n",
      "Epoch:  35. Train Loss: 1.8886. Val Acc: 90.94%. Val F2: 0.708861\n",
      "Epoch:  40. Train Loss: 1.7977. Val Acc: 89.92%. Val F2: 0.704196\n",
      "Epoch:  45. Train Loss: 1.7050. Val Acc: 87.88%. Val F2: 0.692370\n",
      "Epoch:  50. Train Loss: 1.6239. Val Acc: 88.54%. Val F2: 0.698006\n",
      "Epoch:  55. Train Loss: 1.6437. Val Acc: 88.83%. Val F2: 0.700572\n",
      "Epoch:  60. Train Loss: 1.5372. Val Acc: 89.69%. Val F2: 0.703642\n",
      "Epoch:  65. Train Loss: 1.5937. Val Acc: 87.68%. Val F2: 0.692153\n",
      "Epoch:  70. Train Loss: 1.5878. Val Acc: 88.80%. Val F2: 0.700286\n",
      "Epoch:  75. Train Loss: 1.5880. Val Acc: 85.45%. Val F2: 0.680843\n",
      "Epoch:  80. Train Loss: 1.5310. Val Acc: 86.04%. Val F2: 0.682802\n",
      "Epoch:  85. Train Loss: 1.4965. Val Acc: 89.43%. Val F2: 0.702803\n",
      "Epoch:  90. Train Loss: 1.4868. Val Acc: 87.16%. Val F2: 0.687725\n",
      "Epoch:  95. Train Loss: 1.4912. Val Acc: 88.44%. Val F2: 0.695688\n",
      "Epoch: 100. Train Loss: 1.5377. Val Acc: 86.37%. Val F2: 0.684065\n"
     ]
    }
   ],
   "source": [
    "inp, _ = next(iter(train_loader))\n",
    "n_features = inp.shape[2]\n",
    "\n",
    "lr = 0.0001\n",
    "n_epochs = 100\n",
    "\n",
    "model = LSTMClassifier(n_features)\n",
    "f2, train_loss, conf_mat, first_conf_mat = train_model(\n",
    "    train_dl=train_loader, val_dl=val_loader, n_epochs=n_epochs, model=model, lr=lr)"
   ]
  },
  {
   "cell_type": "code",
   "execution_count": 11,
   "id": "9f1f2f03",
   "metadata": {},
   "outputs": [
    {
     "data": {
      "image/png": "[encoded data removed]",
      "text/plain": [
       "<Figure size 432x288 with 2 Axes>"
      ]
     },
     "metadata": {
      "needs_background": "light"
     },
     "output_type": "display_data"
    },
    {
     "name": "stdout",
     "output_type": "stream",
     "text": [
      "Start of training: \n",
      "True Negatives: 2545 True Positives: 197 False negatives: 277 False Positives: 26\n",
      "When training is over: \n",
      "True Negatives: 2284 True Positives: 346 False negatives: 128 False Positives: 287\n"
     ]
    }
   ],
   "source": [
    "fig = plt.figure()\n",
    "ax1 = fig.add_axes([0.1, 0.5, 0.8, 0.4],\n",
    "                   xticklabels=[], ylim=(0, max(train_loss)+5))\n",
    "ax2 = fig.add_axes([0.1, 0.1, 0.8, 0.4],\n",
    "                   ylim=(min(f2)-0.05, max(f2)+0.05))\n",
    "ax1.plot(train_loss,'-r', label='Training loss')\n",
    "ax2.plot(f2, label='F2-score validation')\n",
    "ax2.set_xlabel('Epoch')\n",
    "leg1 = ax1.legend()\n",
    "leg2 = ax2.legend()\n",
    "ax1.set_title(\"Only Deviations\")\n",
    "plt.show()\n",
    "\n",
    "tn, fp, fn, tp = first_conf_mat.ravel()\n",
    "print(\"Start of training: \")\n",
    "print('True Negatives:', tn, 'True Positives:', tp, 'False negatives:', fn, 'False Positives:', fp)\n",
    "tn, fp, fn, tp = conf_mat.ravel()\n",
    "print(\"When training is over: \")\n",
    "print('True Negatives:', tn, 'True Positives:', tp, 'False negatives:', fn, 'False Positives:', fp)"
   ]
  },
  {
   "cell_type": "code",
   "execution_count": 12,
   "id": "6cebe8ef",
   "metadata": {},
   "outputs": [
    {
     "name": "stdout",
     "output_type": "stream",
     "text": [
      "Start model training\n",
      "Epoch:   5. Train Loss: 8.9965. Val Acc: 84.43%. Val F2: 0.000000\n",
      "Epoch:  10. Train Loss: 8.9721. Val Acc: 84.43%. Val F2: 0.000000\n",
      "Epoch:  15. Train Loss: 8.9949. Val Acc: 84.43%. Val F2: 0.000000\n",
      "Epoch:  20. Train Loss: 8.9902. Val Acc: 84.43%. Val F2: 0.000000\n",
      "Epoch:  25. Train Loss: 8.9715. Val Acc: 84.43%. Val F2: 0.000000\n",
      "Epoch:  30. Train Loss: 9.0039. Val Acc: 84.43%. Val F2: 0.000000\n",
      "Epoch:  35. Train Loss: 8.9687. Val Acc: 84.43%. Val F2: 0.000000\n",
      "Epoch:  40. Train Loss: 9.0005. Val Acc: 84.43%. Val F2: 0.000000\n",
      "Epoch:  45. Train Loss: 8.9502. Val Acc: 84.43%. Val F2: 0.000000\n",
      "Epoch:  50. Train Loss: 8.9715. Val Acc: 84.43%. Val F2: 0.000000\n",
      "Epoch:  55. Train Loss: 8.9638. Val Acc: 84.43%. Val F2: 0.000000\n",
      "Epoch:  60. Train Loss: 8.9689. Val Acc: 84.43%. Val F2: 0.000000\n",
      "Epoch:  65. Train Loss: 8.9548. Val Acc: 84.43%. Val F2: 0.000000\n",
      "Epoch:  70. Train Loss: 8.9754. Val Acc: 84.43%. Val F2: 0.000000\n",
      "Epoch:  75. Train Loss: 8.9627. Val Acc: 84.43%. Val F2: 0.000000\n",
      "Epoch:  80. Train Loss: 8.9534. Val Acc: 84.43%. Val F2: 0.000000\n",
      "Epoch:  85. Train Loss: 8.9607. Val Acc: 84.43%. Val F2: 0.000000\n",
      "Epoch:  90. Train Loss: 8.9985. Val Acc: 84.43%. Val F2: 0.000000\n",
      "Epoch:  95. Train Loss: 8.9537. Val Acc: 84.43%. Val F2: 0.000000\n",
      "Epoch: 100. Train Loss: 8.9562. Val Acc: 84.43%. Val F2: 0.000000\n"
     ]
    }
   ],
   "source": [
    "inp, _ = next(iter(train_loader_full))\n",
    "n_features = inp.shape[2]\n",
    "\n",
    "lr = 0.001\n",
    "n_epochs = 100\n",
    "\n",
    "model_full = LSTMClassifier(n_features)\n",
    "f2_full, train_loss_full, conf_mat_full, first_conf_mat_full = train_model(\n",
    "    train_dl=train_loader_full, val_dl=val_loader_full, n_epochs=n_epochs, model=model_full, lr=lr)"
   ]
  },
  {
   "cell_type": "code",
   "execution_count": null,
   "id": "438021d9",
   "metadata": {},
   "outputs": [],
   "source": [
    "fig = plt.figure()\n",
    "ax1 = fig.add_axes([0.1, 0.5, 0.8, 0.4],\n",
    "                   xticklabels=[], ylim=(0, max(train_loss_full)+5))\n",
    "ax2 = fig.add_axes([0.1, 0.1, 0.8, 0.4],\n",
    "                   ylim=(min(f2_full)-0.05, max(f2_full)+0.05))\n",
    "ax1.plot(train_loss_full,'-r', label='Training loss')\n",
    "ax2.plot(f2_full, label='F2-score validation')\n",
    "ax2.set_xlabel('Epoch')\n",
    "leg1 = ax1.legend()\n",
    "leg2 = ax2.legend()\n",
    "ax1.set_title(\"All cell values\")\n",
    "plt.show()\n",
    "tn, fp, fn, tp = first_conf_mat_full.ravel()\n",
    "print(\"Start of training: \")\n",
    "print('True Negatives:', tn, 'True Positives:', tp, 'False negatives:', fn, 'False Positives:', fp)\n",
    "tn, fp, fn, tp = conf_mat_full.ravel()\n",
    "print(\"When training is over: \")\n",
    "print('True Negatives:', tn, 'True Positives:', tp, 'False negatives:', fn, 'False Positives:', fp)"
   ]
  },
  {
   "cell_type": "markdown",
   "id": "0aa1c081",
   "metadata": {
    "tags": []
   },
   "source": [
    "## lstmModel, deeper network"
   ]
  },
  {
   "cell_type": "code",
   "execution_count": null,
   "id": "4d6e6fc4",
   "metadata": {},
   "outputs": [],
   "source": [
    "inp, _ = next(iter(train_loader))\n",
    "n_features = inp.shape[2]\n",
    "\n",
    "lr = 0.0001\n",
    "n_epochs = 100\n",
    "\n",
    "model = lstmModel(n_features)\n",
    "f2, train_loss, conf_mat, first_conf_mat = train_model(\n",
    "    train_dl=train_loader, val_dl=val_loader, n_epochs=n_epochs, model=model, lr=lr)"
   ]
  },
  {
   "cell_type": "code",
   "execution_count": null,
   "id": "ad294226",
   "metadata": {},
   "outputs": [],
   "source": [
    "fig = plt.figure()\n",
    "ax1 = fig.add_axes([0.1, 0.5, 0.8, 0.4],\n",
    "                   xticklabels=[], ylim=(0, max(train_loss)+5))\n",
    "ax2 = fig.add_axes([0.1, 0.1, 0.8, 0.4],\n",
    "                   ylim=(min(f2)-0.05, max(f2)+0.05))\n",
    "ax1.plot(train_loss,'-r', label='Training loss')\n",
    "ax2.plot(f2, label='F2-score validation')\n",
    "ax2.set_xlabel('Epoch')\n",
    "leg1 = ax1.legend()\n",
    "leg2 = ax2.legend()\n",
    "ax1.set_title(\"Only Deviations\")\n",
    "plt.show()\n",
    "\n",
    "tn, fp, fn, tp = first_conf_mat.ravel()\n",
    "print(\"Start of training: \")\n",
    "print('True Negatives:', tn, 'True Positives:', tp, 'False negatives:', fn, 'False Positives:', fp)\n",
    "tn, fp, fn, tp = conf_mat.ravel()\n",
    "print(\"When training is over: \")\n",
    "print('True Negatives:', tn, 'True Positives:', tp, 'False negatives:', fn, 'False Positives:', fp)"
   ]
  },
  {
   "cell_type": "code",
   "execution_count": null,
   "id": "a02facad",
   "metadata": {},
   "outputs": [],
   "source": [
    "inp, _ = next(iter(train_loader_full))\n",
    "n_features = inp.shape[2]\n",
    "\n",
    "lr = 0.001\n",
    "n_epochs = 20\n",
    "\n",
    "model_full = lstmModel(n_features)\n",
    "f2_full, train_loss_full, conf_mat_full, first_conf_mat_full = train_model(\n",
    "    train_dl=train_loader_full, val_dl=val_loader_full, n_epochs=n_epochs, model=model_full, lr=lr)"
   ]
  },
  {
   "cell_type": "code",
   "execution_count": null,
   "id": "b54f72f9",
   "metadata": {},
   "outputs": [],
   "source": [
    "fig = plt.figure()\n",
    "ax1 = fig.add_axes([0.1, 0.5, 0.8, 0.4],\n",
    "                   xticklabels=[], ylim=(0, max(train_loss_full)+5))\n",
    "ax2 = fig.add_axes([0.1, 0.1, 0.8, 0.4],\n",
    "                   ylim=(min(f2_full)-0.05, max(f2_full)+0.05))\n",
    "ax1.plot(train_loss_full,'-r', label='Training loss')\n",
    "ax2.plot(f2_full, label='F2-score validation')\n",
    "ax2.set_xlabel('Epoch')\n",
    "leg1 = ax1.legend()\n",
    "leg2 = ax2.legend()\n",
    "ax1.set_title(\"All cell values\")\n",
    "plt.show()\n",
    "tn, fp, fn, tp = first_conf_mat_full.ravel()\n",
    "print(\"Start of training: \")\n",
    "print('True Negatives:', tn, 'True Positives:', tp, 'False negatives:', fn, 'False Positives:', fp)\n",
    "tn, fp, fn, tp = conf_mat_full.ravel()\n",
    "print(\"When training is over: \")\n",
    "print('True Negatives:', tn, 'True Positives:', tp, 'False negatives:', fn, 'False Positives:', fp)"
   ]
  },
  {
   "cell_type": "markdown",
   "id": "8dca4326",
   "metadata": {
    "incorrectly_encoded_metadata": "jp-MarkdownHeadingCollapsed=true",
    "tags": []
   },
   "source": [
    "## MediumMLP"
   ]
  },
  {
   "cell_type": "code",
   "execution_count": null,
   "id": "1639082c",
   "metadata": {},
   "outputs": [],
   "source": [
    "inp, _ = next(iter(train_loader))\n",
    "n_features = inp.shape[2]\n",
    "\n",
    "lr = 0.0001\n",
    "n_epochs = 50\n",
    "\n",
    "model = mediumMLP(n_features)\n",
    "f1, train_loss, conf_mat, first_conf_mat = train_model(train_dl=train_loader, val_dl=val_loader, n_epochs=n_epochs, model=model, lr=lr)"
   ]
  },
  {
   "cell_type": "code",
   "execution_count": null,
   "id": "4e73f5d2",
   "metadata": {},
   "outputs": [],
   "source": [
    "fig = plt.figure()\n",
    "ax1 = fig.add_axes([0.1, 0.5, 0.8, 0.4],\n",
    "                   xticklabels=[], ylim=(0, max(train_loss)+5))\n",
    "ax2 = fig.add_axes([0.1, 0.1, 0.8, 0.4],\n",
    "                   ylim=(min(f1)-0.05, max(f1)+0.05))\n",
    "ax1.plot(train_loss,'-r', label='Training loss')\n",
    "ax2.plot(f1, label='F1-score validation')\n",
    "ax2.set_xlabel('Epoch')\n",
    "leg1 = ax1.legend()\n",
    "leg2 = ax2.legend()\n",
    "plt.show()\n",
    "display(first_conf_mat)\n",
    "display(conf_mat)"
   ]
  }
 ],
 "metadata": {
  "interpreter": {
   "hash": "3a5e77589088e21c3c0d4cdd96e34c3b18a8ad86691c2f192753c63150bee9a2"
  },
  "kernelspec": {
   "display_name": "sohvida",
   "language": "python",
   "name": "python3"
  },
  "language_info": {
   "codemirror_mode": {
    "name": "ipython",
    "version": 3
   },
   "file_extension": ".py",
   "mimetype": "text/x-python",
   "name": "python",
   "nbconvert_exporter": "python",
   "pygments_lexer": "ipython3",
   "version": "3.9.10"
  }
 },
 "nbformat": 4,
 "nbformat_minor": 5
}
