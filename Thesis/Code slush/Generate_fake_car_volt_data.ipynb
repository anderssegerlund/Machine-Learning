{
 "cells": [
  {
   "cell_type": "code",
   "execution_count": 144,
   "id": "a4c9cb32",
   "metadata": {
    "lines_to_next_cell": 2
   },
   "outputs": [],
   "source": [
    "import numpy as np\n",
    "import pandas as pd\n",
    "import random\n",
    "import torch\n",
    "import torch.nn as nn\n",
    "import torch.nn.functional as F\n",
    "from torch.utils.data import DataLoader\n",
    "from sklearn.metrics import confusion_matrix\n",
    "import seaborn as sns\n",
    "import matplotlib.pyplot as plt\n",
    "%matplotlib inline"
   ]
  },
  {
   "cell_type": "markdown",
   "id": "3d9ba0d7",
   "metadata": {},
   "source": [
    "## Generate fake data"
   ]
  },
  {
   "cell_type": "code",
   "execution_count": 145,
   "id": "8bfd7cbb",
   "metadata": {},
   "outputs": [],
   "source": [
    "# Alternative 1: Use normalization of each sequence\n",
    "def normalize(x):\n",
    "    # Normalize according to: Normalizatio\n",
    "\n",
    "    x_min = x.min()\n",
    "    x_max = x.max()\n",
    "    \n",
    "    if (x_max -x_min) == 0:\n",
    "         x = np.zeros_like(x)\n",
    "    else:\n",
    "        x = (x-x_min)/(x_max -x_min)\n",
    "    return x"
   ]
  },
  {
   "cell_type": "code",
   "execution_count": 146,
   "id": "d5880a0e",
   "metadata": {},
   "outputs": [],
   "source": [
    "# Alternative 2: Use standardization of each sequence\n",
    "def normalize(x):\n",
    "    # Normalize according to: Standardization\n",
    "\n",
    "    # https://stackabuse.com/feature-scaling-data-with-scikit-learn-for-machine-learning-in-python/\n",
    "    x_mean = x.mean()\n",
    "    x_std = x.std()\n",
    "    \n",
    "    if x_std == 0:\n",
    "        x = np.zeros_like(x)\n",
    "    else:\n",
    "        x = (x-x_mean)/(x_std)\n",
    "    return x"
   ]
  },
  {
   "cell_type": "code",
   "execution_count": null,
   "id": "15969985",
   "metadata": {},
   "outputs": [],
   "source": []
  },
  {
   "cell_type": "code",
   "execution_count": 147,
   "id": "073dba40",
   "metadata": {},
   "outputs": [],
   "source": [
    "def plot_example(select_samples, fail=1):\n",
    "    \"\"\"Function for plotting n numbers of select_samples. This function can be runned after \"data\" is created\"\"\"\n",
    "    \n",
    "    sample_from = random.randint(min(data_info[f\"index_{fail}\"]), max(data_info[f\"index_{fail}\"])-select_samples)\n",
    "    fig, ax = plt.subplots(select_samples,1,figsize=(8,8))\n",
    "\n",
    "    for i,j in enumerate(range(sample_from, sample_from+select_samples)):\n",
    "\n",
    "        ax[i].plot(data[j][0].T)\n",
    "    plt.show()"
   ]
  },
  {
   "cell_type": "code",
   "execution_count": null,
   "id": "701eac3d",
   "metadata": {
    "lines_to_next_cell": 2
   },
   "outputs": [],
   "source": []
  },
  {
   "cell_type": "markdown",
   "id": "c0c0bcfd",
   "metadata": {
    "lines_to_next_cell": 2
   },
   "source": [
    "### Examaple of how function is operating"
   ]
  },
  {
   "cell_type": "code",
   "execution_count": 150,
   "id": "906d960d",
   "metadata": {
    "lines_to_next_cell": 2
   },
   "outputs": [
    {
     "data": {
      "image/png": "[encoded data removed]",
      "text/plain": [
       "<Figure size 864x288 with 2 Axes>"
      ]
     },
     "metadata": {
      "needs_background": "light"
     },
     "output_type": "display_data"
    }
   ],
   "source": [
    "time_steps = 5\n",
    "n_cells = 10 # Amount of cells in pack\n",
    "x = np.zeros([time_steps,n_cells])\n",
    "\n",
    "\n",
    "fig, ax = plt.subplots(1,2,figsize=(12,4))\n",
    "\n",
    "failed_cell = 1 # Which cell is the failing cell\n",
    "is_fail = True# Does the pack include a failed cell\n",
    "volt_stochastic = 0.9\n",
    "y=0\n",
    "\n",
    "for i in range(1,time_steps):\n",
    "    sigma = 0.0 # How much is the fluctuation\n",
    "    median = random.uniform(2, 4)\n",
    "    volt = np.random.normal(loc=median, scale=sigma, size=n_cells)\n",
    "    if is_fail:\n",
    "        r = random.random()\n",
    "        if r < volt_stochastic:\n",
    "            stochstic_amplifier = random.randint(1,10)\n",
    "            \n",
    "            y = (1-i/stochstic_amplifier)\n",
    "            #print(y)\n",
    "            volt[failed_cell]*=y\n",
    "    ax[1].scatter(i,y,label=f\"Timestamp {i}\")\n",
    "    ax[1].legend(bbox_to_anchor=(1.05, 1.0), loc='upper left')\n",
    "    ax[1] = plt.gca()\n",
    "    #ax[1].set_ylim(ax[1].get_ylim()[::-1])\n",
    "    x[i,:] = volt\n",
    "            \n",
    "    ax[0].plot(volt,label=f\"Timestamp {i}\")\n",
    "    ax[0].legend(bbox_to_anchor=(1.05, 1.0), loc='lower right')\n",
    "#plt.ylim(0,16)\n",
    "#plt.legend()\n",
    "\n",
    "\n",
    "\n",
    "#plt.scatter(x_arr, y_arr)\n",
    "#ax = plt.gca()\n",
    "#ax.set_ylim(ax.get_ylim()[::-1])"
   ]
  },
  {
   "cell_type": "markdown",
   "id": "30580d86",
   "metadata": {
    "lines_to_next_cell": 2
   },
   "source": [
    "### Function for creating a sequence for one car (with n time_steps, n fells, etc)"
   ]
  },
  {
   "cell_type": "code",
   "execution_count": 151,
   "id": "34d17235",
   "metadata": {},
   "outputs": [],
   "source": [
    "def create_sequence(time_steps=2, n_cells=4, failed_cell=1, is_fail=True, sigma=0.0, volt_stochastic = 0.9, normalize_x=False):\n",
    "    x = np.zeros([time_steps,n_cells])\n",
    "    for i in range(0,time_steps):\n",
    "        median = random.uniform(2, 4)\n",
    "        volt = np.random.normal(loc=median, scale=sigma, size=n_cells)\n",
    "        if is_fail:\n",
    "            r = random.random()\n",
    "            if r < volt_stochastic:\n",
    "                stochstic_amplifier = random.randint(1,10) # 100, 1000\n",
    "\n",
    "                y = (1-(i+1)/stochstic_amplifier)\n",
    "                #print(y)\n",
    "                volt[failed_cell]*=y\n",
    "        x[i,:] = volt\n",
    "    if normalize_x:\n",
    "        x_norm = np.zeros_like(x)\n",
    "        for i in range(len(x)):\n",
    "            x_norm[i,:] = normalize(x[i,:])\n",
    "        #x = normalize(x)\n",
    "        x = x_norm\n",
    "    if is_fail:\n",
    "        label = 1\n",
    "    else:\n",
    "        label = 0\n",
    "    return x, label"
   ]
  },
  {
   "cell_type": "code",
   "execution_count": null,
   "id": "8e1539b1",
   "metadata": {
    "lines_to_next_cell": 2
   },
   "outputs": [],
   "source": []
  },
  {
   "cell_type": "markdown",
   "id": "699cdf1c",
   "metadata": {},
   "source": [
    "### Function for createing a dataset with sequences"
   ]
  },
  {
   "cell_type": "code",
   "execution_count": 152,
   "id": "92d6b8d6",
   "metadata": {
    "lines_to_next_cell": 0
   },
   "outputs": [],
   "source": [
    "time_steps=5\n",
    "n_cells=10\n",
    "failed_cell=2\n",
    "sigma=0.0\n",
    "volt_stochastic = 0.9\n",
    "\n",
    "normalize_x=True\n",
    "\n",
    "def create_data(n_healthy=2, n_fails=2,time_steps=time_steps, random_cell_fail=False, failed_cell=3,sigma=sigma, volt_stochastic=volt_stochastic, n_cells=n_cells):\n",
    "    data = []\n",
    "    \n",
    "    data_info ={\"index_1\":[],\n",
    "           \"index_0\": []} \n",
    "    for i in range(n_healthy+n_fails):\n",
    "        if i >= n_healthy:\n",
    "            fail=True\n",
    "        else:\n",
    "            fail=False\n",
    "        if random_cell_fail:\n",
    "            failed_cell = random.randint(0,n_cells-1)\n",
    "        #else:\n",
    "            #continue\n",
    "\n",
    "        x,y = create_sequence(time_steps=time_steps, n_cells=n_cells, failed_cell=failed_cell, is_fail=fail, sigma=sigma, volt_stochastic=volt_stochastic, normalize_x=normalize_x)\n",
    "        data.append((torch.FloatTensor(x),y))\n",
    "        \n",
    "        #Finn data_info\n",
    "        if y == 1:\n",
    "            data_info[\"index_1\"].append(i)\n",
    "            \n",
    "        if y == 0:\n",
    "            data_info[\"index_0\"].append(i)\n",
    "            \n",
    "    return (data, data_info)\n",
    "    \n",
    "\n",
    "data, data_info = create_data(n_healthy=1000, n_fails=1000,random_cell_fail=False, failed_cell=3)"
   ]
  },
  {
   "cell_type": "code",
   "execution_count": null,
   "id": "5887cf33",
   "metadata": {
    "lines_to_next_cell": 2
   },
   "outputs": [],
   "source": []
  },
  {
   "cell_type": "markdown",
   "id": "6d5f9532",
   "metadata": {
    "lines_to_next_cell": 2
   },
   "source": [
    "## plot n random samples from failed"
   ]
  },
  {
   "cell_type": "code",
   "execution_count": 153,
   "id": "2c8bb0a8",
   "metadata": {},
   "outputs": [
    {
     "data": {
      "image/png": "[encoded data removed]",
      "text/plain": [
       "<Figure size 576x576 with 2 Axes>"
      ]
     },
     "metadata": {
      "needs_background": "light"
     },
     "output_type": "display_data"
    }
   ],
   "source": [
    "\"\"\"\n",
    "Select number of samples to be plotted. \n",
    "Select if plot fail(1) och healthy (0)\n",
    "\"\"\"\n",
    "plot_example(select_samples=2, fail=1)"
   ]
  },
  {
   "cell_type": "code",
   "execution_count": null,
   "id": "6a74a1e5",
   "metadata": {
    "lines_to_next_cell": 2
   },
   "outputs": [],
   "source": []
  },
  {
   "cell_type": "markdown",
   "id": "6b10782d",
   "metadata": {},
   "source": [
    "## Create dataset"
   ]
  },
  {
   "cell_type": "code",
   "execution_count": null,
   "id": "f36c85cc",
   "metadata": {},
   "outputs": [],
   "source": []
  },
  {
   "cell_type": "code",
   "execution_count": 181,
   "id": "5bfe1054",
   "metadata": {
    "lines_to_next_cell": 2
   },
   "outputs": [],
   "source": [
    "time_steps=3\n",
    "n_cells=5\n",
    "\n",
    "sigma=0.05\n",
    "volt_stochastic = 0.9\n",
    "normalize_x=True\n",
    "failed_cell=3          # Select cell to fail\n",
    "random_cell_fail=True  # Select True for a random cell fail\n",
    "\n",
    "n_healthy = 1000\n",
    "n_fails = 100\n",
    "\n",
    "data, data_info = create_data(n_healthy=n_healthy, n_fails=n_fails, time_steps=time_steps, random_cell_fail=random_cell_fail, failed_cell=failed_cell,sigma=sigma, volt_stochastic=volt_stochastic, n_cells=n_cells)"
   ]
  },
  {
   "cell_type": "code",
   "execution_count": 182,
   "id": "56d5c659",
   "metadata": {
    "lines_to_next_cell": 2
   },
   "outputs": [
    {
     "data": {
      "image/png": "[encoded data removed]",
      "text/plain": [
       "<Figure size 576x576 with 2 Axes>"
      ]
     },
     "metadata": {
      "needs_background": "light"
     },
     "output_type": "display_data"
    }
   ],
   "source": [
    "plot_example(select_samples=2, fail=1)"
   ]
  },
  {
   "cell_type": "code",
   "execution_count": 183,
   "id": "75862eb2",
   "metadata": {},
   "outputs": [],
   "source": [
    "train_size = int(len(data)*0.8)\n",
    "test_size = len(data) - train_size\n",
    "train_set, test_set = torch.utils.data.random_split(data,[train_size, test_size])\n",
    "batch_size = 10\n",
    "train_loader = DataLoader(dataset=train_set, batch_size=batch_size, shuffle=True,drop_last=True)\n",
    "test_loader = DataLoader(dataset=test_set, batch_size=batch_size, shuffle=True,drop_last=True)"
   ]
  },
  {
   "cell_type": "code",
   "execution_count": 184,
   "id": "361c2e09",
   "metadata": {},
   "outputs": [],
   "source": [
    "class ANNMultilayerperceptron(nn.Module):\n",
    "\n",
    "    def __init__(self, input_size=(time_steps*n_cells),output_size=2):  # 120, 84\n",
    "        super().__init__()\n",
    "\n",
    "        self.fc1 = nn.Linear(input_size, 200)\n",
    "        self.fc2 = nn.Linear(200, 400)\n",
    "        self.fc2b = nn.Linear(400, 1800)\n",
    "        self.fc2c = nn.Linear(1800, 400)\n",
    "        self.fc2d = nn.Linear(400, 200)\n",
    "        self.fc3 = nn.Linear(200, output_size)\n",
    "\n",
    "    def forward(self,X):\n",
    "        X = F.relu(self.fc1(X))\n",
    "        X = F.relu(self.fc2(X))\n",
    "        X = F.relu(self.fc2b(X))\n",
    "        X = F.relu(self.fc2c(X))\n",
    "        X = F.relu(self.fc2d(X))\n",
    "        X = self.fc3(X)\n",
    "\n",
    "        #return F.log_softmax(X,dim=1) # PGA multiclass classification\n",
    "        return X\n",
    "\n",
    "model = ANNMultilayerperceptron()\n",
    "#model   "
   ]
  },
  {
   "cell_type": "code",
   "execution_count": 185,
   "id": "0a76454c",
   "metadata": {},
   "outputs": [],
   "source": [
    "criterion = nn.CrossEntropyLoss()\n",
    "optimizer = torch.optim.Adam(model.parameters(), lr=0.0001)\n",
    "#optimizer = torch.optim.Adadelta(model.parameters(), lr=0.001)\n",
    "#optimizer = torch.optim.SGD(model.parameters(), lr=0.001)"
   ]
  },
  {
   "cell_type": "code",
   "execution_count": 186,
   "id": "587e4c72",
   "metadata": {},
   "outputs": [
    {
     "name": "stdout",
     "output_type": "stream",
     "text": [
      "Epoch 0 Batch: 10 Train Loss: 0.6075370907783508\n",
      "Epoch 0 Batch: 20 Train Loss: 0.36045587062835693\n",
      "Epoch 0 Batch: 30 Train Loss: 0.3414844572544098\n",
      "Epoch 0 Batch: 40 Train Loss: 0.3259475529193878\n",
      "Epoch 0 Batch: 50 Train Loss: 0.32522743940353394\n",
      "Epoch 0 Batch: 60 Train Loss: 0.6867327094078064\n",
      "Epoch 0 Batch: 70 Train Loss: 0.17013120651245117\n",
      "Epoch 0 Batch: 80 Train Loss: 0.28470927476882935\n",
      "Epoch 1 Batch: 10 Train Loss: 0.5368828773498535\n",
      "Epoch 1 Batch: 20 Train Loss: 0.04503963142633438\n",
      "Epoch 1 Batch: 30 Train Loss: 0.06653056293725967\n",
      "Epoch 1 Batch: 40 Train Loss: 0.06520994752645493\n",
      "Epoch 1 Batch: 50 Train Loss: 0.20206937193870544\n",
      "Epoch 1 Batch: 60 Train Loss: 0.059108007699251175\n",
      "Epoch 1 Batch: 70 Train Loss: 0.09327319264411926\n",
      "Epoch 1 Batch: 80 Train Loss: 0.24957701563835144\n",
      "Epoch 2 Batch: 10 Train Loss: 0.18403437733650208\n",
      "Epoch 2 Batch: 20 Train Loss: 0.23133954405784607\n",
      "Epoch 2 Batch: 30 Train Loss: 0.041995782405138016\n",
      "Epoch 2 Batch: 40 Train Loss: 0.023034069687128067\n",
      "Epoch 2 Batch: 50 Train Loss: 0.3567124009132385\n",
      "Epoch 2 Batch: 60 Train Loss: 0.016990547999739647\n",
      "Epoch 2 Batch: 70 Train Loss: 0.03234444558620453\n",
      "Epoch 2 Batch: 80 Train Loss: 0.010095631703734398\n",
      "Epoch 3 Batch: 10 Train Loss: 0.1290244311094284\n",
      "Epoch 3 Batch: 20 Train Loss: 0.01621871069073677\n",
      "Epoch 3 Batch: 30 Train Loss: 0.0032406109385192394\n",
      "Epoch 3 Batch: 40 Train Loss: 0.2320684939622879\n",
      "Epoch 3 Batch: 50 Train Loss: 0.0233966875821352\n",
      "Epoch 3 Batch: 60 Train Loss: 0.008710397407412529\n",
      "Epoch 3 Batch: 70 Train Loss: 0.027941202744841576\n",
      "Epoch 3 Batch: 80 Train Loss: 0.050755102187395096\n",
      "Epoch 4 Batch: 10 Train Loss: 0.0016244932776317\n",
      "Epoch 4 Batch: 20 Train Loss: 0.02641015686094761\n",
      "Epoch 4 Batch: 30 Train Loss: 0.022408554330468178\n",
      "Epoch 4 Batch: 40 Train Loss: 0.013706264086067677\n",
      "Epoch 4 Batch: 50 Train Loss: 0.09196648746728897\n",
      "Epoch 4 Batch: 60 Train Loss: 0.037067122757434845\n",
      "Epoch 4 Batch: 70 Train Loss: 0.011459363624453545\n",
      "Epoch 4 Batch: 80 Train Loss: 0.37407970428466797\n",
      "Epoch 5 Batch: 10 Train Loss: 0.0006121507030911744\n",
      "Epoch 5 Batch: 20 Train Loss: 0.000995170557871461\n",
      "Epoch 5 Batch: 30 Train Loss: 0.016470549628138542\n",
      "Epoch 5 Batch: 40 Train Loss: 0.06823078542947769\n",
      "Epoch 5 Batch: 50 Train Loss: 0.45878180861473083\n",
      "Epoch 5 Batch: 60 Train Loss: 0.0254153273999691\n",
      "Epoch 5 Batch: 70 Train Loss: 0.05135297030210495\n",
      "Epoch 5 Batch: 80 Train Loss: 0.07989605516195297\n",
      "Epoch 6 Batch: 10 Train Loss: 0.002945404965430498\n",
      "Epoch 6 Batch: 20 Train Loss: 0.008550365455448627\n",
      "Epoch 6 Batch: 30 Train Loss: 0.005104402545839548\n",
      "Epoch 6 Batch: 40 Train Loss: 0.0006613931036554277\n",
      "Epoch 6 Batch: 50 Train Loss: 0.0011567987967282534\n",
      "Epoch 6 Batch: 60 Train Loss: 0.010762069374322891\n",
      "Epoch 6 Batch: 70 Train Loss: 0.011818959377706051\n",
      "Epoch 6 Batch: 80 Train Loss: 0.00508951535448432\n",
      "Epoch 7 Batch: 10 Train Loss: 0.0010112263262271881\n",
      "Epoch 7 Batch: 20 Train Loss: 0.009699998423457146\n",
      "Epoch 7 Batch: 30 Train Loss: 0.0008473179186694324\n",
      "Epoch 7 Batch: 40 Train Loss: 0.0032004169188439846\n",
      "Epoch 7 Batch: 50 Train Loss: 0.002813429106026888\n",
      "Epoch 7 Batch: 60 Train Loss: 0.0016734078526496887\n",
      "Epoch 7 Batch: 70 Train Loss: 4.359258309705183e-05\n",
      "Epoch 7 Batch: 80 Train Loss: 0.0009326910367235541\n",
      "Epoch 8 Batch: 10 Train Loss: 0.0007770449155941606\n",
      "Epoch 8 Batch: 20 Train Loss: 7.982268289197236e-05\n",
      "Epoch 8 Batch: 30 Train Loss: 0.000960068660788238\n",
      "Epoch 8 Batch: 40 Train Loss: 0.0013207526644691825\n",
      "Epoch 8 Batch: 50 Train Loss: 1.701083965599537e-05\n",
      "Epoch 8 Batch: 60 Train Loss: 0.004941959399729967\n",
      "Epoch 8 Batch: 70 Train Loss: 0.0009147372329607606\n",
      "Epoch 8 Batch: 80 Train Loss: 0.0020480090752243996\n",
      "Epoch 9 Batch: 10 Train Loss: 0.00251855980604887\n",
      "Epoch 9 Batch: 20 Train Loss: 6.997506716288626e-06\n",
      "Epoch 9 Batch: 30 Train Loss: 0.0012741381069645286\n",
      "Epoch 9 Batch: 40 Train Loss: 0.0018641857896000147\n",
      "Epoch 9 Batch: 50 Train Loss: 0.0011288475943729281\n",
      "Epoch 9 Batch: 60 Train Loss: 0.0018035961547866464\n",
      "Epoch 9 Batch: 70 Train Loss: 3.509303496684879e-05\n",
      "Epoch 9 Batch: 80 Train Loss: 7.41629846743308e-05\n",
      "Epoch 10 Batch: 10 Train Loss: 0.0013313200324773788\n",
      "Epoch 10 Batch: 20 Train Loss: 4.482232725422364e-06\n",
      "Epoch 10 Batch: 30 Train Loss: 0.001379855559207499\n",
      "Epoch 10 Batch: 40 Train Loss: 4.742955934489146e-05\n",
      "Epoch 10 Batch: 50 Train Loss: 0.00028955034213140607\n",
      "Epoch 10 Batch: 60 Train Loss: 0.00020261369354557246\n",
      "Epoch 10 Batch: 70 Train Loss: 5.864447302883491e-05\n",
      "Epoch 10 Batch: 80 Train Loss: 0.0005496397498063743\n",
      "Epoch 11 Batch: 10 Train Loss: 0.0014458067016676068\n",
      "Epoch 11 Batch: 20 Train Loss: 0.0007311581866815686\n",
      "Epoch 11 Batch: 30 Train Loss: 0.0006513652624562383\n",
      "Epoch 11 Batch: 40 Train Loss: 0.0008074067300185561\n",
      "Epoch 11 Batch: 50 Train Loss: 0.0007462307694368064\n",
      "Epoch 11 Batch: 60 Train Loss: 0.000207445933483541\n",
      "Epoch 11 Batch: 70 Train Loss: 0.0009812064236029983\n",
      "Epoch 11 Batch: 80 Train Loss: 0.0009241196094080806\n",
      "Epoch 12 Batch: 10 Train Loss: 0.0009174376027658582\n",
      "Epoch 12 Batch: 20 Train Loss: 0.00013511200086213648\n",
      "Epoch 12 Batch: 30 Train Loss: 0.00010335076513001695\n",
      "Epoch 12 Batch: 40 Train Loss: 0.0005544247687794268\n",
      "Epoch 12 Batch: 50 Train Loss: 0.0018442835425958037\n",
      "Epoch 12 Batch: 60 Train Loss: 0.0001235754752997309\n",
      "Epoch 12 Batch: 70 Train Loss: 0.0005928940954618156\n",
      "Epoch 12 Batch: 80 Train Loss: 0.0001302327000303194\n",
      "Epoch 13 Batch: 10 Train Loss: 0.0003258194192312658\n",
      "Epoch 13 Batch: 20 Train Loss: 2.477059570082929e-05\n",
      "Epoch 13 Batch: 30 Train Loss: 0.0002498864778317511\n",
      "Epoch 13 Batch: 40 Train Loss: 0.0002715832379180938\n",
      "Epoch 13 Batch: 50 Train Loss: 7.659571565454826e-05\n",
      "Epoch 13 Batch: 60 Train Loss: 0.00030250128475017846\n",
      "Epoch 13 Batch: 70 Train Loss: 0.00039076549001038074\n",
      "Epoch 13 Batch: 80 Train Loss: 1.4197270502336323e-05\n",
      "Epoch 14 Batch: 10 Train Loss: 0.00017394055612385273\n",
      "Epoch 14 Batch: 20 Train Loss: 0.0010738142300397158\n",
      "Epoch 14 Batch: 30 Train Loss: 1.7010494048008695e-05\n",
      "Epoch 14 Batch: 40 Train Loss: 0.0012587248347699642\n",
      "Epoch 14 Batch: 50 Train Loss: 0.00010922733781626448\n",
      "Epoch 14 Batch: 60 Train Loss: 0.0006239165086299181\n",
      "Epoch 14 Batch: 70 Train Loss: 5.561622674576938e-05\n",
      "Epoch 14 Batch: 80 Train Loss: 0.0005153716774657369\n",
      "Epoch 15 Batch: 10 Train Loss: 0.00019220674585085362\n",
      "Epoch 15 Batch: 20 Train Loss: 0.0004453368892427534\n",
      "Epoch 15 Batch: 30 Train Loss: 8.13470032881014e-05\n",
      "Epoch 15 Batch: 40 Train Loss: 2.247003976663109e-05\n",
      "Epoch 15 Batch: 50 Train Loss: 0.0007021371275186539\n",
      "Epoch 15 Batch: 60 Train Loss: 0.0009509951923973858\n",
      "Epoch 15 Batch: 70 Train Loss: 0.00018185688531957567\n",
      "Epoch 15 Batch: 80 Train Loss: 3.5602744901552796e-05\n",
      "Epoch 16 Batch: 10 Train Loss: 0.0006621230859309435\n",
      "Epoch 16 Batch: 20 Train Loss: 1.2778700693161227e-05\n",
      "Epoch 16 Batch: 30 Train Loss: 4.4018706830684096e-05\n",
      "Epoch 16 Batch: 40 Train Loss: 5.713205973734148e-05\n",
      "Epoch 16 Batch: 50 Train Loss: 0.00043801538413390517\n",
      "Epoch 16 Batch: 60 Train Loss: 4.344433909864165e-05\n",
      "Epoch 16 Batch: 70 Train Loss: 7.510180353165197e-07\n",
      "Epoch 16 Batch: 80 Train Loss: 0.000256227096542716\n",
      "Epoch 17 Batch: 10 Train Loss: 0.00013782561291009188\n",
      "Epoch 17 Batch: 20 Train Loss: 0.0001912597072077915\n",
      "Epoch 17 Batch: 30 Train Loss: 0.00010479309275979176\n",
      "Epoch 17 Batch: 40 Train Loss: 5.26018557138741e-05\n",
      "Epoch 17 Batch: 50 Train Loss: 0.0002964433515444398\n",
      "Epoch 17 Batch: 60 Train Loss: 5.438096195575781e-05\n",
      "Epoch 17 Batch: 70 Train Loss: 2.9252350941533223e-05\n",
      "Epoch 17 Batch: 80 Train Loss: 0.00023881936795078218\n",
      "Epoch 18 Batch: 10 Train Loss: 0.00010574115731287748\n",
      "Epoch 18 Batch: 20 Train Loss: 3.3378583452758903e-07\n",
      "Epoch 18 Batch: 30 Train Loss: 4.1764909838093445e-05\n",
      "Epoch 18 Batch: 40 Train Loss: 3.6773013562196866e-05\n",
      "Epoch 18 Batch: 50 Train Loss: 4.558844375424087e-05\n",
      "Epoch 18 Batch: 60 Train Loss: 5.4414045735029504e-05\n",
      "Epoch 18 Batch: 70 Train Loss: 1.0251488674839493e-05\n",
      "Epoch 18 Batch: 80 Train Loss: 1.7189378922921605e-05\n",
      "Epoch 19 Batch: 10 Train Loss: 0.00011035270290449262\n",
      "Epoch 19 Batch: 20 Train Loss: 8.099441038211808e-05\n",
      "Epoch 19 Batch: 30 Train Loss: 0.00014174965326674283\n",
      "Epoch 19 Batch: 40 Train Loss: 1.7701415345072746e-05\n",
      "Epoch 19 Batch: 50 Train Loss: 6.223048694664612e-05\n",
      "Epoch 19 Batch: 60 Train Loss: 1.4781211575609632e-05\n",
      "Epoch 19 Batch: 70 Train Loss: 2.699905053304974e-05\n",
      "Epoch 19 Batch: 80 Train Loss: 0.0003225464897695929\n",
      "Epoch 20 Batch: 10 Train Loss: 4.273158992873505e-05\n",
      "Epoch 20 Batch: 20 Train Loss: 1.6247435269178823e-05\n",
      "Epoch 20 Batch: 30 Train Loss: 1.3875025615561754e-05\n",
      "Epoch 20 Batch: 40 Train Loss: 5.972257440589601e-06\n",
      "Epoch 20 Batch: 50 Train Loss: 0.00038054020842537284\n",
      "Epoch 20 Batch: 60 Train Loss: 3.2782215839688433e-06\n",
      "Epoch 20 Batch: 70 Train Loss: 3.7550521483353805e-06\n",
      "Epoch 20 Batch: 80 Train Loss: 0.00013264357403386384\n",
      "Epoch 21 Batch: 10 Train Loss: 5.3141800890443847e-05\n",
      "Epoch 21 Batch: 20 Train Loss: 2.7261816285317764e-05\n",
      "Epoch 21 Batch: 30 Train Loss: 1.571128814248368e-05\n",
      "Epoch 21 Batch: 40 Train Loss: 3.766988129427773e-06\n",
      "Epoch 21 Batch: 50 Train Loss: 2.1373218260123394e-05\n",
      "Epoch 21 Batch: 60 Train Loss: 2.1134694179636426e-05\n",
      "Epoch 21 Batch: 70 Train Loss: 2.0265574107725115e-07\n",
      "Epoch 21 Batch: 80 Train Loss: 3.0456856620730832e-05\n",
      "Epoch 22 Batch: 10 Train Loss: 4.827866177947726e-06\n",
      "Epoch 22 Batch: 20 Train Loss: 0.00018241404904983938\n",
      "Epoch 22 Batch: 30 Train Loss: 0.00016156693163793534\n",
      "Epoch 22 Batch: 40 Train Loss: 3.442605520831421e-05\n",
      "Epoch 22 Batch: 50 Train Loss: 0.00011228752555325627\n",
      "Epoch 22 Batch: 60 Train Loss: 2.3792932552169077e-05\n",
      "Epoch 22 Batch: 70 Train Loss: 1.624751530471258e-05\n",
      "Epoch 22 Batch: 80 Train Loss: 9.35776643018471e-06\n",
      "Epoch 23 Batch: 10 Train Loss: 3.933903371944325e-07\n",
      "Epoch 23 Batch: 20 Train Loss: 2.3484051325795008e-06\n",
      "Epoch 23 Batch: 30 Train Loss: 4.6318014938151464e-05\n",
      "Epoch 23 Batch: 40 Train Loss: 0.00024170707911252975\n",
      "Epoch 23 Batch: 50 Train Loss: 9.114867134485394e-05\n",
      "Epoch 23 Batch: 60 Train Loss: 8.521917334292084e-05\n",
      "Epoch 23 Batch: 70 Train Loss: 9.20270940696355e-06\n",
      "Epoch 23 Batch: 80 Train Loss: 0.0001048302510753274\n",
      "Epoch 24 Batch: 10 Train Loss: 4.768312919622986e-06\n",
      "Epoch 24 Batch: 20 Train Loss: 2.2445938157034107e-05\n",
      "Epoch 24 Batch: 30 Train Loss: 9.427910845261067e-05\n",
      "Epoch 24 Batch: 40 Train Loss: 6.973595645831665e-06\n",
      "Epoch 24 Batch: 50 Train Loss: 2.9680522857233882e-05\n",
      "Epoch 24 Batch: 60 Train Loss: 4.935186552756932e-06\n",
      "Epoch 24 Batch: 70 Train Loss: 5.614651854557451e-06\n",
      "Epoch 24 Batch: 80 Train Loss: 5.634007538901642e-05\n",
      "Epoch 25 Batch: 10 Train Loss: 0.00010933112207567319\n",
      "Epoch 25 Batch: 20 Train Loss: 1.4841187294223346e-05\n",
      "Epoch 25 Batch: 30 Train Loss: 7.271755748661235e-07\n",
      "Epoch 25 Batch: 40 Train Loss: 1.2492503628891427e-05\n",
      "Epoch 25 Batch: 50 Train Loss: 2.2790856746723875e-05\n",
      "Epoch 25 Batch: 60 Train Loss: 8.261046787083615e-06\n",
      "Epoch 25 Batch: 70 Train Loss: 1.3661015145771671e-05\n",
      "Epoch 25 Batch: 80 Train Loss: 5.364414619180025e-07\n",
      "Epoch 26 Batch: 10 Train Loss: 7.658731919946149e-05\n",
      "Epoch 26 Batch: 20 Train Loss: 2.1576659037236823e-06\n",
      "Epoch 26 Batch: 30 Train Loss: 8.980419806903228e-05\n",
      "Epoch 26 Batch: 40 Train Loss: 1.0168258086196147e-05\n",
      "Epoch 26 Batch: 50 Train Loss: 4.319334038882516e-05\n",
      "Epoch 26 Batch: 60 Train Loss: 0.0001497728517279029\n",
      "Epoch 26 Batch: 70 Train Loss: 1.3875667718821205e-05\n",
      "Epoch 26 Batch: 80 Train Loss: 2.2768858798372094e-06\n",
      "Epoch 27 Batch: 10 Train Loss: 4.617837112164125e-05\n",
      "Epoch 27 Batch: 20 Train Loss: 6.017332270857878e-05\n",
      "Epoch 27 Batch: 30 Train Loss: 6.055741323507391e-06\n",
      "Epoch 27 Batch: 40 Train Loss: 1.1705892575264443e-05\n",
      "Epoch 27 Batch: 50 Train Loss: 4.792178060597507e-06\n",
      "Epoch 27 Batch: 60 Train Loss: 9.477018465986475e-06\n",
      "Epoch 27 Batch: 70 Train Loss: 1.5090862689248752e-05\n",
      "Epoch 27 Batch: 80 Train Loss: 2.7773883630288765e-05\n",
      "Epoch 28 Batch: 10 Train Loss: 7.532661402365193e-05\n",
      "Epoch 28 Batch: 20 Train Loss: 1.6449950635433197e-05\n",
      "Epoch 28 Batch: 30 Train Loss: 4.410693236422958e-06\n",
      "Epoch 28 Batch: 40 Train Loss: 2.401954225206282e-05\n",
      "Epoch 28 Batch: 50 Train Loss: 8.82133190316381e-06\n",
      "Epoch 28 Batch: 60 Train Loss: 5.865895582246594e-05\n",
      "Epoch 28 Batch: 70 Train Loss: 2.857135041267611e-05\n",
      "Epoch 28 Batch: 80 Train Loss: 5.6438952015014365e-05\n",
      "Epoch 29 Batch: 10 Train Loss: 3.094487692578696e-05\n",
      "Epoch 29 Batch: 20 Train Loss: 6.788214523112401e-05\n",
      "Epoch 29 Batch: 30 Train Loss: 7.450867997249588e-05\n",
      "Epoch 29 Batch: 40 Train Loss: 4.306191112846136e-05\n",
      "Epoch 29 Batch: 50 Train Loss: 5.3523849601333495e-06\n",
      "Epoch 29 Batch: 60 Train Loss: 4.7149027523119e-05\n",
      "Epoch 29 Batch: 70 Train Loss: 8.884108683560044e-05\n",
      "Epoch 29 Batch: 80 Train Loss: 8.654416888020933e-06\n"
     ]
    }
   ],
   "source": [
    "#from ignite.metrics import Precision, Recall\n",
    "#from ignite.metrics import Precision ### LÄGG TILL IGNITE\n",
    "#train_precision = Precision()\n",
    "#train_recall = Recall()\n",
    "\n",
    "#test_precision = Precision()\n",
    "#test_recall = Recall()\n",
    "# https://pytorch.org/ignite/metrics.html\n",
    "\n",
    "\n",
    "epochs = 30 # Ju störra dataset ju färre epochs behövs\n",
    "\n",
    "train_losses = []\n",
    "test_losses = []\n",
    "train_correct = []\n",
    "test_correct = []\n",
    "\n",
    "# For loop epochs \n",
    "\n",
    "for i in range(epochs):\n",
    "    trn_correct = 0\n",
    "    tst_correct = 0 \n",
    "\n",
    "    # Train\n",
    "\n",
    "    for b, (X_train, y_train) in enumerate(train_loader):\n",
    "        \n",
    "        # Skip iteration if batch size not equal to stated dim\n",
    "        \n",
    "            \n",
    "        #print(X_train.shape, y_train.shape) \n",
    "        \n",
    "        b += 1\n",
    "        \n",
    "        y_pred = model(X_train.view(batch_size, -1))  # Flatten input\n",
    "        lossTrain = criterion(y_pred, y_train)\n",
    "\n",
    "        predicted = torch.max(y_pred.data,1)[1]\n",
    "\n",
    "        #calculate precision and recall\n",
    "        #train_precision.update((y_pred, y_train))\n",
    "        #train_recall.update((y_pred, y_train))\n",
    "      \n",
    "\n",
    "        batch_corr = (predicted == y_train).sum()\n",
    "        trn_correct += batch_corr\n",
    "\n",
    "        optimizer.zero_grad()\n",
    "        lossTrain.backward()\n",
    "        optimizer.step()\n",
    "\n",
    "        if b%10 == 0: \n",
    "            print(f\"Epoch {i} Batch: {b} Train Loss: {lossTrain.item()}\")\n",
    "\n",
    "    train_losses.append(lossTrain.data.item())\n",
    "    train_correct.append(trn_correct)\n",
    "\n",
    "    # Test\n",
    "    with torch.no_grad():\n",
    "        for b, (X_test,y_test) in enumerate(test_loader):\n",
    "            y_val = model(X_train.view(batch_size, -1))\n",
    "\n",
    "            predicted = torch.max(y_val.data,1)[1]\n",
    "\n",
    "            \n",
    "        loss = criterion(y_val, y_test)\n",
    "        test_losses.append(loss)\n",
    "        test_correct.append(trn_correct)\n",
    "\n",
    "        #if b%2 == 0:\n",
    "            #print(f\"Epoch {i} Batch: {b} Train Loss: {lossTrain.item()} Validation Loss: {loss.item()}\")\n"
   ]
  },
  {
   "cell_type": "code",
   "execution_count": 187,
   "id": "b6e3794b",
   "metadata": {},
   "outputs": [
    {
     "data": {
      "text/plain": [
       "<matplotlib.legend.Legend at 0x7f0f825edd30>"
      ]
     },
     "execution_count": 187,
     "metadata": {},
     "output_type": "execute_result"
    },
    {
     "data": {
      "image/png": "[encoded data removed]",
      "text/plain": [
       "<Figure size 432x288 with 1 Axes>"
      ]
     },
     "metadata": {
      "needs_background": "light"
     },
     "output_type": "display_data"
    }
   ],
   "source": [
    "plt.plot(train_losses, label=\"Train losses\")\n",
    "plt.plot(test_losses, label= \"Test losses\")\n",
    "plt.xlabel(\"Epoch\")\n",
    "plt.ylabel(\"Loss\")\n",
    "plt.legend()"
   ]
  },
  {
   "cell_type": "markdown",
   "id": "d1427998",
   "metadata": {},
   "source": [
    "## Create confusion matrix"
   ]
  },
  {
   "cell_type": "code",
   "execution_count": 188,
   "id": "221cbea5",
   "metadata": {
    "lines_to_next_cell": 0
   },
   "outputs": [
    {
     "name": "stdout",
     "output_type": "stream",
     "text": [
      "F1 score 0.7222222222222223\n"
     ]
    },
    {
     "data": {
      "image/png": "[encoded data removed]",
      "text/plain": [
       "<Figure size 432x288 with 2 Axes>"
      ]
     },
     "metadata": {
      "needs_background": "light"
     },
     "output_type": "display_data"
    }
   ],
   "source": [
    "from sklearn.metrics import f1_score\n",
    "test_loader_all = DataLoader(dataset=test_set, batch_size=len(test_set), shuffle=True,drop_last=True)\n",
    "\n",
    "with torch.no_grad():\n",
    "    correct = 0\n",
    "    for X_test, y_test in test_loader_all:\n",
    "        y_val = model(X_test.view(len(test_set),-1))\n",
    "        predicted = torch.max(y_val,1)[1]\n",
    "        correct += (predicted == y_test).sum()\n",
    "        \n",
    "# Create confusion matrix        \n",
    "arr = confusion_matrix(y_test.view(-1), predicted.view(-1))\n",
    "f1 = f1_score(y_test.view(-1), predicted.view(-1))\n",
    "\n",
    "arr2 = np.zeros([2,2])\n",
    "#arr2[0] = (arr[0]/arr.sum())#.astype(int)\n",
    "#arr2[1] = (arr[1]/arr.sum())#.astype(int)\n",
    "\n",
    "arr2[0] = arr[0]/arr[0,:].sum()\n",
    "arr2[1] = arr[1]/arr[1,:].sum()\n",
    "\n",
    "df_cm = pd.DataFrame(arr2)\n",
    "#sns.heatmap(df_cm, annot=True, cmap=\"BuGn\")\n",
    "sns.heatmap(df_cm, annot=True, cmap=\"BuGn\",fmt='.2%')\n",
    "plt.xlabel(\"prediction\")\n",
    "plt.ylabel(\"label (ground truth)\")\n",
    "plt.title(\"Confusion matrix (in percent)\")\n",
    "print(f\"F1 score {f1}\")\n",
    "plt.show()"
   ]
  },
  {
   "cell_type": "code",
   "execution_count": null,
   "id": "e9f89944",
   "metadata": {},
   "outputs": [],
   "source": []
  },
  {
   "cell_type": "code",
   "execution_count": null,
   "id": "21f8cab9",
   "metadata": {},
   "outputs": [],
   "source": []
  }
 ],
 "metadata": {
  "kernelspec": {
   "display_name": "NLP",
   "language": "python",
   "name": "python3"
  },
  "language_info": {
   "name": "python",
   "version": "3.9.10"
  }
 },
 "nbformat": 4,
 "nbformat_minor": 5
}
