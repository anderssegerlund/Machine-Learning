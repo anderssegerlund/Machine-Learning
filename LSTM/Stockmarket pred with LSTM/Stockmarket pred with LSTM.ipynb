{
 "cells": [
  {
   "cell_type": "markdown",
   "id": "23c0bef5",
   "metadata": {},
   "source": [
    "## imports"
   ]
  },
  {
   "cell_type": "code",
   "execution_count": 275,
   "id": "ad2dbd84",
   "metadata": {},
   "outputs": [],
   "source": [
    "import investpy\n",
    "import pandas as pd\n",
    "import numpy as np\n",
    "import datetime as dt\n",
    "import torch\n",
    "import torch.nn as nn\n",
    "import matplotlib.pyplot as plt\n",
    "%matplotlib inline"
   ]
  },
  {
   "cell_type": "markdown",
   "id": "2174225a",
   "metadata": {},
   "source": [
    "## Load stock data"
   ]
  },
  {
   "cell_type": "code",
   "execution_count": 276,
   "id": "0c631a15",
   "metadata": {},
   "outputs": [
    {
     "data": {
      "text/html": [
       "<div>\n",
       "<style scoped>\n",
       "    .dataframe tbody tr th:only-of-type {\n",
       "        vertical-align: middle;\n",
       "    }\n",
       "\n",
       "    .dataframe tbody tr th {\n",
       "        vertical-align: top;\n",
       "    }\n",
       "\n",
       "    .dataframe thead th {\n",
       "        text-align: right;\n",
       "    }\n",
       "</style>\n",
       "<table border=\"1\" class=\"dataframe\">\n",
       "  <thead>\n",
       "    <tr style=\"text-align: right;\">\n",
       "      <th></th>\n",
       "      <th>Aktie</th>\n",
       "      <th>Ticker</th>\n",
       "      <th>land</th>\n",
       "      <th>Typ</th>\n",
       "    </tr>\n",
       "  </thead>\n",
       "  <tbody>\n",
       "    <tr>\n",
       "      <th>0</th>\n",
       "      <td>Atlas Copco</td>\n",
       "      <td>ATCOb</td>\n",
       "      <td>sweden</td>\n",
       "      <td>Aktie</td>\n",
       "    </tr>\n",
       "    <tr>\n",
       "      <th>1</th>\n",
       "      <td>Bio Gaia</td>\n",
       "      <td>BIOGb</td>\n",
       "      <td>sweden</td>\n",
       "      <td>Aktie</td>\n",
       "    </tr>\n",
       "    <tr>\n",
       "      <th>2</th>\n",
       "      <td>Camurus</td>\n",
       "      <td>CAMX</td>\n",
       "      <td>sweden</td>\n",
       "      <td>Aktie</td>\n",
       "    </tr>\n",
       "    <tr>\n",
       "      <th>3</th>\n",
       "      <td>Epiroc B</td>\n",
       "      <td>EPIRb</td>\n",
       "      <td>sweden</td>\n",
       "      <td>Aktie</td>\n",
       "    </tr>\n",
       "    <tr>\n",
       "      <th>4</th>\n",
       "      <td>Essity B</td>\n",
       "      <td>ESSITYb</td>\n",
       "      <td>sweden</td>\n",
       "      <td>Aktie</td>\n",
       "    </tr>\n",
       "  </tbody>\n",
       "</table>\n",
       "</div>"
      ],
      "text/plain": [
       "         Aktie   Ticker    land    Typ\n",
       "0  Atlas Copco    ATCOb  sweden  Aktie\n",
       "1     Bio Gaia    BIOGb  sweden  Aktie\n",
       "2      Camurus     CAMX  sweden  Aktie\n",
       "3     Epiroc B    EPIRb  sweden  Aktie\n",
       "4     Essity B  ESSITYb  sweden  Aktie"
      ]
     },
     "execution_count": 276,
     "metadata": {},
     "output_type": "execute_result"
    }
   ],
   "source": [
    "ticker_list = pd.read_excel(r\"aktie_data.xlsx\")\n",
    "ticker_list.head()"
   ]
  },
  {
   "cell_type": "markdown",
   "id": "895d3818",
   "metadata": {},
   "source": [
    "## Select stock / fund / commodity"
   ]
  },
  {
   "cell_type": "code",
   "execution_count": 277,
   "id": "1d040f2e",
   "metadata": {},
   "outputs": [
    {
     "name": "stdout",
     "output_type": "stream",
     "text": [
      "Atlas Copco\n"
     ]
    }
   ],
   "source": [
    "row = 0\n",
    "ticker = ticker_list.iloc[row][1]\n",
    "country = ticker_list.iloc[row][2]\n",
    "stock =ticker_list.iloc[row][0]\n",
    "print(stock)"
   ]
  },
  {
   "cell_type": "code",
   "execution_count": 278,
   "id": "b831320c",
   "metadata": {},
   "outputs": [],
   "source": [
    "start_date = '01/01/2019'\n",
    "today = str(dt.datetime.today().strftime(\"%d/%m/%Y\"))"
   ]
  },
  {
   "cell_type": "code",
   "execution_count": 279,
   "id": "294de3c6",
   "metadata": {},
   "outputs": [
    {
     "data": {
      "text/html": [
       "<div>\n",
       "<style scoped>\n",
       "    .dataframe tbody tr th:only-of-type {\n",
       "        vertical-align: middle;\n",
       "    }\n",
       "\n",
       "    .dataframe tbody tr th {\n",
       "        vertical-align: top;\n",
       "    }\n",
       "\n",
       "    .dataframe thead th {\n",
       "        text-align: right;\n",
       "    }\n",
       "</style>\n",
       "<table border=\"1\" class=\"dataframe\">\n",
       "  <thead>\n",
       "    <tr style=\"text-align: right;\">\n",
       "      <th></th>\n",
       "      <th>Close</th>\n",
       "    </tr>\n",
       "    <tr>\n",
       "      <th>Date</th>\n",
       "      <th></th>\n",
       "    </tr>\n",
       "  </thead>\n",
       "  <tbody>\n",
       "    <tr>\n",
       "      <th>2019-01-02</th>\n",
       "      <td>193.9</td>\n",
       "    </tr>\n",
       "    <tr>\n",
       "      <th>2019-01-03</th>\n",
       "      <td>188.5</td>\n",
       "    </tr>\n",
       "    <tr>\n",
       "      <th>2019-01-04</th>\n",
       "      <td>200.1</td>\n",
       "    </tr>\n",
       "    <tr>\n",
       "      <th>2019-01-07</th>\n",
       "      <td>203.9</td>\n",
       "    </tr>\n",
       "    <tr>\n",
       "      <th>2019-01-08</th>\n",
       "      <td>207.6</td>\n",
       "    </tr>\n",
       "  </tbody>\n",
       "</table>\n",
       "</div>"
      ],
      "text/plain": [
       "            Close\n",
       "Date             \n",
       "2019-01-02  193.9\n",
       "2019-01-03  188.5\n",
       "2019-01-04  200.1\n",
       "2019-01-07  203.9\n",
       "2019-01-08  207.6"
      ]
     },
     "execution_count": 279,
     "metadata": {},
     "output_type": "execute_result"
    }
   ],
   "source": [
    "stock = investpy.get_stock_historical_data(stock=ticker,country=country,from_date=start_date,to_date=today)\n",
    "stock = stock[[\"Close\"]]\n",
    "stock.head()"
   ]
  },
  {
   "cell_type": "code",
   "execution_count": 283,
   "id": "b5e6f21b",
   "metadata": {},
   "outputs": [
    {
     "data": {
      "text/html": [
       "<div>\n",
       "<style scoped>\n",
       "    .dataframe tbody tr th:only-of-type {\n",
       "        vertical-align: middle;\n",
       "    }\n",
       "\n",
       "    .dataframe tbody tr th {\n",
       "        vertical-align: top;\n",
       "    }\n",
       "\n",
       "    .dataframe thead th {\n",
       "        text-align: right;\n",
       "    }\n",
       "</style>\n",
       "<table border=\"1\" class=\"dataframe\">\n",
       "  <thead>\n",
       "    <tr style=\"text-align: right;\">\n",
       "      <th></th>\n",
       "      <th>Close</th>\n",
       "    </tr>\n",
       "    <tr>\n",
       "      <th>Date</th>\n",
       "      <th></th>\n",
       "    </tr>\n",
       "  </thead>\n",
       "  <tbody>\n",
       "    <tr>\n",
       "      <th>2019-01-02</th>\n",
       "      <td>-0.969705</td>\n",
       "    </tr>\n",
       "    <tr>\n",
       "      <th>2019-01-03</th>\n",
       "      <td>-1.000000</td>\n",
       "    </tr>\n",
       "    <tr>\n",
       "      <th>2019-01-04</th>\n",
       "      <td>-0.934923</td>\n",
       "    </tr>\n",
       "    <tr>\n",
       "      <th>2019-01-07</th>\n",
       "      <td>-0.913604</td>\n",
       "    </tr>\n",
       "    <tr>\n",
       "      <th>2019-01-08</th>\n",
       "      <td>-0.892847</td>\n",
       "    </tr>\n",
       "  </tbody>\n",
       "</table>\n",
       "</div>"
      ],
      "text/plain": [
       "               Close\n",
       "Date                \n",
       "2019-01-02 -0.969705\n",
       "2019-01-03 -1.000000\n",
       "2019-01-04 -0.934923\n",
       "2019-01-07 -0.913604\n",
       "2019-01-08 -0.892847"
      ]
     },
     "execution_count": 283,
     "metadata": {},
     "output_type": "execute_result"
    }
   ],
   "source": [
    "from sklearn.preprocessing import MinMaxScaler\n",
    "scaler = MinMaxScaler(feature_range=(-1, 1))\n",
    "stock[\"Close\"] = scaler.fit_transform(stock[\"Close\"].values.reshape(-1,1))\n",
    "stock.head()"
   ]
  },
  {
   "cell_type": "code",
   "execution_count": 284,
   "id": "aedb5a69",
   "metadata": {},
   "outputs": [
    {
     "data": {
      "text/plain": [
       "[<matplotlib.lines.Line2D at 0x7fbf9e4f2700>]"
      ]
     },
     "execution_count": 284,
     "metadata": {},
     "output_type": "execute_result"
    },
    {
     "data": {
      "image/png": "[encoded data removed]",
      "text/plain": [
       "<Figure size 432x288 with 1 Axes>"
      ]
     },
     "metadata": {
      "needs_background": "light"
     },
     "output_type": "display_data"
    }
   ],
   "source": [
    "plt.plot(stock)"
   ]
  },
  {
   "cell_type": "markdown",
   "id": "9eba3103",
   "metadata": {},
   "source": [
    "## Convert to tensor and create training data"
   ]
  },
  {
   "cell_type": "code",
   "execution_count": 285,
   "id": "6816b77a",
   "metadata": {},
   "outputs": [],
   "source": [
    "#torch.tensor(stock.values)"
   ]
  },
  {
   "cell_type": "code",
   "execution_count": 286,
   "id": "74434593",
   "metadata": {},
   "outputs": [],
   "source": [
    "def input_data(seq, ws):\n",
    "    #seq = torch.tensor(df[\"Close\"].values)\n",
    "    #seq = torch.from_numpy(stock[\"Close\"].values).float()\n",
    "    out = [] #([0,1,2,3],[5])\n",
    "\n",
    "    L = len(seq)\n",
    "\n",
    "    for i in range(L-ws):\n",
    "\n",
    "        window = seq[i:i+ws]\n",
    "        label = seq[i+ws:i+ws+1]\n",
    "        out.append((window, label))   \n",
    "\n",
    "    return out"
   ]
  },
  {
   "cell_type": "markdown",
   "id": "a509c241",
   "metadata": {},
   "source": [
    "## Convert df to tensor"
   ]
  },
  {
   "cell_type": "code",
   "execution_count": 287,
   "id": "5cb4e49b",
   "metadata": {},
   "outputs": [],
   "source": [
    "stock = torch.from_numpy(stock[\"Close\"].values).float()"
   ]
  },
  {
   "cell_type": "code",
   "execution_count": 288,
   "id": "c0eb0e5e",
   "metadata": {},
   "outputs": [],
   "source": [
    "length = len(stock)\n",
    "train_length = int(length*0.8)\n",
    "#test_length = length - train_length\n",
    "train_set = stock[:train_length]"
   ]
  },
  {
   "cell_type": "code",
   "execution_count": null,
   "id": "75eb7cba",
   "metadata": {},
   "outputs": [],
   "source": []
  },
  {
   "cell_type": "code",
   "execution_count": 289,
   "id": "6119b15d",
   "metadata": {},
   "outputs": [],
   "source": [
    "window_size = 40 \n",
    "train_data = input_data(train_set, window_size)"
   ]
  },
  {
   "cell_type": "code",
   "execution_count": null,
   "id": "35980c2d",
   "metadata": {},
   "outputs": [],
   "source": []
  },
  {
   "cell_type": "code",
   "execution_count": null,
   "id": "40581b69",
   "metadata": {},
   "outputs": [],
   "source": []
  },
  {
   "cell_type": "code",
   "execution_count": 291,
   "id": "b96a79f6",
   "metadata": {},
   "outputs": [],
   "source": [
    "optimizer.zero_grad()\n",
    "model.hidden = (torch.zeros(1,1,model.hidden_size),\n",
    "                torch.zeros(1,1,model.hidden_size))\n",
    "y_pred = model(seq)"
   ]
  },
  {
   "cell_type": "markdown",
   "id": "cd71876e",
   "metadata": {},
   "source": [
    "## Create LSTM"
   ]
  },
  {
   "cell_type": "code",
   "execution_count": 292,
   "id": "43b13281",
   "metadata": {},
   "outputs": [],
   "source": [
    "class LSTM(nn.Module):\n",
    "\n",
    "    def __init__(self, input_size=1, hidden_size=50, out_size=1):\n",
    "\n",
    "        super().__init__()\n",
    "        self.hidden_size = hidden_size\n",
    "\n",
    "        self.lstm = nn.LSTM(input_size, hidden_size) # Create a layer of 50 neurons\n",
    "\n",
    "        self.linear = nn.Linear(hidden_size, out_size)  # Condence back to 1 layer\n",
    "\n",
    "        self.hidden = (torch.zeros(1,1, hidden_size), torch.zeros(1,1,hidden_size))\n",
    "\n",
    "    def forward(self,seq):\n",
    "        lstm_out, self.hidden = self.lstm(seq.view(len(seq),1,-1),self.hidden)\n",
    "\n",
    "        pred = self.linear(lstm_out.view(len(seq),-1))\n",
    "\n",
    "        return pred[-1] # Only grab the last value \n",
    "\n",
    "        "
   ]
  },
  {
   "cell_type": "code",
   "execution_count": 293,
   "id": "b7421ddb",
   "metadata": {},
   "outputs": [],
   "source": [
    "model = LSTM()\n",
    "criterion = nn.MSELoss()\n",
    "optimizer = torch.optim.SGD(model.parameters(), lr = 0.1)"
   ]
  },
  {
   "cell_type": "code",
   "execution_count": null,
   "id": "d9dc0b44",
   "metadata": {},
   "outputs": [],
   "source": []
  },
  {
   "cell_type": "code",
   "execution_count": 297,
   "id": "958465d6",
   "metadata": {},
   "outputs": [
    {
     "ename": "AttributeError",
     "evalue": "'LSTM' object has no attribute 'hidden_size'",
     "output_type": "error",
     "traceback": [
      "\u001b[0;31m---------------------------------------------------------------------------\u001b[0m",
      "\u001b[0;31mAttributeError\u001b[0m                            Traceback (most recent call last)",
      "\u001b[0;32m/var/folders/jw/61jjk4jd69sbkflvlpjrlv1h0000gn/T/ipykernel_8970/1975129128.py\u001b[0m in \u001b[0;36m<module>\u001b[0;34m\u001b[0m\n\u001b[1;32m      6\u001b[0m     \u001b[0;32mfor\u001b[0m \u001b[0mseq\u001b[0m\u001b[0;34m,\u001b[0m \u001b[0my_train\u001b[0m \u001b[0;32min\u001b[0m \u001b[0mtrain_data\u001b[0m\u001b[0;34m:\u001b[0m\u001b[0;34m\u001b[0m\u001b[0;34m\u001b[0m\u001b[0m\n\u001b[1;32m      7\u001b[0m         \u001b[0moptimizer\u001b[0m\u001b[0;34m.\u001b[0m\u001b[0mzero_grad\u001b[0m\u001b[0;34m(\u001b[0m\u001b[0;34m)\u001b[0m\u001b[0;34m\u001b[0m\u001b[0;34m\u001b[0m\u001b[0m\n\u001b[0;32m----> 8\u001b[0;31m         model.hidden = (torch.zeros(1,1,model.hidden_size),\n\u001b[0m\u001b[1;32m      9\u001b[0m                         torch.zeros(1,1,model.hidden_size))\n\u001b[1;32m     10\u001b[0m         \u001b[0my_pred\u001b[0m \u001b[0;34m=\u001b[0m \u001b[0mmodel\u001b[0m\u001b[0;34m(\u001b[0m\u001b[0mseq\u001b[0m\u001b[0;34m)\u001b[0m\u001b[0;34m\u001b[0m\u001b[0;34m\u001b[0m\u001b[0m\n",
      "\u001b[0;32m~/opt/anaconda3/envs/NLP/lib/python3.8/site-packages/torch/nn/modules/module.py\u001b[0m in \u001b[0;36m__getattr__\u001b[0;34m(self, name)\u001b[0m\n\u001b[1;32m   1175\u001b[0m             \u001b[0;32mif\u001b[0m \u001b[0mname\u001b[0m \u001b[0;32min\u001b[0m \u001b[0mmodules\u001b[0m\u001b[0;34m:\u001b[0m\u001b[0;34m\u001b[0m\u001b[0;34m\u001b[0m\u001b[0m\n\u001b[1;32m   1176\u001b[0m                 \u001b[0;32mreturn\u001b[0m \u001b[0mmodules\u001b[0m\u001b[0;34m[\u001b[0m\u001b[0mname\u001b[0m\u001b[0;34m]\u001b[0m\u001b[0;34m\u001b[0m\u001b[0;34m\u001b[0m\u001b[0m\n\u001b[0;32m-> 1177\u001b[0;31m         raise AttributeError(\"'{}' object has no attribute '{}'\".format(\n\u001b[0m\u001b[1;32m   1178\u001b[0m             type(self).__name__, name))\n\u001b[1;32m   1179\u001b[0m \u001b[0;34m\u001b[0m\u001b[0m\n",
      "\u001b[0;31mAttributeError\u001b[0m: 'LSTM' object has no attribute 'hidden_size'"
     ]
    }
   ],
   "source": [
    "epochs = 100\n",
    "future = 40 \n",
    "\n",
    "for i in range(epochs):\n",
    "\n",
    "    for seq, y_train in train_data:\n",
    "        optimizer.zero_grad()\n",
    "        model.hidden = (torch.zeros(1,1,model.hidden_size),\n",
    "                        torch.zeros(1,1,model.hidden_size))\n",
    "        y_pred = model(seq)\n",
    "        loss = criterion(y_pred, y_train)\n",
    "        loss.backward()\n",
    "        optimizer.step()\n",
    "\n",
    "    print(f\"Epoch {i} Loss: {loss.item()}\")\n",
    "    preds = train_set[-window_size:].tolist()\n",
    "\n",
    "    for f in range(future):\n",
    "        seq = torch.FloatTensor(preds[-window_size:])\n",
    "\n",
    "        with torch.no_grad():\n",
    "            model.hidden = (torch.zeros(1,1,model.hidden_size),\n",
    "                            torch.zeros(1,1,model.hidden_size))\n",
    "\n",
    "            preds.append(model(seq).item())\n",
    "    loss = criterion(torch.tensor(preds[-window_size:]),stock[-window_size:])\n",
    "    print(f\"Performance on test range: {loss}\")\n",
    "\n",
    "    plt.figure(figsize=(12,4))\n",
    "    plt.xlim(700,801)\n",
    "    plt.grid(True)\n",
    "    plt.plot(stock)\n",
    "    plt.plot(range(760, 800), preds[window_size:])\n",
    "    plt.show()"
   ]
  },
  {
   "cell_type": "code",
   "execution_count": null,
   "id": "b1fd758f",
   "metadata": {},
   "outputs": [],
   "source": []
  },
  {
   "cell_type": "code",
   "execution_count": 280,
   "id": "b387b973",
   "metadata": {},
   "outputs": [],
   "source": []
  },
  {
   "cell_type": "code",
   "execution_count": 298,
   "id": "f0bd9f06",
   "metadata": {},
   "outputs": [],
   "source": []
  },
  {
   "cell_type": "code",
   "execution_count": null,
   "id": "81fb92e7",
   "metadata": {},
   "outputs": [],
   "source": []
  },
  {
   "cell_type": "code",
   "execution_count": null,
   "id": "4d463f77",
   "metadata": {},
   "outputs": [],
   "source": []
  }
 ],
 "metadata": {
  "kernelspec": {
   "display_name": "NLP",
   "language": "python",
   "name": "nlp"
  },
  "language_info": {
   "codemirror_mode": {
    "name": "ipython",
    "version": 3
   },
   "file_extension": ".py",
   "mimetype": "text/x-python",
   "name": "python",
   "nbconvert_exporter": "python",
   "pygments_lexer": "ipython3",
   "version": "3.8.12"
  }
 },
 "nbformat": 4,
 "nbformat_minor": 5
}
