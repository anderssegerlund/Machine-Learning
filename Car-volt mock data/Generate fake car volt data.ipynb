{
 "cells": [
  {
   "cell_type": "code",
   "execution_count": 8,
   "id": "22bef119",
   "metadata": {},
   "outputs": [],
   "source": [
    "import numpy as np\n",
    "import random\n",
    "import matplotlib.pyplot as plt\n",
    "%matplotlib inline"
   ]
  },
  {
   "cell_type": "markdown",
   "id": "7a60668e",
   "metadata": {},
   "source": [
    "## Generate fake"
   ]
  },
  {
   "cell_type": "code",
   "execution_count": 128,
   "id": "22b892c1",
   "metadata": {},
   "outputs": [],
   "source": [
    "import pandas as pd\n",
    "import numpy as np\n",
    "import matplotlib.pyplot as plt\n",
    "%matplotlib inline"
   ]
  },
  {
   "cell_type": "code",
   "execution_count": 126,
   "id": "edfb9ee4",
   "metadata": {},
   "outputs": [],
   "source": [
    "fail_prob = 0.5\n",
    "n_cells = 10      # 108\n",
    "class Car():\n",
    "    \n",
    "    def __init__(self):\n",
    "    \n",
    "    def create_volt_pattern():\n",
    "        pass\n"
   ]
  },
  {
   "cell_type": "code",
   "execution_count": 158,
   "id": "5110d476",
   "metadata": {},
   "outputs": [],
   "source": []
  },
  {
   "cell_type": "code",
   "execution_count": null,
   "id": "be4ee1e4",
   "metadata": {},
   "outputs": [],
   "source": []
  },
  {
   "cell_type": "code",
   "execution_count": null,
   "id": "e91a073d",
   "metadata": {},
   "outputs": [],
   "source": [
    "def create_volt_pattern():\n",
    "    mean = random.randint(3,8)\n",
    "    noise = random.uniform(-0.1, 1.9)"
   ]
  },
  {
   "cell_type": "code",
   "execution_count": 171,
   "id": "382b1ff6",
   "metadata": {},
   "outputs": [
    {
     "data": {
      "text/plain": [
       "<function __main__.noise()>"
      ]
     },
     "execution_count": 171,
     "metadata": {},
     "output_type": "execute_result"
    }
   ],
   "source": [
    "noise"
   ]
  },
  {
   "cell_type": "code",
   "execution_count": 163,
   "id": "eba12df3",
   "metadata": {},
   "outputs": [],
   "source": [
    "class Data():\n",
    "    def __init__(self, datasets):\n",
    "        self.datasets = datasets"
   ]
  },
  {
   "cell_type": "code",
   "execution_count": 164,
   "id": "d778d1ce",
   "metadata": {},
   "outputs": [],
   "source": [
    "data = Data(car)"
   ]
  },
  {
   "cell_type": "code",
   "execution_count": null,
   "id": "0bc3e88f",
   "metadata": {},
   "outputs": [],
   "source": []
  },
  {
   "cell_type": "code",
   "execution_count": null,
   "id": "bdbb1c3a",
   "metadata": {},
   "outputs": [],
   "source": []
  },
  {
   "cell_type": "code",
   "execution_count": 349,
   "id": "3144c776",
   "metadata": {},
   "outputs": [
    {
     "data": {
      "image/png": "[encoded data removed]",
      "text/plain": [
       "<Figure size 432x288 with 1 Axes>"
      ]
     },
     "metadata": {
      "needs_background": "light"
     },
     "output_type": "display_data"
    }
   ],
   "source": [
    "time_steps = 6\n",
    "n_cells = 20 # Amount of cells in pack\n",
    "failed_cell = 3 # Which cell is the failing cell\n",
    "is_fail = True # Does the pack include a failed cell\n",
    "volt_stochastic = 0.9\n",
    "for i in range(time_steps):\n",
    "    sigma = 0.3\n",
    "    median = random.randint(1,16)\n",
    "    volt = np.random.normal(loc=median, scale=sigma, size=n_cells)\n",
    "    if is_fail:\n",
    "        r = random.random()\n",
    "        if r < volt_stochastic:\n",
    "            stochstic_amplifier = random.randint(100,1000)\n",
    "            volt[3] = volt[3]*(1-i/stochstic_amplifier)\n",
    "    plt.plot(volt, label=i)\n",
    "    plt.ylim(0,16)\n",
    "    plt.legend()"
   ]
  },
  {
   "cell_type": "code",
   "execution_count": null,
   "id": "e65a7ddb",
   "metadata": {},
   "outputs": [],
   "source": []
  },
  {
   "cell_type": "code",
   "execution_count": null,
   "id": "de7c122e",
   "metadata": {},
   "outputs": [],
   "source": []
  },
  {
   "cell_type": "code",
   "execution_count": 375,
   "id": "27b2454d",
   "metadata": {},
   "outputs": [],
   "source": [
    "from datetime import timedelta\n",
    "from datetime import datetime\n",
    "my_year = 2020 \n",
    "my_month = 1\n",
    "my_day = 2 \n",
    "my_hour = 13 \n",
    "d =datetime(my_year ,my_month ,my_day)"
   ]
  },
  {
   "cell_type": "code",
   "execution_count": 383,
   "id": "1d9d34ae",
   "metadata": {},
   "outputs": [
    {
     "data": {
      "text/plain": [
       "Timestamp('2016-12-16 00:00:00')"
      ]
     },
     "execution_count": 383,
     "metadata": {},
     "output_type": "execute_result"
    }
   ],
   "source": [
    "leap = pd.Timestamp('2016-12-15')\n",
    "\n",
    "leap + pd.Timedelta(days=1)"
   ]
  },
  {
   "cell_type": "code",
   "execution_count": 386,
   "id": "ec44dce5",
   "metadata": {},
   "outputs": [
    {
     "data": {
      "text/plain": [
       "Timestamp('2001-10-01 00:00:00')"
      ]
     },
     "execution_count": 386,
     "metadata": {},
     "output_type": "execute_result"
    }
   ],
   "source": [
    "pd.Timestamp(year=2001, month=10,day=1)"
   ]
  },
  {
   "cell_type": "code",
   "execution_count": null,
   "id": "a2bf0168",
   "metadata": {},
   "outputs": [],
   "source": []
  }
 ],
 "metadata": {
  "kernelspec": {
   "display_name": "NLP",
   "language": "python",
   "name": "nlp"
  },
  "language_info": {
   "codemirror_mode": {
    "name": "ipython",
    "version": 3
   },
   "file_extension": ".py",
   "mimetype": "text/x-python",
   "name": "python",
   "nbconvert_exporter": "python",
   "pygments_lexer": "ipython3",
   "version": "3.8.12"
  }
 },
 "nbformat": 4,
 "nbformat_minor": 5
}
