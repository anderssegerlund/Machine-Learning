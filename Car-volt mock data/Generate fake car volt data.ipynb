{
 "cells": [
  {
   "cell_type": "code",
   "execution_count": 6,
   "id": "22bef119",
   "metadata": {},
   "outputs": [],
   "source": [
    "import numpy as np\n",
    "import random\n",
    "import torch\n",
    "import torch.nn as nn\n",
    "import torch.nn.functional as F\n",
    "from torch.utils.data import DataLoader\n",
    "from sklearn.metrics import confusion_matrix\n",
    "import seaborn as sns\n",
    "import matplotlib.pyplot as plt\n",
    "%matplotlib inline"
   ]
  },
  {
   "cell_type": "markdown",
   "id": "7a60668e",
   "metadata": {},
   "source": [
    "## Generate fake"
   ]
  },
  {
   "cell_type": "code",
   "execution_count": 7,
   "id": "22b892c1",
   "metadata": {},
   "outputs": [],
   "source": [
    "import pandas as pd\n",
    "import numpy as np\n",
    "import matplotlib.pyplot as plt\n",
    "%matplotlib inline"
   ]
  },
  {
   "cell_type": "code",
   "execution_count": 8,
   "id": "0bc3e88f",
   "metadata": {},
   "outputs": [],
   "source": [
    "def normalize(x):\n",
    "    # Normalize according to: Normalization\n",
    "    x_min = x.min()\n",
    "    x_max = x.max()\n",
    "    \n",
    "    if (x_max -x_min) == 0:\n",
    "         x = np.zeros_like(x)\n",
    "    else:\n",
    "        x = (x-x_min)/(x_max -x_min)\n",
    "    return x\n"
   ]
  },
  {
   "cell_type": "code",
   "execution_count": 9,
   "id": "8a109a5f",
   "metadata": {},
   "outputs": [],
   "source": [
    "\n",
    "\n",
    "def normalize(x):\n",
    "    # Normalize according to: Standardizatio\n",
    "    # https://stackabuse.com/feature-scaling-data-with-scikit-learn-for-machine-learning-in-python/\n",
    "    x_mean = x.mean()\n",
    "    x_std = x.std()\n",
    "    \n",
    "    if x_std == 0:\n",
    "        x = np.zeros_like(x)\n",
    "    else:\n",
    "        x = (x-x_mean)/(x_std)\n",
    "    return x\n",
    "\n",
    "def plot_example(select_samples, fail=1):\n",
    "    sample_from = random.randint(min(data_info[f\"index_{fail}\"]), max(data_info[f\"index_{fail}\"])-select_samples)\n",
    "    fig, ax = plt.subplots(select_samples,1,figsize=(12,12))\n",
    "    for i,j in enumerate(range(sample_from, sample_from+select_samples)):\n",
    "\n",
    "        ax[i].plot(data[j][0].T)\n",
    "    plt.show()\n"
   ]
  },
  {
   "cell_type": "code",
   "execution_count": 11,
   "id": "3144c776",
   "metadata": {},
   "outputs": [
    {
     "data": {
      "image/png": "[encoded data removed]",
      "text/plain": [
       "<Figure size 864x288 with 2 Axes>"
      ]
     },
     "metadata": {
      "needs_background": "light"
     },
     "output_type": "display_data"
    }
   ],
   "source": [
    "time_steps = 5\n",
    "n_cells = 10 # Amount of cells in pack\n",
    "x = np.zeros([time_steps,n_cells])\n",
    "\n",
    "\n",
    "fig, ax = plt.subplots(1,2,figsize=(12,4))\n",
    "\n",
    "failed_cell = 1 # Which cell is the failing cell\n",
    "is_fail = True# Does the pack include a failed cell\n",
    "volt_stochastic = 0.5\n",
    "for i in range(1,time_steps):\n",
    "    sigma = 0.0 # How much is the fluctuation\n",
    "    median = random.uniform(2, 4)\n",
    "    volt = np.random.normal(loc=median, scale=sigma, size=n_cells)\n",
    "    y = 1\n",
    "    if is_fail:\n",
    "        r = random.random()\n",
    "        if r < volt_stochastic:\n",
    "            stochstic_amplifier = random.randint(1,10)\n",
    "            \n",
    "            y = (1-i/stochstic_amplifier)\n",
    "            #print(y)\n",
    "            volt[failed_cell]*=y\n",
    "    ax[1].scatter(i,y,label=f\"Timestamp {i}\")\n",
    "    ax[1].legend(bbox_to_anchor=(1.05, 1.0), loc='upper left')\n",
    "    ax[1] = plt.gca()\n",
    "    #ax[1].set_ylim(ax[1].get_ylim()[::-1])\n",
    "    x[i,:] = volt\n",
    "            \n",
    "    ax[0].plot(volt,label=f\"Timestamp {i}\")\n",
    "    ax[0].legend(bbox_to_anchor=(1.05, 1.0), loc='lower right')\n",
    "#plt.ylim(0,16)\n",
    "#plt.legend()\n",
    "\n",
    "\n",
    "\n",
    "#plt.scatter(x_arr, y_arr)\n",
    "#ax = plt.gca()\n",
    "#ax.set_ylim(ax.get_ylim()[::-1])"
   ]
  },
  {
   "cell_type": "code",
   "execution_count": 12,
   "id": "22bbba35",
   "metadata": {},
   "outputs": [],
   "source": [
    "def create_sequence(time_steps=2, n_cells=4, failed_cell=1, is_fail=True, sigma=0.0, volt_stochastic = 0.9, normalize_x=False):\n",
    "    x = np.zeros([time_steps,n_cells])\n",
    "    for i in range(0,time_steps):\n",
    "        median = random.uniform(2, 4)\n",
    "        volt = np.random.normal(loc=median, scale=sigma, size=n_cells)\n",
    "        if is_fail:\n",
    "            r = random.random()\n",
    "            if r < volt_stochastic:\n",
    "                stochstic_amplifier = random.randint(1,10) # 100, 1000\n",
    "\n",
    "                y = (1-(i+1)/stochstic_amplifier)\n",
    "                #print(y)\n",
    "                volt[failed_cell]*=y\n",
    "        x[i,:] = volt\n",
    "    if normalize_x:\n",
    "        x_norm = np.zeros_like(x)\n",
    "        for i in range(len(x)):\n",
    "            x_norm[i,:] = normalize(x[i,:])\n",
    "        #x = normalize(x)\n",
    "        x = x_norm\n",
    "    if is_fail:\n",
    "        label = 1\n",
    "    else:\n",
    "        label = 0\n",
    "    return x, label\n",
    "    "
   ]
  },
  {
   "cell_type": "code",
   "execution_count": null,
   "id": "873a6b4d",
   "metadata": {},
   "outputs": [],
   "source": []
  },
  {
   "cell_type": "code",
   "execution_count": null,
   "id": "0f7fba62",
   "metadata": {},
   "outputs": [],
   "source": [
    "\n"
   ]
  },
  {
   "cell_type": "code",
   "execution_count": 15,
   "id": "9e7fba7c",
   "metadata": {},
   "outputs": [],
   "source": [
    "time_steps=20 \n",
    "n_cells=108\n",
    "failed_cell=1 \n",
    "sigma=0\n",
    "volt_stochastic = 0.5\n",
    "normalize_x=True\n",
    "\n",
    "def create_data(n_healthy=2, n_fails=2,time_steps=time_steps, random_cell_fail=False, failed_cell=3,sigma=sigma, volt_stochastic=volt_stochastic, n_cells=n_cells):\n",
    "    data = []\n",
    "    \n",
    "    data_info ={\"index_1\":[],\n",
    "           \"index_0\": []} \n",
    "    for i in range(n_healthy+n_fails):\n",
    "        if i >= n_healthy:\n",
    "            fail=True\n",
    "        else:\n",
    "            fail=False\n",
    "        if random_cell_fail:\n",
    "            failed_cell = random.randint(0,n_cells-1)\n",
    "        #else:\n",
    "            #continue\n",
    "\n",
    "        x,y = create_sequence(time_steps=time_steps, n_cells=n_cells, failed_cell=failed_cell, is_fail=fail, sigma=sigma, volt_stochastic=volt_stochastic, normalize_x=normalize_x)\n",
    "        data.append((torch.FloatTensor(x),y))\n",
    "        \n",
    "        #Finn data_info\n",
    "        if y == 1:\n",
    "            data_info[\"index_1\"].append(i)\n",
    "            \n",
    "        if y == 0:\n",
    "            data_info[\"index_0\"].append(i)\n",
    "            \n",
    "    return (data, data_info)\n",
    "    \n",
    "\n",
    "data, data_info = create_data(n_healthy=1000, n_fails=1000,random_cell_fail=False, failed_cell=3)"
   ]
  },
  {
   "cell_type": "code",
   "execution_count": null,
   "id": "4b9bbe03",
   "metadata": {},
   "outputs": [],
   "source": []
  },
  {
   "cell_type": "markdown",
   "id": "8cf31d30",
   "metadata": {},
   "source": [
    "## plot n random samples from failed"
   ]
  },
  {
   "cell_type": "code",
   "execution_count": 16,
   "id": "a0a67a67",
   "metadata": {},
   "outputs": [
    {
     "data": {
      "image/png": "[encoded data removed]",
      "text/plain": [
       "<Figure size 864x864 with 5 Axes>"
      ]
     },
     "metadata": {
      "needs_background": "light"
     },
     "output_type": "display_data"
    }
   ],
   "source": [
    "select_samples = 5\n",
    "sample_from = random.randint(min(data_info[\"index_1\"]), max(data_info[\"index_1\"])-select_samples)\n",
    "fig, ax = plt.subplots(select_samples,1,figsize=(12,12))\n",
    "for i,j in enumerate(range(sample_from, sample_from+select_samples)):\n",
    "\n",
    "    ax[i].plot(data[j][0].T)\n",
    "plt.show()"
   ]
  },
  {
   "cell_type": "code",
   "execution_count": null,
   "id": "5a02d363",
   "metadata": {},
   "outputs": [],
   "source": []
  },
  {
   "cell_type": "code",
   "execution_count": 17,
   "id": "f7a4e5af",
   "metadata": {},
   "outputs": [
    {
     "data": {
      "image/png": "[encoded data removed]",
      "text/plain": [
       "<Figure size 864x864 with 2 Axes>"
      ]
     },
     "metadata": {
      "needs_background": "light"
     },
     "output_type": "display_data"
    }
   ],
   "source": [
    "plot_example(select_samples=2, fail=0)"
   ]
  },
  {
   "cell_type": "code",
   "execution_count": null,
   "id": "c8746077",
   "metadata": {},
   "outputs": [],
   "source": []
  },
  {
   "cell_type": "markdown",
   "id": "dc2ef8a6",
   "metadata": {},
   "source": [
    "## Create dataset"
   ]
  },
  {
   "cell_type": "code",
   "execution_count": null,
   "id": "27b2454d",
   "metadata": {},
   "outputs": [],
   "source": []
  },
  {
   "cell_type": "code",
   "execution_count": 18,
   "id": "0c4cb451",
   "metadata": {},
   "outputs": [],
   "source": [
    "time_steps=3\n",
    "n_cells=108\n",
    "failed_cell=50 \n",
    "sigma=0.0\n",
    "volt_stochastic = 0.9\n",
    "normalize_x=False\n",
    "random_cell_fail=False\n",
    "n_healthy = 1000\n",
    "n_fails = 100\n",
    "\n",
    "data, data_info = create_data(n_healthy=n_healthy, n_fails=n_fails, time_steps=time_steps, random_cell_fail=random_cell_fail, failed_cell=failed_cell,sigma=sigma, volt_stochastic=volt_stochastic, n_cells=n_cells)"
   ]
  },
  {
   "cell_type": "code",
   "execution_count": 78,
   "id": "565b35eb",
   "metadata": {},
   "outputs": [
    {
     "data": {
      "image/png": "[encoded data removed]",
      "text/plain": [
       "<Figure size 864x864 with 2 Axes>"
      ]
     },
     "metadata": {
      "needs_background": "light"
     },
     "output_type": "display_data"
    }
   ],
   "source": [
    "plot_example(select_samples=2, fail=1)"
   ]
  },
  {
   "cell_type": "code",
   "execution_count": 19,
   "id": "a2bf0168",
   "metadata": {},
   "outputs": [],
   "source": [
    "train_size = int(len(data)*0.8)\n",
    "test_size = len(data) - train_size\n",
    "train_set, test_set = torch.utils.data.random_split(data,[train_size, test_size])\n",
    "batch_size = 10\n",
    "train_loader = DataLoader(dataset=train_set, batch_size=batch_size, shuffle=True,drop_last=True)\n",
    "test_loader = DataLoader(dataset=test_set, batch_size=batch_size, shuffle=True,drop_last=True)"
   ]
  },
  {
   "cell_type": "code",
   "execution_count": 20,
   "id": "78b34968",
   "metadata": {},
   "outputs": [
    {
     "ename": "NameError",
     "evalue": "name 'model' is not defined",
     "output_type": "error",
     "traceback": [
      "\u001b[0;31m---------------------------------------------------------------------------\u001b[0m",
      "\u001b[0;31mNameError\u001b[0m                                 Traceback (most recent call last)",
      "\u001b[0;32m/var/folders/jw/61jjk4jd69sbkflvlpjrlv1h0000gn/T/ipykernel_1816/2292115175.py\u001b[0m in \u001b[0;36m<module>\u001b[0;34m\u001b[0m\n\u001b[0;32m----> 1\u001b[0;31m \u001b[0;32mfor\u001b[0m \u001b[0mlayer\u001b[0m \u001b[0;32min\u001b[0m \u001b[0mmodel\u001b[0m\u001b[0;34m.\u001b[0m\u001b[0mchildren\u001b[0m\u001b[0;34m(\u001b[0m\u001b[0;34m)\u001b[0m\u001b[0;34m:\u001b[0m\u001b[0;34m\u001b[0m\u001b[0;34m\u001b[0m\u001b[0m\n\u001b[0m\u001b[1;32m      2\u001b[0m    \u001b[0;32mif\u001b[0m \u001b[0mhasattr\u001b[0m\u001b[0;34m(\u001b[0m\u001b[0mlayer\u001b[0m\u001b[0;34m,\u001b[0m \u001b[0;34m'reset_parameters'\u001b[0m\u001b[0;34m)\u001b[0m\u001b[0;34m:\u001b[0m\u001b[0;34m\u001b[0m\u001b[0;34m\u001b[0m\u001b[0m\n\u001b[1;32m      3\u001b[0m        \u001b[0mlayer\u001b[0m\u001b[0;34m.\u001b[0m\u001b[0mreset_parameters\u001b[0m\u001b[0;34m(\u001b[0m\u001b[0;34m)\u001b[0m\u001b[0;34m\u001b[0m\u001b[0;34m\u001b[0m\u001b[0m\n",
      "\u001b[0;31mNameError\u001b[0m: name 'model' is not defined"
     ]
    }
   ],
   "source": [
    "for layer in model.children():\n",
    "   if hasattr(layer, 'reset_parameters'):\n",
    "       layer.reset_parameters()"
   ]
  },
  {
   "cell_type": "code",
   "execution_count": 21,
   "id": "a2f4bee1",
   "metadata": {},
   "outputs": [],
   "source": [
    "class ANNMultilayerperceptron(nn.Module):\n",
    "\n",
    "    def __init__(self, input_size=(time_steps*n_cells),output_size=2):  # 120, 84\n",
    "        super().__init__()\n",
    "\n",
    "        self.fc1 = nn.Linear(input_size, 200)\n",
    "        self.fc2 = nn.Linear(200, 400)\n",
    "        self.fc2b = nn.Linear(400, 1800)\n",
    "        self.fc2c = nn.Linear(1800, 400)\n",
    "        self.fc2d = nn.Linear(400, 200)\n",
    "        self.fc3 = nn.Linear(200, output_size)\n",
    "\n",
    "    def forward(self,X):\n",
    "        X = F.relu(self.fc1(X))\n",
    "        X = F.relu(self.fc2(X))\n",
    "        X = F.relu(self.fc2b(X))\n",
    "        X = F.relu(self.fc2c(X))\n",
    "        X = F.relu(self.fc2d(X))\n",
    "        X = self.fc3(X)\n",
    "\n",
    "        #return F.log_softmax(X,dim=1) # PGA multiclass classification\n",
    "        return X\n",
    "\n",
    "model = ANNMultilayerperceptron()\n",
    "#model   "
   ]
  },
  {
   "cell_type": "code",
   "execution_count": 82,
   "id": "e65d3518",
   "metadata": {},
   "outputs": [],
   "source": [
    "criterion = nn.CrossEntropyLoss()\n",
    "optimizer = torch.optim.Adam(model.parameters(), lr=0.0001)\n",
    "#optimizer = torch.optim.Adadelta(model.parameters(), lr=0.001)\n",
    "#optimizer = torch.optim.SGD(model.parameters(), lr=0.001)"
   ]
  },
  {
   "cell_type": "code",
   "execution_count": 83,
   "id": "cd05a0d3",
   "metadata": {},
   "outputs": [
    {
     "name": "stdout",
     "output_type": "stream",
     "text": [
      "Epoch 0 Batch: 10 Train Loss: 0.5319185256958008\n",
      "Epoch 0 Batch: 20 Train Loss: 0.33015698194503784\n",
      "Epoch 0 Batch: 30 Train Loss: 0.07508105039596558\n",
      "Epoch 0 Batch: 40 Train Loss: 0.5793259143829346\n",
      "Epoch 0 Batch: 50 Train Loss: 0.10070312023162842\n",
      "Epoch 0 Batch: 60 Train Loss: 0.29111403226852417\n",
      "Epoch 0 Batch: 70 Train Loss: 0.5826246738433838\n",
      "Epoch 0 Batch: 80 Train Loss: 0.5422733426094055\n",
      "Epoch 1 Batch: 10 Train Loss: 0.6019918322563171\n",
      "Epoch 1 Batch: 20 Train Loss: 0.10555599629878998\n",
      "Epoch 1 Batch: 30 Train Loss: 0.052001070231199265\n",
      "Epoch 1 Batch: 40 Train Loss: 0.08610421419143677\n",
      "Epoch 1 Batch: 50 Train Loss: 0.15253882110118866\n",
      "Epoch 1 Batch: 60 Train Loss: 0.5007473230361938\n",
      "Epoch 1 Batch: 70 Train Loss: 0.09778513014316559\n",
      "Epoch 1 Batch: 80 Train Loss: 0.08252100646495819\n",
      "Epoch 2 Batch: 10 Train Loss: 0.5284291505813599\n",
      "Epoch 2 Batch: 20 Train Loss: 0.33166176080703735\n",
      "Epoch 2 Batch: 30 Train Loss: 0.34991255402565\n",
      "Epoch 2 Batch: 40 Train Loss: 0.3158954977989197\n",
      "Epoch 2 Batch: 50 Train Loss: 0.5439983010292053\n",
      "Epoch 2 Batch: 60 Train Loss: 0.1299436390399933\n",
      "Epoch 2 Batch: 70 Train Loss: 0.7999855875968933\n",
      "Epoch 2 Batch: 80 Train Loss: 0.11775599420070648\n",
      "Epoch 3 Batch: 10 Train Loss: 0.44294190406799316\n",
      "Epoch 3 Batch: 20 Train Loss: 0.281724750995636\n",
      "Epoch 3 Batch: 30 Train Loss: 0.053792230784893036\n",
      "Epoch 3 Batch: 40 Train Loss: 0.03715701773762703\n",
      "Epoch 3 Batch: 50 Train Loss: 0.3007427155971527\n",
      "Epoch 3 Batch: 60 Train Loss: 0.2982020974159241\n",
      "Epoch 3 Batch: 70 Train Loss: 0.3345993161201477\n",
      "Epoch 3 Batch: 80 Train Loss: 0.3102240264415741\n",
      "Epoch 4 Batch: 10 Train Loss: 0.08012312650680542\n",
      "Epoch 4 Batch: 20 Train Loss: 0.0448949821293354\n",
      "Epoch 4 Batch: 30 Train Loss: 0.1901036500930786\n",
      "Epoch 4 Batch: 40 Train Loss: 0.04698686674237251\n",
      "Epoch 4 Batch: 50 Train Loss: 0.04605893790721893\n",
      "Epoch 4 Batch: 60 Train Loss: 0.4751512110233307\n",
      "Epoch 4 Batch: 70 Train Loss: 0.09896360337734222\n",
      "Epoch 4 Batch: 80 Train Loss: 0.025316501036286354\n",
      "Epoch 5 Batch: 10 Train Loss: 0.26175278425216675\n",
      "Epoch 5 Batch: 20 Train Loss: 0.3036755919456482\n",
      "Epoch 5 Batch: 30 Train Loss: 0.07709162682294846\n",
      "Epoch 5 Batch: 40 Train Loss: 0.2983190417289734\n",
      "Epoch 5 Batch: 50 Train Loss: 0.28707289695739746\n",
      "Epoch 5 Batch: 60 Train Loss: 0.3526548445224762\n",
      "Epoch 5 Batch: 70 Train Loss: 0.09711065143346786\n",
      "Epoch 5 Batch: 80 Train Loss: 0.21961891651153564\n",
      "Epoch 6 Batch: 10 Train Loss: 0.22869972884655\n",
      "Epoch 6 Batch: 20 Train Loss: 0.12870343029499054\n",
      "Epoch 6 Batch: 30 Train Loss: 1.1740247011184692\n",
      "Epoch 6 Batch: 40 Train Loss: 0.2861207127571106\n",
      "Epoch 6 Batch: 50 Train Loss: 0.3065101206302643\n",
      "Epoch 6 Batch: 60 Train Loss: 0.47660842537879944\n",
      "Epoch 6 Batch: 70 Train Loss: 0.02183210663497448\n",
      "Epoch 6 Batch: 80 Train Loss: 0.2557605803012848\n",
      "Epoch 7 Batch: 10 Train Loss: 0.1995907723903656\n",
      "Epoch 7 Batch: 20 Train Loss: 0.1488516628742218\n",
      "Epoch 7 Batch: 30 Train Loss: 0.027032220736145973\n",
      "Epoch 7 Batch: 40 Train Loss: 0.002351602306589484\n",
      "Epoch 7 Batch: 50 Train Loss: 0.09165375679731369\n",
      "Epoch 7 Batch: 60 Train Loss: 0.0754099190235138\n",
      "Epoch 7 Batch: 70 Train Loss: 0.17114564776420593\n",
      "Epoch 7 Batch: 80 Train Loss: 0.07784509658813477\n",
      "Epoch 8 Batch: 10 Train Loss: 0.2563689947128296\n",
      "Epoch 8 Batch: 20 Train Loss: 0.12919369339942932\n",
      "Epoch 8 Batch: 30 Train Loss: 0.025269631296396255\n",
      "Epoch 8 Batch: 40 Train Loss: 0.08067606389522552\n",
      "Epoch 8 Batch: 50 Train Loss: 0.018416140228509903\n",
      "Epoch 8 Batch: 60 Train Loss: 0.014238621108233929\n",
      "Epoch 8 Batch: 70 Train Loss: 0.004483434371650219\n",
      "Epoch 8 Batch: 80 Train Loss: 0.08156506717205048\n",
      "Epoch 9 Batch: 10 Train Loss: 0.07884696125984192\n",
      "Epoch 9 Batch: 20 Train Loss: 0.0029437325429171324\n",
      "Epoch 9 Batch: 30 Train Loss: 0.009076456539332867\n",
      "Epoch 9 Batch: 40 Train Loss: 0.037709400057792664\n",
      "Epoch 9 Batch: 50 Train Loss: 0.017592180520296097\n",
      "Epoch 9 Batch: 60 Train Loss: 0.03840578347444534\n",
      "Epoch 9 Batch: 70 Train Loss: 0.00479647284373641\n",
      "Epoch 9 Batch: 80 Train Loss: 0.008383318781852722\n",
      "Epoch 10 Batch: 10 Train Loss: 0.006663050502538681\n",
      "Epoch 10 Batch: 20 Train Loss: 0.002784112235531211\n",
      "Epoch 10 Batch: 30 Train Loss: 0.07730278372764587\n",
      "Epoch 10 Batch: 40 Train Loss: 0.0014177856501191854\n",
      "Epoch 10 Batch: 50 Train Loss: 0.007510826922953129\n",
      "Epoch 10 Batch: 60 Train Loss: 0.02691049501299858\n",
      "Epoch 10 Batch: 70 Train Loss: 0.0004279373097233474\n",
      "Epoch 10 Batch: 80 Train Loss: 0.17561712861061096\n",
      "Epoch 11 Batch: 10 Train Loss: 0.05172056704759598\n",
      "Epoch 11 Batch: 20 Train Loss: 0.03282810002565384\n",
      "Epoch 11 Batch: 30 Train Loss: 0.30699843168258667\n",
      "Epoch 11 Batch: 40 Train Loss: 0.03779587149620056\n",
      "Epoch 11 Batch: 50 Train Loss: 0.03216484934091568\n",
      "Epoch 11 Batch: 60 Train Loss: 0.0048972791992127895\n",
      "Epoch 11 Batch: 70 Train Loss: 0.01657312549650669\n",
      "Epoch 11 Batch: 80 Train Loss: 0.6706440448760986\n",
      "Epoch 12 Batch: 10 Train Loss: 0.2669883668422699\n",
      "Epoch 12 Batch: 20 Train Loss: 0.04026756063103676\n",
      "Epoch 12 Batch: 30 Train Loss: 0.0410287082195282\n",
      "Epoch 12 Batch: 40 Train Loss: 0.017785875126719475\n",
      "Epoch 12 Batch: 50 Train Loss: 0.019487204030156136\n",
      "Epoch 12 Batch: 60 Train Loss: 0.08480210602283478\n",
      "Epoch 12 Batch: 70 Train Loss: 0.5515928268432617\n",
      "Epoch 12 Batch: 80 Train Loss: 0.003211668459698558\n",
      "Epoch 13 Batch: 10 Train Loss: 0.004733542911708355\n",
      "Epoch 13 Batch: 20 Train Loss: 0.010867973789572716\n",
      "Epoch 13 Batch: 30 Train Loss: 0.0054814135655760765\n",
      "Epoch 13 Batch: 40 Train Loss: 0.012108998373150826\n",
      "Epoch 13 Batch: 50 Train Loss: 0.0009345614234916866\n",
      "Epoch 13 Batch: 60 Train Loss: 0.023640308529138565\n",
      "Epoch 13 Batch: 70 Train Loss: 0.6601519584655762\n",
      "Epoch 13 Batch: 80 Train Loss: 0.4987240731716156\n",
      "Epoch 14 Batch: 10 Train Loss: 0.2725912630558014\n",
      "Epoch 14 Batch: 20 Train Loss: 0.40505677461624146\n",
      "Epoch 14 Batch: 30 Train Loss: 0.10877132415771484\n",
      "Epoch 14 Batch: 40 Train Loss: 0.04299924522638321\n",
      "Epoch 14 Batch: 50 Train Loss: 0.08494091778993607\n",
      "Epoch 14 Batch: 60 Train Loss: 0.03673216700553894\n",
      "Epoch 14 Batch: 70 Train Loss: 0.007085711695253849\n",
      "Epoch 14 Batch: 80 Train Loss: 0.0719468742609024\n",
      "Epoch 15 Batch: 10 Train Loss: 0.005210404749959707\n",
      "Epoch 15 Batch: 20 Train Loss: 0.0007538481731899083\n",
      "Epoch 15 Batch: 30 Train Loss: 0.004512190353125334\n",
      "Epoch 15 Batch: 40 Train Loss: 0.0008273416315205395\n",
      "Epoch 15 Batch: 50 Train Loss: 0.0003990763798356056\n",
      "Epoch 15 Batch: 60 Train Loss: 0.00021819016546942294\n",
      "Epoch 15 Batch: 70 Train Loss: 0.0032896623015403748\n",
      "Epoch 15 Batch: 80 Train Loss: 0.002152593806385994\n",
      "Epoch 16 Batch: 10 Train Loss: 0.004712176509201527\n",
      "Epoch 16 Batch: 20 Train Loss: 0.0006530323880724609\n",
      "Epoch 16 Batch: 30 Train Loss: 0.2292221039533615\n",
      "Epoch 16 Batch: 40 Train Loss: 0.0037576952017843723\n",
      "Epoch 16 Batch: 50 Train Loss: 0.03232778608798981\n",
      "Epoch 16 Batch: 60 Train Loss: 0.019065309315919876\n",
      "Epoch 16 Batch: 70 Train Loss: 0.0036629620008170605\n",
      "Epoch 16 Batch: 80 Train Loss: 0.01227506436407566\n",
      "Epoch 17 Batch: 10 Train Loss: 0.0012856803368777037\n",
      "Epoch 17 Batch: 20 Train Loss: 0.1456727683544159\n",
      "Epoch 17 Batch: 30 Train Loss: 0.012906184419989586\n",
      "Epoch 17 Batch: 40 Train Loss: 0.003455189522355795\n",
      "Epoch 17 Batch: 50 Train Loss: 0.002896262798458338\n",
      "Epoch 17 Batch: 60 Train Loss: 0.007784225046634674\n",
      "Epoch 17 Batch: 70 Train Loss: 0.002684243256226182\n",
      "Epoch 17 Batch: 80 Train Loss: 0.0019527297699823976\n",
      "Epoch 18 Batch: 10 Train Loss: 0.0009325772407464683\n",
      "Epoch 18 Batch: 20 Train Loss: 0.00022239921963773668\n",
      "Epoch 18 Batch: 30 Train Loss: 0.0001768948568496853\n",
      "Epoch 18 Batch: 40 Train Loss: 7.04359554219991e-05\n",
      "Epoch 18 Batch: 50 Train Loss: 0.0171283520758152\n",
      "Epoch 18 Batch: 60 Train Loss: 0.12666469812393188\n",
      "Epoch 18 Batch: 70 Train Loss: 0.03625951707363129\n",
      "Epoch 18 Batch: 80 Train Loss: 0.007574460003525019\n",
      "Epoch 19 Batch: 10 Train Loss: 0.029183069244027138\n",
      "Epoch 19 Batch: 20 Train Loss: 0.009097812697291374\n",
      "Epoch 19 Batch: 30 Train Loss: 0.09069623053073883\n",
      "Epoch 19 Batch: 40 Train Loss: 0.003851159242913127\n",
      "Epoch 19 Batch: 50 Train Loss: 0.027547141537070274\n",
      "Epoch 19 Batch: 60 Train Loss: 0.008899007923901081\n",
      "Epoch 19 Batch: 70 Train Loss: 0.029761184006929398\n",
      "Epoch 19 Batch: 80 Train Loss: 0.0015381552511826158\n",
      "Epoch 20 Batch: 10 Train Loss: 0.004740078467875719\n",
      "Epoch 20 Batch: 20 Train Loss: 0.004550418816506863\n",
      "Epoch 20 Batch: 30 Train Loss: 0.004073364194482565\n",
      "Epoch 20 Batch: 40 Train Loss: 0.0020802360959351063\n",
      "Epoch 20 Batch: 50 Train Loss: 0.002909773960709572\n",
      "Epoch 20 Batch: 60 Train Loss: 0.00305521534755826\n",
      "Epoch 20 Batch: 70 Train Loss: 0.001817734562791884\n",
      "Epoch 20 Batch: 80 Train Loss: 0.33477655053138733\n",
      "Epoch 21 Batch: 10 Train Loss: 0.00022561333025805652\n",
      "Epoch 21 Batch: 20 Train Loss: 0.003937785048037767\n",
      "Epoch 21 Batch: 30 Train Loss: 0.0003733278135769069\n",
      "Epoch 21 Batch: 40 Train Loss: 0.004229618236422539\n",
      "Epoch 21 Batch: 50 Train Loss: 0.012034369632601738\n",
      "Epoch 21 Batch: 60 Train Loss: 0.007657820824533701\n",
      "Epoch 21 Batch: 70 Train Loss: 0.0030724164098501205\n",
      "Epoch 21 Batch: 80 Train Loss: 0.003903724253177643\n",
      "Epoch 22 Batch: 10 Train Loss: 0.0011139137204736471\n",
      "Epoch 22 Batch: 20 Train Loss: 0.0007486037793569267\n",
      "Epoch 22 Batch: 30 Train Loss: 0.026997437700629234\n",
      "Epoch 22 Batch: 40 Train Loss: 0.7115939855575562\n",
      "Epoch 22 Batch: 50 Train Loss: 0.2538079619407654\n",
      "Epoch 22 Batch: 60 Train Loss: 0.20481428503990173\n",
      "Epoch 22 Batch: 70 Train Loss: 0.060481660068035126\n",
      "Epoch 22 Batch: 80 Train Loss: 0.02814664877951145\n",
      "Epoch 23 Batch: 10 Train Loss: 0.030315672978758812\n",
      "Epoch 23 Batch: 20 Train Loss: 0.010403457097709179\n",
      "Epoch 23 Batch: 30 Train Loss: 0.0043129948899149895\n",
      "Epoch 23 Batch: 40 Train Loss: 0.008782845921814442\n",
      "Epoch 23 Batch: 50 Train Loss: 0.002059988444671035\n",
      "Epoch 23 Batch: 60 Train Loss: 0.001838200376369059\n",
      "Epoch 23 Batch: 70 Train Loss: 0.005661357194185257\n",
      "Epoch 23 Batch: 80 Train Loss: 0.0017113737994804978\n",
      "Epoch 24 Batch: 10 Train Loss: 0.001959229353815317\n",
      "Epoch 24 Batch: 20 Train Loss: 0.0007912487490102649\n",
      "Epoch 24 Batch: 30 Train Loss: 0.024258118122816086\n",
      "Epoch 24 Batch: 40 Train Loss: 0.003441090462729335\n",
      "Epoch 24 Batch: 50 Train Loss: 0.0026449463330209255\n",
      "Epoch 24 Batch: 60 Train Loss: 0.0006315699429251254\n",
      "Epoch 24 Batch: 70 Train Loss: 0.033010341227054596\n",
      "Epoch 24 Batch: 80 Train Loss: 0.003146904055029154\n",
      "Epoch 25 Batch: 10 Train Loss: 0.0016260914271697402\n",
      "Epoch 25 Batch: 20 Train Loss: 0.0024772274773567915\n",
      "Epoch 25 Batch: 30 Train Loss: 0.042133163660764694\n",
      "Epoch 25 Batch: 40 Train Loss: 0.0007464793743565679\n",
      "Epoch 25 Batch: 50 Train Loss: 0.07768984138965607\n",
      "Epoch 25 Batch: 60 Train Loss: 0.4259045124053955\n",
      "Epoch 25 Batch: 70 Train Loss: 0.01414344273507595\n",
      "Epoch 25 Batch: 80 Train Loss: 0.0010817991569638252\n",
      "Epoch 26 Batch: 10 Train Loss: 2.706040504563134e-06\n",
      "Epoch 26 Batch: 20 Train Loss: 0.4958797097206116\n",
      "Epoch 26 Batch: 30 Train Loss: 0.09892736375331879\n",
      "Epoch 26 Batch: 40 Train Loss: 0.08651334047317505\n",
      "Epoch 26 Batch: 50 Train Loss: 0.19716879725456238\n",
      "Epoch 26 Batch: 60 Train Loss: 0.022933479398489\n",
      "Epoch 26 Batch: 70 Train Loss: 0.030510306358337402\n",
      "Epoch 26 Batch: 80 Train Loss: 0.2184666395187378\n",
      "Epoch 27 Batch: 10 Train Loss: 0.050912003964185715\n",
      "Epoch 27 Batch: 20 Train Loss: 0.0075097838416695595\n",
      "Epoch 27 Batch: 30 Train Loss: 0.004303606227040291\n",
      "Epoch 27 Batch: 40 Train Loss: 0.02253502793610096\n",
      "Epoch 27 Batch: 50 Train Loss: 0.045233286917209625\n",
      "Epoch 27 Batch: 60 Train Loss: 0.0036338705103844404\n",
      "Epoch 27 Batch: 70 Train Loss: 0.004435315262526274\n",
      "Epoch 27 Batch: 80 Train Loss: 0.0025970526039600372\n",
      "Epoch 28 Batch: 10 Train Loss: 0.0014844206161797047\n",
      "Epoch 28 Batch: 20 Train Loss: 0.0030615373980253935\n",
      "Epoch 28 Batch: 30 Train Loss: 0.009330136701464653\n",
      "Epoch 28 Batch: 40 Train Loss: 0.001697375439107418\n",
      "Epoch 28 Batch: 50 Train Loss: 0.0010152666363865137\n",
      "Epoch 28 Batch: 60 Train Loss: 0.05717620253562927\n",
      "Epoch 28 Batch: 70 Train Loss: 0.0013924624072387815\n",
      "Epoch 28 Batch: 80 Train Loss: 0.00390004669316113\n",
      "Epoch 29 Batch: 10 Train Loss: 0.05950263887643814\n",
      "Epoch 29 Batch: 20 Train Loss: 0.0314999558031559\n",
      "Epoch 29 Batch: 30 Train Loss: 0.008801434189081192\n",
      "Epoch 29 Batch: 40 Train Loss: 0.002213197760283947\n",
      "Epoch 29 Batch: 50 Train Loss: 0.0031438618898391724\n",
      "Epoch 29 Batch: 60 Train Loss: 0.0022476494777947664\n",
      "Epoch 29 Batch: 70 Train Loss: 0.002341771498322487\n",
      "Epoch 29 Batch: 80 Train Loss: 0.000505786098074168\n"
     ]
    }
   ],
   "source": [
    "#from ignite.metrics import Precision, Recall\n",
    "#from ignite.metrics import Precision ### LÄGG TILL IGNITE\n",
    "#train_precision = Precision()\n",
    "#train_recall = Recall()\n",
    "\n",
    "#test_precision = Precision()\n",
    "#test_recall = Recall()\n",
    "# https://pytorch.org/ignite/metrics.html\n",
    "\n",
    "\n",
    "epochs = 30 # Ju störra dataset ju färre epochs behövs\n",
    "\n",
    "train_losses = []\n",
    "test_losses = []\n",
    "train_correct = []\n",
    "test_correct = []\n",
    "\n",
    "# For loop epochs \n",
    "\n",
    "for i in range(epochs):\n",
    "    trn_correct = 0\n",
    "    tst_correct = 0 \n",
    "\n",
    "    # Train\n",
    "\n",
    "    for b, (X_train, y_train) in enumerate(train_loader):\n",
    "        \n",
    "        # Skip iteration if batch size not equal to stated dim\n",
    "        \n",
    "            \n",
    "        #print(X_train.shape, y_train.shape) \n",
    "        \n",
    "        b += 1\n",
    "        \n",
    "        y_pred = model(X_train.view(batch_size, -1))  # Flatten input\n",
    "        lossTrain = criterion(y_pred, y_train)\n",
    "\n",
    "        predicted = torch.max(y_pred.data,1)[1]\n",
    "\n",
    "        #calculate precision and recall\n",
    "        #train_precision.update((y_pred, y_train))\n",
    "        #train_recall.update((y_pred, y_train))\n",
    "      \n",
    "\n",
    "        batch_corr = (predicted == y_train).sum()\n",
    "        trn_correct += batch_corr\n",
    "\n",
    "        optimizer.zero_grad()\n",
    "        lossTrain.backward()\n",
    "        optimizer.step()\n",
    "\n",
    "        if b%10 == 0: \n",
    "            print(f\"Epoch {i} Batch: {b} Train Loss: {lossTrain.item()}\")\n",
    "\n",
    "    train_losses.append(lossTrain.data.item())\n",
    "    train_correct.append(trn_correct)\n",
    "\n",
    "    # Test\n",
    "    with torch.no_grad():\n",
    "        for b, (X_test,y_test) in enumerate(test_loader):\n",
    "            y_val = model(X_train.view(batch_size, -1))\n",
    "\n",
    "            predicted = torch.max(y_val.data,1)[1]\n",
    "\n",
    "            \n",
    "        loss = criterion(y_val, y_test)\n",
    "        test_losses.append(loss)\n",
    "        test_correct.append(trn_correct)\n",
    "\n",
    "        #if b%2 == 0:\n",
    "            #print(f\"Epoch {i} Batch: {b} Train Loss: {lossTrain.item()} Validation Loss: {loss.item()}\")\n"
   ]
  },
  {
   "cell_type": "code",
   "execution_count": 252,
   "id": "922d958b",
   "metadata": {},
   "outputs": [
    {
     "data": {
      "text/plain": [
       "<matplotlib.legend.Legend at 0x7f271087d970>"
      ]
     },
     "execution_count": 252,
     "metadata": {},
     "output_type": "execute_result"
    },
    {
     "data": {
      "image/png": "[encoded data removed]",
      "text/plain": [
       "<Figure size 432x288 with 1 Axes>"
      ]
     },
     "metadata": {
      "needs_background": "light"
     },
     "output_type": "display_data"
    }
   ],
   "source": [
    "plt.plot(train_losses, label=\"Train losses\")\n",
    "plt.plot(test_losses, label= \"Test losses\")\n",
    "plt.xlabel(\"Epoch\")\n",
    "plt.ylabel(\"Loss\")\n",
    "plt.legend()"
   ]
  },
  {
   "cell_type": "markdown",
   "id": "bb2dcbe3",
   "metadata": {},
   "source": [
    "## Create confusion matrix"
   ]
  },
  {
   "cell_type": "code",
   "execution_count": 87,
   "id": "9b5decb3",
   "metadata": {},
   "outputs": [
    {
     "name": "stdout",
     "output_type": "stream",
     "text": [
      "F1 score 0.7741935483870968\n"
     ]
    },
    {
     "data": {
      "image/png": "[encoded data removed]",
      "text/plain": [
       "<Figure size 432x288 with 2 Axes>"
      ]
     },
     "metadata": {
      "needs_background": "light"
     },
     "output_type": "display_data"
    }
   ],
   "source": [
    "from sklearn.metrics import f1_score\n",
    "test_loader_all = DataLoader(dataset=test_set, batch_size=len(test_set), shuffle=True,drop_last=True)\n",
    "\n",
    "with torch.no_grad():\n",
    "    correct = 0\n",
    "    for X_test, y_test in test_loader_all:\n",
    "        y_val = model(X_test.view(len(test_set),-1))\n",
    "        predicted = torch.max(y_val,1)[1]\n",
    "        correct += (predicted == y_test).sum()\n",
    "        \n",
    "# Create confusion matrix        \n",
    "arr = confusion_matrix(y_test.view(-1), predicted.view(-1))\n",
    "f1 = f1_score(y_test.view(-1), predicted.view(-1))\n",
    "\n",
    "arr2 = np.zeros([2,2])\n",
    "#arr2[0] = (arr[0]/arr.sum())#.astype(int)\n",
    "#arr2[1] = (arr[1]/arr.sum())#.astype(int)\n",
    "\n",
    "arr2[0] = arr[0]/arr[0,:].sum()\n",
    "arr2[1] = arr[1]/arr[1,:].sum()\n",
    "\n",
    "df_cm = pd.DataFrame(arr2)\n",
    "#sns.heatmap(df_cm, annot=True, cmap=\"BuGn\")\n",
    "sns.heatmap(df_cm, annot=True, cmap=\"BuGn\",fmt='.2%')\n",
    "plt.xlabel(\"prediction\")\n",
    "plt.ylabel(\"label (ground truth)\")\n",
    "plt.title(\"Confusion matrix (in percent)\")\n",
    "print(f\"F1 score {f1}\")\n",
    "plt.show()"
   ]
  },
  {
   "cell_type": "code",
   "execution_count": null,
   "id": "46d1553b",
   "metadata": {},
   "outputs": [],
   "source": []
  }
 ],
 "metadata": {
  "interpreter": {
   "hash": "3a5e77589088e21c3c0d4cdd96e34c3b18a8ad86691c2f192753c63150bee9a2"
  },
  "kernelspec": {
   "display_name": "Python 3 (ipykernel)",
   "language": "python",
   "name": "python3"
  },
  "language_info": {
   "codemirror_mode": {
    "name": "ipython",
    "version": 3
   },
   "file_extension": ".py",
   "mimetype": "text/x-python",
   "name": "python",
   "nbconvert_exporter": "python",
   "pygments_lexer": "ipython3",
   "version": "3.8.8"
  }
 },
 "nbformat": 4,
 "nbformat_minor": 5
}
